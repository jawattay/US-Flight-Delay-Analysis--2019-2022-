{
 "cells": [
  {
   "cell_type": "markdown",
   "id": "2380e4cc-6a63-4968-97f9-b98b9d9cd28a",
   "metadata": {},
   "source": [
    "# In this notebook...\n",
    "\n",
    "## I will combine the filtered 2019, 2020, 2021, and 2022 data\n",
    "## This will be extremely useful for future analysis and Tableau\n",
    "## Tableau Public can only handle up to 15 million rows, that is why we are only including 2019-2022\n",
    "## Future analysis should include as many records as possible"
   ]
  },
  {
   "cell_type": "code",
   "execution_count": 1,
   "id": "59956804-de00-4db8-bea0-a85a956ec4d5",
   "metadata": {},
   "outputs": [],
   "source": [
    "import pandas as pd\n",
    "import numpy as np\n",
    "import os"
   ]
  },
  {
   "cell_type": "code",
   "execution_count": 2,
   "id": "16131426-577b-4905-b429-bb5968889a67",
   "metadata": {},
   "outputs": [],
   "source": [
    "# Set path\n",
    "\n",
    "path = r'D:\\Data Analytics\\Flight Delay Analysis\\01 - Data\\Wrangled Data'"
   ]
  },
  {
   "cell_type": "code",
   "execution_count": 3,
   "id": "8ba7c729-1467-41c1-ac78-1df4977011b0",
   "metadata": {},
   "outputs": [
    {
     "name": "stderr",
     "output_type": "stream",
     "text": [
      "C:\\Users\\Josh Wattay\\AppData\\Local\\Temp\\ipykernel_22324\\1594127265.py:3: DtypeWarning: Columns (32) have mixed types. Specify dtype option on import or set low_memory=False.\n",
      "  df19 = pd.read_csv(os.path.join(path, 'flights2019_filtered.csv'), index_col = 0)\n"
     ]
    }
   ],
   "source": [
    "# Import Datasets\n",
    "\n",
    "df19 = pd.read_csv(os.path.join(path, 'flights2019_filtered.csv'), index_col = 0)"
   ]
  },
  {
   "cell_type": "code",
   "execution_count": 4,
   "id": "d299d252-17b1-4f56-95df-326c028ebb4b",
   "metadata": {},
   "outputs": [
    {
     "name": "stderr",
     "output_type": "stream",
     "text": [
      "C:\\Users\\Josh Wattay\\AppData\\Local\\Temp\\ipykernel_22324\\2663530619.py:1: DtypeWarning: Columns (32) have mixed types. Specify dtype option on import or set low_memory=False.\n",
      "  df20 = pd.read_csv(os.path.join(path, 'flights2020_filtered.csv'), index_col = 0)\n"
     ]
    }
   ],
   "source": [
    "df20 = pd.read_csv(os.path.join(path, 'flights2020_filtered.csv'), index_col = 0)"
   ]
  },
  {
   "cell_type": "code",
   "execution_count": 5,
   "id": "bf2a0eb6-0de3-41c2-b88b-f7a8c70a5279",
   "metadata": {},
   "outputs": [
    {
     "name": "stderr",
     "output_type": "stream",
     "text": [
      "C:\\Users\\Josh Wattay\\AppData\\Local\\Temp\\ipykernel_22324\\630118838.py:1: DtypeWarning: Columns (32) have mixed types. Specify dtype option on import or set low_memory=False.\n",
      "  df21 = pd.read_csv(os.path.join(path, 'flights2021_filtered.csv'), index_col = 0)\n"
     ]
    }
   ],
   "source": [
    "df21 = pd.read_csv(os.path.join(path, 'flights2021_filtered.csv'), index_col = 0)"
   ]
  },
  {
   "cell_type": "code",
   "execution_count": 6,
   "id": "7d23662f-5854-4533-8990-a8cb79cd01d2",
   "metadata": {},
   "outputs": [],
   "source": [
    "df22 = pd.read_csv(os.path.join(path, 'flights2022_filtered.csv'), index_col = 0)"
   ]
  },
  {
   "cell_type": "code",
   "execution_count": 7,
   "id": "c62ec335-ebfc-46a9-8c9e-0172262d4515",
   "metadata": {},
   "outputs": [],
   "source": [
    "frames = [df19, df20, df21, df22]"
   ]
  },
  {
   "cell_type": "code",
   "execution_count": 8,
   "id": "1293b309-5eaf-463a-8da6-c7dd83b65f70",
   "metadata": {},
   "outputs": [
    {
     "data": {
      "text/plain": [
       "list"
      ]
     },
     "execution_count": 8,
     "metadata": {},
     "output_type": "execute_result"
    }
   ],
   "source": [
    "type(frames)"
   ]
  },
  {
   "cell_type": "code",
   "execution_count": 9,
   "id": "5ed30ad2-ea82-48bf-98c1-3102b8225c2d",
   "metadata": {},
   "outputs": [],
   "source": [
    "#Concatinate the Dataframes using Default Options\n",
    "\n",
    "all_flights = pd.concat(frames)"
   ]
  },
  {
   "cell_type": "code",
   "execution_count": 10,
   "id": "39c3e2ef-ea31-4785-9278-be762f15c346",
   "metadata": {},
   "outputs": [
    {
     "data": {
      "text/html": [
       "<div>\n",
       "<style scoped>\n",
       "    .dataframe tbody tr th:only-of-type {\n",
       "        vertical-align: middle;\n",
       "    }\n",
       "\n",
       "    .dataframe tbody tr th {\n",
       "        vertical-align: top;\n",
       "    }\n",
       "\n",
       "    .dataframe thead th {\n",
       "        text-align: right;\n",
       "    }\n",
       "</style>\n",
       "<table border=\"1\" class=\"dataframe\">\n",
       "  <thead>\n",
       "    <tr style=\"text-align: right;\">\n",
       "      <th></th>\n",
       "      <th>Year</th>\n",
       "      <th>Quarter</th>\n",
       "      <th>Month</th>\n",
       "      <th>Day_of_Month</th>\n",
       "      <th>Day_of_Week</th>\n",
       "      <th>Flight_Date</th>\n",
       "      <th>Marketing_Airline_Network_Code</th>\n",
       "      <th>Operating_Airline</th>\n",
       "      <th>Tail_Number</th>\n",
       "      <th>Flight_Number_Operating_Airline</th>\n",
       "      <th>...</th>\n",
       "      <th>Distance_Group</th>\n",
       "      <th>Carrier_Delay</th>\n",
       "      <th>Weather_Delay</th>\n",
       "      <th>NAS_Delay</th>\n",
       "      <th>Security_Delay</th>\n",
       "      <th>Late_Aircraft_Delay</th>\n",
       "      <th>Duplicate</th>\n",
       "      <th>Missing_Due_To_Cancellation</th>\n",
       "      <th>Airline</th>\n",
       "      <th>Marketing_Airline_Network</th>\n",
       "    </tr>\n",
       "  </thead>\n",
       "  <tbody>\n",
       "    <tr>\n",
       "      <th>5</th>\n",
       "      <td>2019</td>\n",
       "      <td>1</td>\n",
       "      <td>1</td>\n",
       "      <td>4</td>\n",
       "      <td>5</td>\n",
       "      <td>2019-01-04</td>\n",
       "      <td>UA</td>\n",
       "      <td>OO</td>\n",
       "      <td>N114SY</td>\n",
       "      <td>5661</td>\n",
       "      <td>...</td>\n",
       "      <td>3</td>\n",
       "      <td>NaN</td>\n",
       "      <td>NaN</td>\n",
       "      <td>NaN</td>\n",
       "      <td>NaN</td>\n",
       "      <td>NaN</td>\n",
       "      <td>N</td>\n",
       "      <td>False</td>\n",
       "      <td>SkyWest Airlines Inc.</td>\n",
       "      <td>United Airlines Inc.</td>\n",
       "    </tr>\n",
       "    <tr>\n",
       "      <th>6</th>\n",
       "      <td>2019</td>\n",
       "      <td>1</td>\n",
       "      <td>1</td>\n",
       "      <td>4</td>\n",
       "      <td>5</td>\n",
       "      <td>2019-01-04</td>\n",
       "      <td>UA</td>\n",
       "      <td>OO</td>\n",
       "      <td>N945SW</td>\n",
       "      <td>5664</td>\n",
       "      <td>...</td>\n",
       "      <td>3</td>\n",
       "      <td>NaN</td>\n",
       "      <td>NaN</td>\n",
       "      <td>NaN</td>\n",
       "      <td>NaN</td>\n",
       "      <td>NaN</td>\n",
       "      <td>N</td>\n",
       "      <td>False</td>\n",
       "      <td>SkyWest Airlines Inc.</td>\n",
       "      <td>United Airlines Inc.</td>\n",
       "    </tr>\n",
       "    <tr>\n",
       "      <th>9</th>\n",
       "      <td>2019</td>\n",
       "      <td>1</td>\n",
       "      <td>1</td>\n",
       "      <td>4</td>\n",
       "      <td>5</td>\n",
       "      <td>2019-01-04</td>\n",
       "      <td>UA</td>\n",
       "      <td>OO</td>\n",
       "      <td>N145SY</td>\n",
       "      <td>5668</td>\n",
       "      <td>...</td>\n",
       "      <td>3</td>\n",
       "      <td>NaN</td>\n",
       "      <td>NaN</td>\n",
       "      <td>NaN</td>\n",
       "      <td>NaN</td>\n",
       "      <td>NaN</td>\n",
       "      <td>N</td>\n",
       "      <td>False</td>\n",
       "      <td>SkyWest Airlines Inc.</td>\n",
       "      <td>United Airlines Inc.</td>\n",
       "    </tr>\n",
       "    <tr>\n",
       "      <th>11</th>\n",
       "      <td>2019</td>\n",
       "      <td>1</td>\n",
       "      <td>1</td>\n",
       "      <td>4</td>\n",
       "      <td>5</td>\n",
       "      <td>2019-01-04</td>\n",
       "      <td>UA</td>\n",
       "      <td>OO</td>\n",
       "      <td>N693BR</td>\n",
       "      <td>5670</td>\n",
       "      <td>...</td>\n",
       "      <td>3</td>\n",
       "      <td>13.0</td>\n",
       "      <td>0.0</td>\n",
       "      <td>3.0</td>\n",
       "      <td>0.0</td>\n",
       "      <td>10.0</td>\n",
       "      <td>N</td>\n",
       "      <td>False</td>\n",
       "      <td>SkyWest Airlines Inc.</td>\n",
       "      <td>United Airlines Inc.</td>\n",
       "    </tr>\n",
       "    <tr>\n",
       "      <th>12</th>\n",
       "      <td>2019</td>\n",
       "      <td>1</td>\n",
       "      <td>1</td>\n",
       "      <td>4</td>\n",
       "      <td>5</td>\n",
       "      <td>2019-01-04</td>\n",
       "      <td>UA</td>\n",
       "      <td>OO</td>\n",
       "      <td>N213SY</td>\n",
       "      <td>5671</td>\n",
       "      <td>...</td>\n",
       "      <td>1</td>\n",
       "      <td>NaN</td>\n",
       "      <td>NaN</td>\n",
       "      <td>NaN</td>\n",
       "      <td>NaN</td>\n",
       "      <td>NaN</td>\n",
       "      <td>N</td>\n",
       "      <td>False</td>\n",
       "      <td>SkyWest Airlines Inc.</td>\n",
       "      <td>United Airlines Inc.</td>\n",
       "    </tr>\n",
       "  </tbody>\n",
       "</table>\n",
       "<p>5 rows × 47 columns</p>\n",
       "</div>"
      ],
      "text/plain": [
       "    Year  Quarter  Month  Day_of_Month  Day_of_Week Flight_Date  \\\n",
       "5   2019        1      1             4            5  2019-01-04   \n",
       "6   2019        1      1             4            5  2019-01-04   \n",
       "9   2019        1      1             4            5  2019-01-04   \n",
       "11  2019        1      1             4            5  2019-01-04   \n",
       "12  2019        1      1             4            5  2019-01-04   \n",
       "\n",
       "   Marketing_Airline_Network_Code Operating_Airline Tail_Number  \\\n",
       "5                              UA                OO      N114SY   \n",
       "6                              UA                OO      N945SW   \n",
       "9                              UA                OO      N145SY   \n",
       "11                             UA                OO      N693BR   \n",
       "12                             UA                OO      N213SY   \n",
       "\n",
       "    Flight_Number_Operating_Airline  ... Distance_Group Carrier_Delay  \\\n",
       "5                              5661  ...              3           NaN   \n",
       "6                              5664  ...              3           NaN   \n",
       "9                              5668  ...              3           NaN   \n",
       "11                             5670  ...              3          13.0   \n",
       "12                             5671  ...              1           NaN   \n",
       "\n",
       "   Weather_Delay NAS_Delay Security_Delay Late_Aircraft_Delay Duplicate  \\\n",
       "5            NaN       NaN            NaN                 NaN         N   \n",
       "6            NaN       NaN            NaN                 NaN         N   \n",
       "9            NaN       NaN            NaN                 NaN         N   \n",
       "11           0.0       3.0            0.0                10.0         N   \n",
       "12           NaN       NaN            NaN                 NaN         N   \n",
       "\n",
       "   Missing_Due_To_Cancellation                Airline  \\\n",
       "5                        False  SkyWest Airlines Inc.   \n",
       "6                        False  SkyWest Airlines Inc.   \n",
       "9                        False  SkyWest Airlines Inc.   \n",
       "11                       False  SkyWest Airlines Inc.   \n",
       "12                       False  SkyWest Airlines Inc.   \n",
       "\n",
       "    Marketing_Airline_Network  \n",
       "5        United Airlines Inc.  \n",
       "6        United Airlines Inc.  \n",
       "9        United Airlines Inc.  \n",
       "11       United Airlines Inc.  \n",
       "12       United Airlines Inc.  \n",
       "\n",
       "[5 rows x 47 columns]"
      ]
     },
     "execution_count": 10,
     "metadata": {},
     "output_type": "execute_result"
    }
   ],
   "source": [
    "all_flights.head()"
   ]
  },
  {
   "cell_type": "code",
   "execution_count": 11,
   "id": "a06a6845-8ef7-4fd3-a785-6221f94d1e9c",
   "metadata": {},
   "outputs": [
    {
     "data": {
      "text/html": [
       "<div>\n",
       "<style scoped>\n",
       "    .dataframe tbody tr th:only-of-type {\n",
       "        vertical-align: middle;\n",
       "    }\n",
       "\n",
       "    .dataframe tbody tr th {\n",
       "        vertical-align: top;\n",
       "    }\n",
       "\n",
       "    .dataframe thead th {\n",
       "        text-align: right;\n",
       "    }\n",
       "</style>\n",
       "<table border=\"1\" class=\"dataframe\">\n",
       "  <thead>\n",
       "    <tr style=\"text-align: right;\">\n",
       "      <th></th>\n",
       "      <th>Year</th>\n",
       "      <th>Quarter</th>\n",
       "      <th>Month</th>\n",
       "      <th>Day_of_Month</th>\n",
       "      <th>Day_of_Week</th>\n",
       "      <th>Flight_Date</th>\n",
       "      <th>Marketing_Airline_Network_Code</th>\n",
       "      <th>Operating_Airline</th>\n",
       "      <th>Tail_Number</th>\n",
       "      <th>Flight_Number_Operating_Airline</th>\n",
       "      <th>...</th>\n",
       "      <th>Distance_Group</th>\n",
       "      <th>Carrier_Delay</th>\n",
       "      <th>Weather_Delay</th>\n",
       "      <th>NAS_Delay</th>\n",
       "      <th>Security_Delay</th>\n",
       "      <th>Late_Aircraft_Delay</th>\n",
       "      <th>Duplicate</th>\n",
       "      <th>Missing_Due_To_Cancellation</th>\n",
       "      <th>Airline</th>\n",
       "      <th>Marketing_Airline_Network</th>\n",
       "    </tr>\n",
       "  </thead>\n",
       "  <tbody>\n",
       "    <tr>\n",
       "      <th>7013492</th>\n",
       "      <td>2022</td>\n",
       "      <td>4</td>\n",
       "      <td>12</td>\n",
       "      <td>1</td>\n",
       "      <td>4</td>\n",
       "      <td>2022-12-01</td>\n",
       "      <td>UA</td>\n",
       "      <td>YX</td>\n",
       "      <td>N739YX</td>\n",
       "      <td>3414</td>\n",
       "      <td>...</td>\n",
       "      <td>1</td>\n",
       "      <td>NaN</td>\n",
       "      <td>NaN</td>\n",
       "      <td>NaN</td>\n",
       "      <td>NaN</td>\n",
       "      <td>NaN</td>\n",
       "      <td>N</td>\n",
       "      <td>False</td>\n",
       "      <td>Republic Airlines</td>\n",
       "      <td>United Airlines Inc.</td>\n",
       "    </tr>\n",
       "    <tr>\n",
       "      <th>7013493</th>\n",
       "      <td>2022</td>\n",
       "      <td>4</td>\n",
       "      <td>12</td>\n",
       "      <td>1</td>\n",
       "      <td>4</td>\n",
       "      <td>2022-12-01</td>\n",
       "      <td>UA</td>\n",
       "      <td>YX</td>\n",
       "      <td>N643RW</td>\n",
       "      <td>3413</td>\n",
       "      <td>...</td>\n",
       "      <td>2</td>\n",
       "      <td>0.0</td>\n",
       "      <td>0.0</td>\n",
       "      <td>0.0</td>\n",
       "      <td>0.0</td>\n",
       "      <td>48.0</td>\n",
       "      <td>N</td>\n",
       "      <td>False</td>\n",
       "      <td>Republic Airlines</td>\n",
       "      <td>United Airlines Inc.</td>\n",
       "    </tr>\n",
       "    <tr>\n",
       "      <th>7013494</th>\n",
       "      <td>2022</td>\n",
       "      <td>4</td>\n",
       "      <td>12</td>\n",
       "      <td>1</td>\n",
       "      <td>4</td>\n",
       "      <td>2022-12-01</td>\n",
       "      <td>UA</td>\n",
       "      <td>YX</td>\n",
       "      <td>N729YX</td>\n",
       "      <td>3410</td>\n",
       "      <td>...</td>\n",
       "      <td>3</td>\n",
       "      <td>NaN</td>\n",
       "      <td>NaN</td>\n",
       "      <td>NaN</td>\n",
       "      <td>NaN</td>\n",
       "      <td>NaN</td>\n",
       "      <td>N</td>\n",
       "      <td>False</td>\n",
       "      <td>Republic Airlines</td>\n",
       "      <td>United Airlines Inc.</td>\n",
       "    </tr>\n",
       "    <tr>\n",
       "      <th>7013495</th>\n",
       "      <td>2022</td>\n",
       "      <td>4</td>\n",
       "      <td>12</td>\n",
       "      <td>1</td>\n",
       "      <td>4</td>\n",
       "      <td>2022-12-01</td>\n",
       "      <td>UA</td>\n",
       "      <td>YX</td>\n",
       "      <td>N646RW</td>\n",
       "      <td>3409</td>\n",
       "      <td>...</td>\n",
       "      <td>1</td>\n",
       "      <td>NaN</td>\n",
       "      <td>NaN</td>\n",
       "      <td>NaN</td>\n",
       "      <td>NaN</td>\n",
       "      <td>NaN</td>\n",
       "      <td>N</td>\n",
       "      <td>False</td>\n",
       "      <td>Republic Airlines</td>\n",
       "      <td>United Airlines Inc.</td>\n",
       "    </tr>\n",
       "    <tr>\n",
       "      <th>7013500</th>\n",
       "      <td>2022</td>\n",
       "      <td>4</td>\n",
       "      <td>12</td>\n",
       "      <td>1</td>\n",
       "      <td>4</td>\n",
       "      <td>2022-12-01</td>\n",
       "      <td>UA</td>\n",
       "      <td>YX</td>\n",
       "      <td>N750YX</td>\n",
       "      <td>3401</td>\n",
       "      <td>...</td>\n",
       "      <td>2</td>\n",
       "      <td>NaN</td>\n",
       "      <td>NaN</td>\n",
       "      <td>NaN</td>\n",
       "      <td>NaN</td>\n",
       "      <td>NaN</td>\n",
       "      <td>N</td>\n",
       "      <td>False</td>\n",
       "      <td>Republic Airlines</td>\n",
       "      <td>United Airlines Inc.</td>\n",
       "    </tr>\n",
       "  </tbody>\n",
       "</table>\n",
       "<p>5 rows × 47 columns</p>\n",
       "</div>"
      ],
      "text/plain": [
       "         Year  Quarter  Month  Day_of_Month  Day_of_Week Flight_Date  \\\n",
       "7013492  2022        4     12             1            4  2022-12-01   \n",
       "7013493  2022        4     12             1            4  2022-12-01   \n",
       "7013494  2022        4     12             1            4  2022-12-01   \n",
       "7013495  2022        4     12             1            4  2022-12-01   \n",
       "7013500  2022        4     12             1            4  2022-12-01   \n",
       "\n",
       "        Marketing_Airline_Network_Code Operating_Airline Tail_Number  \\\n",
       "7013492                             UA                YX      N739YX   \n",
       "7013493                             UA                YX      N643RW   \n",
       "7013494                             UA                YX      N729YX   \n",
       "7013495                             UA                YX      N646RW   \n",
       "7013500                             UA                YX      N750YX   \n",
       "\n",
       "         Flight_Number_Operating_Airline  ... Distance_Group Carrier_Delay  \\\n",
       "7013492                             3414  ...              1           NaN   \n",
       "7013493                             3413  ...              2           0.0   \n",
       "7013494                             3410  ...              3           NaN   \n",
       "7013495                             3409  ...              1           NaN   \n",
       "7013500                             3401  ...              2           NaN   \n",
       "\n",
       "        Weather_Delay NAS_Delay Security_Delay Late_Aircraft_Delay Duplicate  \\\n",
       "7013492           NaN       NaN            NaN                 NaN         N   \n",
       "7013493           0.0       0.0            0.0                48.0         N   \n",
       "7013494           NaN       NaN            NaN                 NaN         N   \n",
       "7013495           NaN       NaN            NaN                 NaN         N   \n",
       "7013500           NaN       NaN            NaN                 NaN         N   \n",
       "\n",
       "        Missing_Due_To_Cancellation            Airline  \\\n",
       "7013492                       False  Republic Airlines   \n",
       "7013493                       False  Republic Airlines   \n",
       "7013494                       False  Republic Airlines   \n",
       "7013495                       False  Republic Airlines   \n",
       "7013500                       False  Republic Airlines   \n",
       "\n",
       "         Marketing_Airline_Network  \n",
       "7013492       United Airlines Inc.  \n",
       "7013493       United Airlines Inc.  \n",
       "7013494       United Airlines Inc.  \n",
       "7013495       United Airlines Inc.  \n",
       "7013500       United Airlines Inc.  \n",
       "\n",
       "[5 rows x 47 columns]"
      ]
     },
     "execution_count": 11,
     "metadata": {},
     "output_type": "execute_result"
    }
   ],
   "source": [
    "all_flights.tail()"
   ]
  },
  {
   "cell_type": "code",
   "execution_count": 12,
   "id": "e146ea40-96ac-42c4-8de2-10c3747bf2c2",
   "metadata": {},
   "outputs": [
    {
     "data": {
      "text/plain": [
       "(12608046, 47)"
      ]
     },
     "execution_count": 12,
     "metadata": {},
     "output_type": "execute_result"
    }
   ],
   "source": [
    "all_flights.shape"
   ]
  },
  {
   "cell_type": "code",
   "execution_count": 13,
   "id": "caba2c32-957c-4dcf-9ef3-d46db2c90128",
   "metadata": {},
   "outputs": [
    {
     "data": {
      "text/plain": [
       "Index(['Year', 'Quarter', 'Month', 'Day_of_Month', 'Day_of_Week',\n",
       "       'Flight_Date', 'Marketing_Airline_Network_Code', 'Operating_Airline',\n",
       "       'Tail_Number', 'Flight_Number_Operating_Airline', 'Origin',\n",
       "       'Origin_City_Name', 'Origin_State', 'Origin_State_Name', 'Dest',\n",
       "       'Dest_City_Name', 'Dest_State', 'Dest_State_Name', 'Dep_Time',\n",
       "       'Dep_Delay', 'Dep_Delay_Minutes', 'Dep_Del_15',\n",
       "       'Departure_Delay_Groups', 'Dep_Time_Blk', 'Arr_Time', 'Arr_Delay',\n",
       "       'Arr_Delay_Minutes', 'Arr_Del_15', 'Arrival_Delay_Groups',\n",
       "       'Arr_Time_Blk', 'Cancelled', 'Cancellation_Code', 'Diverted',\n",
       "       'Actual_Elapsed_Time', 'Air_Time', 'Flights', 'Distance',\n",
       "       'Distance_Group', 'Carrier_Delay', 'Weather_Delay', 'NAS_Delay',\n",
       "       'Security_Delay', 'Late_Aircraft_Delay', 'Duplicate',\n",
       "       'Missing_Due_To_Cancellation', 'Airline', 'Marketing_Airline_Network'],\n",
       "      dtype='object')"
      ]
     },
     "execution_count": 13,
     "metadata": {},
     "output_type": "execute_result"
    }
   ],
   "source": [
    "all_flights.columns"
   ]
  },
  {
   "cell_type": "code",
   "execution_count": 14,
   "id": "4ad94622-f7d9-45bc-9500-13211e12caa1",
   "metadata": {},
   "outputs": [
    {
     "data": {
      "text/plain": [
       "(12608046, 47)"
      ]
     },
     "execution_count": 14,
     "metadata": {},
     "output_type": "execute_result"
    }
   ],
   "source": [
    "all_flights.shape"
   ]
  },
  {
   "cell_type": "code",
   "execution_count": 15,
   "id": "dc85b6c8-a792-4e12-9f13-fea46e293c76",
   "metadata": {},
   "outputs": [],
   "source": [
    "# Save combined flight data for further analysis\n",
    "\n",
    "all_flights.to_csv(os.path.join(path, 'all_flights.csv'))"
   ]
  }
 ],
 "metadata": {
  "kernelspec": {
   "display_name": "Python 3 (ipykernel)",
   "language": "python",
   "name": "python3"
  },
  "language_info": {
   "codemirror_mode": {
    "name": "ipython",
    "version": 3
   },
   "file_extension": ".py",
   "mimetype": "text/x-python",
   "name": "python",
   "nbconvert_exporter": "python",
   "pygments_lexer": "ipython3",
   "version": "3.11.5"
  }
 },
 "nbformat": 4,
 "nbformat_minor": 5
}
