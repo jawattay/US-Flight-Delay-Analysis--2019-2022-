{
 "cells": [
  {
   "cell_type": "markdown",
   "id": "16fc8b68-5e2c-4765-9c22-b55ef6a74b2f",
   "metadata": {},
   "source": [
    "# In this Notebook"
   ]
  },
  {
   "cell_type": "markdown",
   "id": "c50a4d95-c412-40ea-9995-63eef9f87b35",
   "metadata": {},
   "source": [
    "## I will be dropping irrelevant columns from the monthly datasets for 1-2019 through 12-2023"
   ]
  },
  {
   "cell_type": "code",
   "execution_count": 11,
   "id": "1fcd1762-41c7-4a0e-8cd6-db92b15e84fb",
   "metadata": {},
   "outputs": [
    {
     "name": "stderr",
     "output_type": "stream",
     "text": [
      "C:\\Users\\Josh Wattay\\AppData\\Local\\Temp\\ipykernel_7620\\714460617.py:28: DtypeWarning: Columns (11,13,57,86,93,94) have mixed types. Specify dtype option on import or set low_memory=False.\n",
      "  df = pd.read_csv(file_path)\n"
     ]
    },
    {
     "name": "stdout",
     "output_type": "stream",
     "text": [
      "Processed and saved data for January 2019\n"
     ]
    }
   ],
   "source": [
    "import pandas as pd\n",
    "import os\n",
    "\n",
    "# Define the path for the January 2019 file\n",
    "file_path = r'C:\\Users\\Josh Wattay\\OneDrive\\Documents\\Desktop\\Flight Delay Analysis - Raw Data\\2019\\1-2019.csv'\n",
    "\n",
    "# List of columns to keep, with updated column names\n",
    "columns_to_keep = ['Year', 'Quarter', 'Month', 'DayofMonth', 'DayOfWeek', 'FlightDate', \n",
    "                   'Marketing_Airline_Network', 'DOT_ID_Marketing_Airline', \n",
    "                   'IATA_Code_Marketing_Airline', 'Flight_Number_Marketing_Airline', \n",
    "                   'Operating_Airline ', 'DOT_ID_Operating_Airline', 'IATA_Code_Operating_Airline', \n",
    "                   'Tail_Number', 'Flight_Number_Operating_Airline', 'OriginAirportID', \n",
    "                   'OriginAirportSeqID', 'OriginCityMarketID', 'Origin', 'OriginCityName', \n",
    "                   'OriginState', 'OriginStateFips', 'OriginStateName', 'DestAirportID', \n",
    "                   'DestAirportSeqID', 'DestCityMarketID', 'Dest', 'DestCityName', 'DestState', \n",
    "                   'DestStateFips', 'DestStateName', 'CRSDepTime', 'DepTime', 'DepDelay', \n",
    "                   'DepDelayMinutes', 'DepDel15', 'DepartureDelayGroups', 'DepTimeBlk', 'TaxiOut', \n",
    "                   'WheelsOff', 'WheelsOn', 'TaxiIn', 'CRSArrTime', 'ArrTime', 'ArrDelay', \n",
    "                   'ArrDelayMinutes', 'ArrTimeBlk', 'Cancelled', 'CancellationCode', 'Diverted', \n",
    "                   'Duplicate', 'CRSElapsedTime', 'ActualElapsedTime', 'AirTime', 'Flights', \n",
    "                   'Distance', 'DistanceGroup', 'CarrierDelay', 'WeatherDelay', 'NASDelay', \n",
    "                   'SecurityDelay', 'LateAircraftDelay', 'FirstDepTime', 'TotalAddGTime', \n",
    "                   'LongestAddGTime']\n",
    "\n",
    "# Function to process the January 2019 file\n",
    "def process_january_2019():\n",
    "    if os.path.exists(file_path):\n",
    "        df = pd.read_csv(file_path)\n",
    "        \n",
    "        # Drop irrelevant columns\n",
    "        df = df[columns_to_keep]\n",
    "        \n",
    "        # Save the processed DataFrame to a new .csv file\n",
    "        output_path = r'C:\\Users\\Josh Wattay\\OneDrive\\Documents\\Desktop\\Flight Delay Analysis - Raw Data\\2019\\1-2019_processed.csv'\n",
    "        df.to_csv(output_path, index=False)\n",
    "        print(f'Processed and saved data for January 2019')\n",
    "    else:\n",
    "        print(f\"File {file_path} does not exist.\")\n",
    "\n",
    "# Process the January 2019 file\n",
    "process_january_2019()"
   ]
  },
  {
   "cell_type": "code",
   "execution_count": 13,
   "id": "1011368d-a4da-468e-ba03-c93f0564c507",
   "metadata": {},
   "outputs": [],
   "source": [
    "# Define the path for the processed January 2019 file\n",
    "processed_file_path = r'C:\\Users\\Josh Wattay\\OneDrive\\Documents\\Desktop\\Flight Delay Analysis - Raw Data\\2019\\1-2019_processed.csv'"
   ]
  },
  {
   "cell_type": "code",
   "execution_count": 14,
   "id": "7c86c048-175c-489a-94b3-ab718b77de94",
   "metadata": {},
   "outputs": [
    {
     "name": "stderr",
     "output_type": "stream",
     "text": [
      "C:\\Users\\Josh Wattay\\AppData\\Local\\Temp\\ipykernel_7620\\1669907748.py:1: DtypeWarning: Columns (48) have mixed types. Specify dtype option on import or set low_memory=False.\n",
      "  df = pd.read_csv(processed_file_path)\n"
     ]
    }
   ],
   "source": [
    "df = pd.read_csv(processed_file_path)"
   ]
  },
  {
   "cell_type": "code",
   "execution_count": 15,
   "id": "8611c252-2b28-4e83-8e42-733e0454dce4",
   "metadata": {},
   "outputs": [
    {
     "data": {
      "text/html": [
       "<div>\n",
       "<style scoped>\n",
       "    .dataframe tbody tr th:only-of-type {\n",
       "        vertical-align: middle;\n",
       "    }\n",
       "\n",
       "    .dataframe tbody tr th {\n",
       "        vertical-align: top;\n",
       "    }\n",
       "\n",
       "    .dataframe thead th {\n",
       "        text-align: right;\n",
       "    }\n",
       "</style>\n",
       "<table border=\"1\" class=\"dataframe\">\n",
       "  <thead>\n",
       "    <tr style=\"text-align: right;\">\n",
       "      <th></th>\n",
       "      <th>Year</th>\n",
       "      <th>Quarter</th>\n",
       "      <th>Month</th>\n",
       "      <th>DayofMonth</th>\n",
       "      <th>DayOfWeek</th>\n",
       "      <th>FlightDate</th>\n",
       "      <th>Marketing_Airline_Network</th>\n",
       "      <th>DOT_ID_Marketing_Airline</th>\n",
       "      <th>IATA_Code_Marketing_Airline</th>\n",
       "      <th>Flight_Number_Marketing_Airline</th>\n",
       "      <th>...</th>\n",
       "      <th>Distance</th>\n",
       "      <th>DistanceGroup</th>\n",
       "      <th>CarrierDelay</th>\n",
       "      <th>WeatherDelay</th>\n",
       "      <th>NASDelay</th>\n",
       "      <th>SecurityDelay</th>\n",
       "      <th>LateAircraftDelay</th>\n",
       "      <th>FirstDepTime</th>\n",
       "      <th>TotalAddGTime</th>\n",
       "      <th>LongestAddGTime</th>\n",
       "    </tr>\n",
       "  </thead>\n",
       "  <tbody>\n",
       "    <tr>\n",
       "      <th>0</th>\n",
       "      <td>2019</td>\n",
       "      <td>1</td>\n",
       "      <td>1</td>\n",
       "      <td>4</td>\n",
       "      <td>5</td>\n",
       "      <td>2019-01-04</td>\n",
       "      <td>UA</td>\n",
       "      <td>19977</td>\n",
       "      <td>UA</td>\n",
       "      <td>5657</td>\n",
       "      <td>...</td>\n",
       "      <td>190.0</td>\n",
       "      <td>1</td>\n",
       "      <td>NaN</td>\n",
       "      <td>NaN</td>\n",
       "      <td>NaN</td>\n",
       "      <td>NaN</td>\n",
       "      <td>NaN</td>\n",
       "      <td>NaN</td>\n",
       "      <td>NaN</td>\n",
       "      <td>NaN</td>\n",
       "    </tr>\n",
       "    <tr>\n",
       "      <th>1</th>\n",
       "      <td>2019</td>\n",
       "      <td>1</td>\n",
       "      <td>1</td>\n",
       "      <td>4</td>\n",
       "      <td>5</td>\n",
       "      <td>2019-01-04</td>\n",
       "      <td>UA</td>\n",
       "      <td>19977</td>\n",
       "      <td>UA</td>\n",
       "      <td>5658</td>\n",
       "      <td>...</td>\n",
       "      <td>438.0</td>\n",
       "      <td>2</td>\n",
       "      <td>NaN</td>\n",
       "      <td>NaN</td>\n",
       "      <td>NaN</td>\n",
       "      <td>NaN</td>\n",
       "      <td>NaN</td>\n",
       "      <td>NaN</td>\n",
       "      <td>NaN</td>\n",
       "      <td>NaN</td>\n",
       "    </tr>\n",
       "    <tr>\n",
       "      <th>2</th>\n",
       "      <td>2019</td>\n",
       "      <td>1</td>\n",
       "      <td>1</td>\n",
       "      <td>4</td>\n",
       "      <td>5</td>\n",
       "      <td>2019-01-04</td>\n",
       "      <td>UA</td>\n",
       "      <td>19977</td>\n",
       "      <td>UA</td>\n",
       "      <td>5658</td>\n",
       "      <td>...</td>\n",
       "      <td>513.0</td>\n",
       "      <td>3</td>\n",
       "      <td>NaN</td>\n",
       "      <td>NaN</td>\n",
       "      <td>NaN</td>\n",
       "      <td>NaN</td>\n",
       "      <td>NaN</td>\n",
       "      <td>NaN</td>\n",
       "      <td>NaN</td>\n",
       "      <td>NaN</td>\n",
       "    </tr>\n",
       "    <tr>\n",
       "      <th>3</th>\n",
       "      <td>2019</td>\n",
       "      <td>1</td>\n",
       "      <td>1</td>\n",
       "      <td>4</td>\n",
       "      <td>5</td>\n",
       "      <td>2019-01-04</td>\n",
       "      <td>UA</td>\n",
       "      <td>19977</td>\n",
       "      <td>UA</td>\n",
       "      <td>5659</td>\n",
       "      <td>...</td>\n",
       "      <td>576.0</td>\n",
       "      <td>3</td>\n",
       "      <td>NaN</td>\n",
       "      <td>NaN</td>\n",
       "      <td>NaN</td>\n",
       "      <td>NaN</td>\n",
       "      <td>NaN</td>\n",
       "      <td>NaN</td>\n",
       "      <td>NaN</td>\n",
       "      <td>NaN</td>\n",
       "    </tr>\n",
       "    <tr>\n",
       "      <th>4</th>\n",
       "      <td>2019</td>\n",
       "      <td>1</td>\n",
       "      <td>1</td>\n",
       "      <td>4</td>\n",
       "      <td>5</td>\n",
       "      <td>2019-01-04</td>\n",
       "      <td>UA</td>\n",
       "      <td>19977</td>\n",
       "      <td>UA</td>\n",
       "      <td>5660</td>\n",
       "      <td>...</td>\n",
       "      <td>896.0</td>\n",
       "      <td>4</td>\n",
       "      <td>NaN</td>\n",
       "      <td>NaN</td>\n",
       "      <td>NaN</td>\n",
       "      <td>NaN</td>\n",
       "      <td>NaN</td>\n",
       "      <td>NaN</td>\n",
       "      <td>NaN</td>\n",
       "      <td>NaN</td>\n",
       "    </tr>\n",
       "  </tbody>\n",
       "</table>\n",
       "<p>5 rows × 65 columns</p>\n",
       "</div>"
      ],
      "text/plain": [
       "   Year  Quarter  Month  DayofMonth  DayOfWeek  FlightDate  \\\n",
       "0  2019        1      1           4          5  2019-01-04   \n",
       "1  2019        1      1           4          5  2019-01-04   \n",
       "2  2019        1      1           4          5  2019-01-04   \n",
       "3  2019        1      1           4          5  2019-01-04   \n",
       "4  2019        1      1           4          5  2019-01-04   \n",
       "\n",
       "  Marketing_Airline_Network  DOT_ID_Marketing_Airline  \\\n",
       "0                        UA                     19977   \n",
       "1                        UA                     19977   \n",
       "2                        UA                     19977   \n",
       "3                        UA                     19977   \n",
       "4                        UA                     19977   \n",
       "\n",
       "  IATA_Code_Marketing_Airline  Flight_Number_Marketing_Airline  ... Distance  \\\n",
       "0                          UA                             5657  ...    190.0   \n",
       "1                          UA                             5658  ...    438.0   \n",
       "2                          UA                             5658  ...    513.0   \n",
       "3                          UA                             5659  ...    576.0   \n",
       "4                          UA                             5660  ...    896.0   \n",
       "\n",
       "   DistanceGroup CarrierDelay WeatherDelay  NASDelay  SecurityDelay  \\\n",
       "0              1          NaN          NaN       NaN            NaN   \n",
       "1              2          NaN          NaN       NaN            NaN   \n",
       "2              3          NaN          NaN       NaN            NaN   \n",
       "3              3          NaN          NaN       NaN            NaN   \n",
       "4              4          NaN          NaN       NaN            NaN   \n",
       "\n",
       "   LateAircraftDelay  FirstDepTime TotalAddGTime LongestAddGTime  \n",
       "0                NaN           NaN           NaN             NaN  \n",
       "1                NaN           NaN           NaN             NaN  \n",
       "2                NaN           NaN           NaN             NaN  \n",
       "3                NaN           NaN           NaN             NaN  \n",
       "4                NaN           NaN           NaN             NaN  \n",
       "\n",
       "[5 rows x 65 columns]"
      ]
     },
     "execution_count": 15,
     "metadata": {},
     "output_type": "execute_result"
    }
   ],
   "source": [
    "df.head()"
   ]
  },
  {
   "cell_type": "code",
   "execution_count": 16,
   "id": "8f9e0880-b9d6-41d5-a662-b3631e1bfaa7",
   "metadata": {},
   "outputs": [
    {
     "data": {
      "text/plain": [
       "(638649, 65)"
      ]
     },
     "execution_count": 16,
     "metadata": {},
     "output_type": "execute_result"
    }
   ],
   "source": [
    "df.shape"
   ]
  },
  {
   "cell_type": "code",
   "execution_count": 17,
   "id": "b2946046-9c6c-421c-8810-52291a335446",
   "metadata": {},
   "outputs": [
    {
     "data": {
      "text/plain": [
       "0         False\n",
       "1         False\n",
       "2         False\n",
       "3         False\n",
       "4         False\n",
       "          ...  \n",
       "638644    False\n",
       "638645    False\n",
       "638646    False\n",
       "638647    False\n",
       "638648    False\n",
       "Length: 638649, dtype: bool"
      ]
     },
     "execution_count": 17,
     "metadata": {},
     "output_type": "execute_result"
    }
   ],
   "source": [
    "df.duplicated()"
   ]
  },
  {
   "cell_type": "code",
   "execution_count": 18,
   "id": "c53cd325-8e26-4208-9d13-6ea3e4106aaa",
   "metadata": {},
   "outputs": [
    {
     "data": {
      "text/plain": [
       "0         False\n",
       "1         False\n",
       "2         False\n",
       "3         False\n",
       "4         False\n",
       "          ...  \n",
       "638644    False\n",
       "638645    False\n",
       "638646    False\n",
       "638647    False\n",
       "638648    False\n",
       "Length: 638649, dtype: bool"
      ]
     },
     "execution_count": 18,
     "metadata": {},
     "output_type": "execute_result"
    }
   ],
   "source": [
    "dups = df.duplicated()\n",
    "dups"
   ]
  },
  {
   "cell_type": "code",
   "execution_count": 19,
   "id": "dbabde17-c984-4809-a454-38bfe20b4efe",
   "metadata": {},
   "outputs": [
    {
     "name": "stdout",
     "output_type": "stream",
     "text": [
      "Removed 0 duplicate rows\n"
     ]
    }
   ],
   "source": [
    "# Check for duplicates and remove them\n",
    "initial_row_count = len(df)\n",
    "df.drop_duplicates(inplace=True)\n",
    "duplicates_removed = initial_row_count - len(df)\n",
    "print(f\"Removed {duplicates_removed} duplicate rows\")"
   ]
  },
  {
   "cell_type": "code",
   "execution_count": 20,
   "id": "d00ae4b5-5b2a-4619-9f0f-9d19dc26b0ae",
   "metadata": {},
   "outputs": [
    {
     "name": "stdout",
     "output_type": "stream",
     "text": [
      "Missing values per column:\n",
      "Tail_Number               4685\n",
      "DepTime                  19099\n",
      "DepDelay                 19102\n",
      "DepDelayMinutes          19102\n",
      "DepDel15                 19102\n",
      "DepartureDelayGroups     19102\n",
      "TaxiOut                  19396\n",
      "WheelsOff                19396\n",
      "WheelsOn                 19939\n",
      "TaxiIn                   19939\n",
      "ArrTime                  19939\n",
      "ArrDelay                 21000\n",
      "ArrDelayMinutes          21000\n",
      "CancellationCode        619099\n",
      "CRSElapsedTime               8\n",
      "ActualElapsedTime        21000\n",
      "AirTime                  21000\n",
      "CarrierDelay            521505\n",
      "WeatherDelay            521505\n",
      "NASDelay                521505\n",
      "SecurityDelay           521505\n",
      "LateAircraftDelay       521505\n",
      "FirstDepTime            634266\n",
      "TotalAddGTime           634267\n",
      "LongestAddGTime         634266\n",
      "dtype: int64\n"
     ]
    }
   ],
   "source": [
    "# Check for missing or null values\n",
    "missing_values_count = df.isnull().sum()\n",
    "print(\"Missing values per column:\")\n",
    "print(missing_values_count[missing_values_count > 0])"
   ]
  },
  {
   "cell_type": "code",
   "execution_count": 28,
   "id": "96ce7687-4b6d-4109-8ab9-7cf74e5c6add",
   "metadata": {},
   "outputs": [
    {
     "name": "stderr",
     "output_type": "stream",
     "text": [
      "C:\\Users\\Josh Wattay\\AppData\\Local\\Temp\\ipykernel_7620\\3235261236.py:4: FutureWarning: errors='ignore' is deprecated and will raise in a future version. Use to_numeric without passing `errors` and catch exceptions explicitly instead\n",
      "  df[column] = pd.to_numeric(df[column], errors='ignore')\n"
     ]
    }
   ],
   "source": [
    "# Check for mixed data types in columns and handle them\n",
    "for column in df.columns:\n",
    "    if df[column].dtype == 'object':\n",
    "        df[column] = pd.to_numeric(df[column], errors='ignore')"
   ]
  },
  {
   "cell_type": "code",
   "execution_count": 29,
   "id": "4fcf89f2-fff8-4e52-a5ac-4b50f4ece4fc",
   "metadata": {},
   "outputs": [
    {
     "data": {
      "text/plain": [
       "Year                   int64\n",
       "Quarter                int64\n",
       "Month                  int64\n",
       "DayofMonth             int64\n",
       "DayOfWeek              int64\n",
       "                      ...   \n",
       "SecurityDelay        float64\n",
       "LateAircraftDelay    float64\n",
       "FirstDepTime         float64\n",
       "TotalAddGTime        float64\n",
       "LongestAddGTime      float64\n",
       "Length: 65, dtype: object"
      ]
     },
     "execution_count": 29,
     "metadata": {},
     "output_type": "execute_result"
    }
   ],
   "source": [
    "df.dtypes"
   ]
  },
  {
   "cell_type": "code",
   "execution_count": 31,
   "id": "119e6af2-777f-41d5-acb4-a600f7f77223",
   "metadata": {},
   "outputs": [],
   "source": [
    "# Convert data types to reduce memory usage\n",
    "for column in df.select_dtypes(include=['float64']).columns:\n",
    "    df[column] = df[column].astype('float32')\n",
    "    \n",
    "for column in df.select_dtypes(include=['int64']).columns:\n",
    "    df[column] = df[column].astype('int32')"
   ]
  },
  {
   "cell_type": "code",
   "execution_count": 33,
   "id": "2c8a633f-fe97-476c-a4d7-04933c58f162",
   "metadata": {},
   "outputs": [
    {
     "name": "stdout",
     "output_type": "stream",
     "text": [
      "Cleaned data saved to C:\\Users\\Josh Wattay\\OneDrive\\Documents\\Desktop\\Flight Delay Analysis - Raw Data\\2019\\1-2019_cleaned.csv\n"
     ]
    }
   ],
   "source": [
    "# Save the cleaned DataFrame to a new .csv file\n",
    "output_cleaned_path = r'C:\\Users\\Josh Wattay\\OneDrive\\Documents\\Desktop\\Flight Delay Analysis - Raw Data\\2019\\1-2019_cleaned.csv'\n",
    "df.to_csv(output_cleaned_path, index=False)\n",
    "print(f'Cleaned data saved to {output_cleaned_path}')"
   ]
  },
  {
   "cell_type": "code",
   "execution_count": null,
   "id": "2c35e298-fa6c-473f-a1c6-6842398730b8",
   "metadata": {},
   "outputs": [],
   "source": []
  }
 ],
 "metadata": {
  "kernelspec": {
   "display_name": "Python 3 (ipykernel)",
   "language": "python",
   "name": "python3"
  },
  "language_info": {
   "codemirror_mode": {
    "name": "ipython",
    "version": 3
   },
   "file_extension": ".py",
   "mimetype": "text/x-python",
   "name": "python",
   "nbconvert_exporter": "python",
   "pygments_lexer": "ipython3",
   "version": "3.11.5"
  }
 },
 "nbformat": 4,
 "nbformat_minor": 5
}
