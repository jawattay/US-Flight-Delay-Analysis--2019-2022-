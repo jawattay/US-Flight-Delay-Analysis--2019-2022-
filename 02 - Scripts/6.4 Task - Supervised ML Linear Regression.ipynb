{
 "cells": [
  {
   "cell_type": "markdown",
   "id": "3efe0279-d1b8-4031-90c8-4a82489b4e96",
   "metadata": {},
   "source": [
    "## In this Notebook\n",
    "\n",
    "### 1. Import Libraries\n",
    "### 2. Import Data\n",
    "### 3. Clean Data\n",
    "### 4. Explore Data (Visually)\n",
    "### 5. State Hypothesis\n",
    "### 6. Reshape Variables into NumPy Arrays\n",
    "### 7. Split the Data into Two Sets: Train and Test\n",
    "### 8. Run a Linear Regression on the Data\n",
    "### 9. Plot Regression Line on Test Set\n",
    "### 10. Interpret Fit of Regression Line on Test Set\n",
    "### 11. Check Model Performance Statistics - R2 and MSE\n",
    "### 12. Thoughts and Reflections on Performance of Model and possible Data Bias"
   ]
  },
  {
   "cell_type": "code",
   "execution_count": 1,
   "id": "c6113583-baf9-4dc2-9ede-657c29e20f33",
   "metadata": {},
   "outputs": [],
   "source": [
    "# Import Libraries\n",
    "\n",
    "import pandas as pd\n",
    "import numpy as np\n",
    "import seaborn as sns\n",
    "import matplotlib\n",
    "import matplotlib.pyplot as plt\n",
    "import os\n",
    "import sklearn\n",
    "from sklearn.model_selection import train_test_split \n",
    "from sklearn.linear_model import LinearRegression\n",
    "from sklearn.metrics import mean_squared_error, r2_score"
   ]
  },
  {
   "cell_type": "code",
   "execution_count": 2,
   "id": "48d2a2ab-5d27-4125-93ef-cd6567073518",
   "metadata": {},
   "outputs": [],
   "source": [
    "# This option ensures that the graphs are displayed within the notebook without the need to \"call\" them specifically.\n",
    "\n",
    "%matplotlib inline"
   ]
  },
  {
   "cell_type": "markdown",
   "id": "203a0566-17da-4d9b-ab47-6fca3a73c033",
   "metadata": {},
   "source": [
    "### 2. Import Data"
   ]
  },
  {
   "cell_type": "code",
   "execution_count": 3,
   "id": "70b36b05-dc33-404d-a943-4a49c439ce57",
   "metadata": {},
   "outputs": [],
   "source": [
    "# Set Path\n",
    "\n",
    "path = r'C:\\Users\\Josh Wattay\\anaconda3\\Flight Delay Analysis'"
   ]
  },
  {
   "cell_type": "code",
   "execution_count": 4,
   "id": "87ceed0a-a037-4711-89e5-8b5248e3a9a8",
   "metadata": {},
   "outputs": [],
   "source": [
    "df = pd.read_csv(os.path.join(path, '02 Data', 'Clean Data', 'Flights_Clean.csv'))"
   ]
  },
  {
   "cell_type": "code",
   "execution_count": 5,
   "id": "6963be72-6fe1-4d0e-a36d-f91077289087",
   "metadata": {},
   "outputs": [
    {
     "data": {
      "text/plain": [
       "Index(['FlightDate', 'Airline', 'Origin', 'Dest', 'Cancelled', 'Diverted',\n",
       "       'CRSDepTime', 'DepTime', 'DepDelayMinutes', 'DepDelay', 'ArrTime',\n",
       "       'ArrDelayMinutes', 'AirTime', 'CRSElapsedTime', 'ActualElapsedTime',\n",
       "       'Distance', 'Year', 'Quarter', 'Month', 'DayofMonth', 'DayOfWeek',\n",
       "       'Marketing_Airline_Network', 'Operated_or_Branded_Code_Share_Partners',\n",
       "       'DOT_ID_Marketing_Airline', 'IATA_Code_Marketing_Airline',\n",
       "       'Flight_Number_Marketing_Airline', 'Operating_Airline',\n",
       "       'DOT_ID_Operating_Airline', 'IATA_Code_Operating_Airline',\n",
       "       'Tail_Number', 'Flight_Number_Operating_Airline', 'OriginAirportID',\n",
       "       'OriginAirportSeqID', 'OriginCityMarketID', 'OriginCityName',\n",
       "       'OriginState', 'OriginStateFips', 'OriginStateName', 'OriginWac',\n",
       "       'DestAirportID', 'DestAirportSeqID', 'DestCityMarketID', 'DestCityName',\n",
       "       'DestState', 'DestStateFips', 'DestStateName', 'DestWac', 'DepDel15',\n",
       "       'DepartureDelayGroups', 'DepTimeBlk', 'TaxiOut', 'WheelsOff',\n",
       "       'WheelsOn', 'TaxiIn', 'CRSArrTime', 'ArrDelay', 'ArrDel15',\n",
       "       'ArrivalDelayGroups', 'ArrTimeBlk', 'DistanceGroup',\n",
       "       'DivAirportLandings'],\n",
       "      dtype='object')"
      ]
     },
     "execution_count": 5,
     "metadata": {},
     "output_type": "execute_result"
    }
   ],
   "source": [
    "df.columns"
   ]
  },
  {
   "cell_type": "code",
   "execution_count": 6,
   "id": "3395b6f5-b4df-486d-a868-5a0c98204d58",
   "metadata": {},
   "outputs": [
    {
     "data": {
      "text/html": [
       "<div>\n",
       "<style scoped>\n",
       "    .dataframe tbody tr th:only-of-type {\n",
       "        vertical-align: middle;\n",
       "    }\n",
       "\n",
       "    .dataframe tbody tr th {\n",
       "        vertical-align: top;\n",
       "    }\n",
       "\n",
       "    .dataframe thead th {\n",
       "        text-align: right;\n",
       "    }\n",
       "</style>\n",
       "<table border=\"1\" class=\"dataframe\">\n",
       "  <thead>\n",
       "    <tr style=\"text-align: right;\">\n",
       "      <th></th>\n",
       "      <th>FlightDate</th>\n",
       "      <th>Airline</th>\n",
       "      <th>Origin</th>\n",
       "      <th>Dest</th>\n",
       "      <th>Cancelled</th>\n",
       "      <th>Diverted</th>\n",
       "      <th>CRSDepTime</th>\n",
       "      <th>DepTime</th>\n",
       "      <th>DepDelayMinutes</th>\n",
       "      <th>DepDelay</th>\n",
       "      <th>...</th>\n",
       "      <th>WheelsOff</th>\n",
       "      <th>WheelsOn</th>\n",
       "      <th>TaxiIn</th>\n",
       "      <th>CRSArrTime</th>\n",
       "      <th>ArrDelay</th>\n",
       "      <th>ArrDel15</th>\n",
       "      <th>ArrivalDelayGroups</th>\n",
       "      <th>ArrTimeBlk</th>\n",
       "      <th>DistanceGroup</th>\n",
       "      <th>DivAirportLandings</th>\n",
       "    </tr>\n",
       "  </thead>\n",
       "  <tbody>\n",
       "    <tr>\n",
       "      <th>0</th>\n",
       "      <td>2018-12-02</td>\n",
       "      <td>Comair Inc.</td>\n",
       "      <td>DCA</td>\n",
       "      <td>BTV</td>\n",
       "      <td>False</td>\n",
       "      <td>False</td>\n",
       "      <td>1459</td>\n",
       "      <td>1533.0</td>\n",
       "      <td>34.0</td>\n",
       "      <td>34.0</td>\n",
       "      <td>...</td>\n",
       "      <td>1554.0</td>\n",
       "      <td>1655.0</td>\n",
       "      <td>2.0</td>\n",
       "      <td>1631</td>\n",
       "      <td>26.0</td>\n",
       "      <td>1.0</td>\n",
       "      <td>1.0</td>\n",
       "      <td>1600-1659</td>\n",
       "      <td>2</td>\n",
       "      <td>0.0</td>\n",
       "    </tr>\n",
       "    <tr>\n",
       "      <th>1</th>\n",
       "      <td>2018-06-30</td>\n",
       "      <td>Spirit Air Lines</td>\n",
       "      <td>ATL</td>\n",
       "      <td>LAS</td>\n",
       "      <td>False</td>\n",
       "      <td>False</td>\n",
       "      <td>1810</td>\n",
       "      <td>1833.0</td>\n",
       "      <td>23.0</td>\n",
       "      <td>23.0</td>\n",
       "      <td>...</td>\n",
       "      <td>1850.0</td>\n",
       "      <td>1951.0</td>\n",
       "      <td>4.0</td>\n",
       "      <td>1920</td>\n",
       "      <td>35.0</td>\n",
       "      <td>1.0</td>\n",
       "      <td>2.0</td>\n",
       "      <td>1900-1959</td>\n",
       "      <td>7</td>\n",
       "      <td>0.0</td>\n",
       "    </tr>\n",
       "    <tr>\n",
       "      <th>2</th>\n",
       "      <td>2018-02-11</td>\n",
       "      <td>Frontier Airlines Inc.</td>\n",
       "      <td>MCI</td>\n",
       "      <td>RSW</td>\n",
       "      <td>False</td>\n",
       "      <td>False</td>\n",
       "      <td>1234</td>\n",
       "      <td>1241.0</td>\n",
       "      <td>7.0</td>\n",
       "      <td>7.0</td>\n",
       "      <td>...</td>\n",
       "      <td>1249.0</td>\n",
       "      <td>1620.0</td>\n",
       "      <td>22.0</td>\n",
       "      <td>1619</td>\n",
       "      <td>23.0</td>\n",
       "      <td>1.0</td>\n",
       "      <td>1.0</td>\n",
       "      <td>1600-1659</td>\n",
       "      <td>5</td>\n",
       "      <td>0.0</td>\n",
       "    </tr>\n",
       "    <tr>\n",
       "      <th>3</th>\n",
       "      <td>2018-06-22</td>\n",
       "      <td>United Air Lines Inc.</td>\n",
       "      <td>DEN</td>\n",
       "      <td>CID</td>\n",
       "      <td>False</td>\n",
       "      <td>False</td>\n",
       "      <td>2017</td>\n",
       "      <td>2156.0</td>\n",
       "      <td>99.0</td>\n",
       "      <td>99.0</td>\n",
       "      <td>...</td>\n",
       "      <td>2211.0</td>\n",
       "      <td>33.0</td>\n",
       "      <td>4.0</td>\n",
       "      <td>2303</td>\n",
       "      <td>94.0</td>\n",
       "      <td>1.0</td>\n",
       "      <td>6.0</td>\n",
       "      <td>2300-2359</td>\n",
       "      <td>3</td>\n",
       "      <td>0.0</td>\n",
       "    </tr>\n",
       "    <tr>\n",
       "      <th>4</th>\n",
       "      <td>2018-10-19</td>\n",
       "      <td>SkyWest Airlines Inc.</td>\n",
       "      <td>BGM</td>\n",
       "      <td>DTW</td>\n",
       "      <td>False</td>\n",
       "      <td>False</td>\n",
       "      <td>1728</td>\n",
       "      <td>1725.0</td>\n",
       "      <td>0.0</td>\n",
       "      <td>-3.0</td>\n",
       "      <td>...</td>\n",
       "      <td>1733.0</td>\n",
       "      <td>1846.0</td>\n",
       "      <td>7.0</td>\n",
       "      <td>1904</td>\n",
       "      <td>-11.0</td>\n",
       "      <td>0.0</td>\n",
       "      <td>-1.0</td>\n",
       "      <td>1900-1959</td>\n",
       "      <td>2</td>\n",
       "      <td>0.0</td>\n",
       "    </tr>\n",
       "    <tr>\n",
       "      <th>5</th>\n",
       "      <td>2018-08-07</td>\n",
       "      <td>United Air Lines Inc.</td>\n",
       "      <td>SFO</td>\n",
       "      <td>ATL</td>\n",
       "      <td>False</td>\n",
       "      <td>False</td>\n",
       "      <td>1040</td>\n",
       "      <td>1048.0</td>\n",
       "      <td>8.0</td>\n",
       "      <td>8.0</td>\n",
       "      <td>...</td>\n",
       "      <td>1119.0</td>\n",
       "      <td>1836.0</td>\n",
       "      <td>6.0</td>\n",
       "      <td>1835</td>\n",
       "      <td>7.0</td>\n",
       "      <td>0.0</td>\n",
       "      <td>0.0</td>\n",
       "      <td>1800-1859</td>\n",
       "      <td>9</td>\n",
       "      <td>0.0</td>\n",
       "    </tr>\n",
       "    <tr>\n",
       "      <th>6</th>\n",
       "      <td>2018-12-01</td>\n",
       "      <td>Mesa Airlines Inc.</td>\n",
       "      <td>MAF</td>\n",
       "      <td>DFW</td>\n",
       "      <td>False</td>\n",
       "      <td>False</td>\n",
       "      <td>1234</td>\n",
       "      <td>1404.0</td>\n",
       "      <td>90.0</td>\n",
       "      <td>90.0</td>\n",
       "      <td>...</td>\n",
       "      <td>1420.0</td>\n",
       "      <td>1503.0</td>\n",
       "      <td>8.0</td>\n",
       "      <td>1348</td>\n",
       "      <td>83.0</td>\n",
       "      <td>1.0</td>\n",
       "      <td>5.0</td>\n",
       "      <td>1300-1359</td>\n",
       "      <td>2</td>\n",
       "      <td>0.0</td>\n",
       "    </tr>\n",
       "    <tr>\n",
       "      <th>7</th>\n",
       "      <td>2018-01-02</td>\n",
       "      <td>SkyWest Airlines Inc.</td>\n",
       "      <td>GEG</td>\n",
       "      <td>SFO</td>\n",
       "      <td>False</td>\n",
       "      <td>False</td>\n",
       "      <td>555</td>\n",
       "      <td>550.0</td>\n",
       "      <td>0.0</td>\n",
       "      <td>-5.0</td>\n",
       "      <td>...</td>\n",
       "      <td>614.0</td>\n",
       "      <td>802.0</td>\n",
       "      <td>6.0</td>\n",
       "      <td>815</td>\n",
       "      <td>-7.0</td>\n",
       "      <td>0.0</td>\n",
       "      <td>-1.0</td>\n",
       "      <td>0800-0859</td>\n",
       "      <td>3</td>\n",
       "      <td>0.0</td>\n",
       "    </tr>\n",
       "    <tr>\n",
       "      <th>8</th>\n",
       "      <td>2018-11-25</td>\n",
       "      <td>Mesa Airlines Inc.</td>\n",
       "      <td>MFE</td>\n",
       "      <td>DFW</td>\n",
       "      <td>False</td>\n",
       "      <td>False</td>\n",
       "      <td>1104</td>\n",
       "      <td>1102.0</td>\n",
       "      <td>0.0</td>\n",
       "      <td>-2.0</td>\n",
       "      <td>...</td>\n",
       "      <td>1131.0</td>\n",
       "      <td>1234.0</td>\n",
       "      <td>8.0</td>\n",
       "      <td>1240</td>\n",
       "      <td>2.0</td>\n",
       "      <td>0.0</td>\n",
       "      <td>0.0</td>\n",
       "      <td>1200-1259</td>\n",
       "      <td>2</td>\n",
       "      <td>0.0</td>\n",
       "    </tr>\n",
       "    <tr>\n",
       "      <th>9</th>\n",
       "      <td>2018-11-04</td>\n",
       "      <td>Delta Air Lines Inc.</td>\n",
       "      <td>ATL</td>\n",
       "      <td>CLE</td>\n",
       "      <td>False</td>\n",
       "      <td>False</td>\n",
       "      <td>821</td>\n",
       "      <td>818.0</td>\n",
       "      <td>0.0</td>\n",
       "      <td>-3.0</td>\n",
       "      <td>...</td>\n",
       "      <td>825.0</td>\n",
       "      <td>941.0</td>\n",
       "      <td>3.0</td>\n",
       "      <td>959</td>\n",
       "      <td>-15.0</td>\n",
       "      <td>0.0</td>\n",
       "      <td>-1.0</td>\n",
       "      <td>0900-0959</td>\n",
       "      <td>3</td>\n",
       "      <td>0.0</td>\n",
       "    </tr>\n",
       "    <tr>\n",
       "      <th>10</th>\n",
       "      <td>2018-12-23</td>\n",
       "      <td>Commutair Aka Champlain Enterprises, Inc.</td>\n",
       "      <td>BUF</td>\n",
       "      <td>EWR</td>\n",
       "      <td>False</td>\n",
       "      <td>False</td>\n",
       "      <td>715</td>\n",
       "      <td>711.0</td>\n",
       "      <td>0.0</td>\n",
       "      <td>-4.0</td>\n",
       "      <td>...</td>\n",
       "      <td>747.0</td>\n",
       "      <td>832.0</td>\n",
       "      <td>6.0</td>\n",
       "      <td>853</td>\n",
       "      <td>-15.0</td>\n",
       "      <td>0.0</td>\n",
       "      <td>-1.0</td>\n",
       "      <td>0800-0859</td>\n",
       "      <td>2</td>\n",
       "      <td>0.0</td>\n",
       "    </tr>\n",
       "    <tr>\n",
       "      <th>11</th>\n",
       "      <td>2018-10-18</td>\n",
       "      <td>American Airlines Inc.</td>\n",
       "      <td>ORD</td>\n",
       "      <td>CLT</td>\n",
       "      <td>False</td>\n",
       "      <td>False</td>\n",
       "      <td>1820</td>\n",
       "      <td>1826.0</td>\n",
       "      <td>6.0</td>\n",
       "      <td>6.0</td>\n",
       "      <td>...</td>\n",
       "      <td>1852.0</td>\n",
       "      <td>2113.0</td>\n",
       "      <td>10.0</td>\n",
       "      <td>2117</td>\n",
       "      <td>6.0</td>\n",
       "      <td>0.0</td>\n",
       "      <td>0.0</td>\n",
       "      <td>2100-2159</td>\n",
       "      <td>3</td>\n",
       "      <td>0.0</td>\n",
       "    </tr>\n",
       "    <tr>\n",
       "      <th>12</th>\n",
       "      <td>2018-09-10</td>\n",
       "      <td>Southwest Airlines Co.</td>\n",
       "      <td>ATL</td>\n",
       "      <td>FLL</td>\n",
       "      <td>False</td>\n",
       "      <td>False</td>\n",
       "      <td>650</td>\n",
       "      <td>646.0</td>\n",
       "      <td>0.0</td>\n",
       "      <td>-4.0</td>\n",
       "      <td>...</td>\n",
       "      <td>658.0</td>\n",
       "      <td>819.0</td>\n",
       "      <td>3.0</td>\n",
       "      <td>835</td>\n",
       "      <td>-13.0</td>\n",
       "      <td>0.0</td>\n",
       "      <td>-1.0</td>\n",
       "      <td>0800-0859</td>\n",
       "      <td>3</td>\n",
       "      <td>0.0</td>\n",
       "    </tr>\n",
       "    <tr>\n",
       "      <th>13</th>\n",
       "      <td>2018-06-14</td>\n",
       "      <td>Southwest Airlines Co.</td>\n",
       "      <td>LAS</td>\n",
       "      <td>STL</td>\n",
       "      <td>False</td>\n",
       "      <td>False</td>\n",
       "      <td>2040</td>\n",
       "      <td>2038.0</td>\n",
       "      <td>0.0</td>\n",
       "      <td>-2.0</td>\n",
       "      <td>...</td>\n",
       "      <td>2047.0</td>\n",
       "      <td>127.0</td>\n",
       "      <td>3.0</td>\n",
       "      <td>150</td>\n",
       "      <td>-20.0</td>\n",
       "      <td>0.0</td>\n",
       "      <td>-2.0</td>\n",
       "      <td>0001-0559</td>\n",
       "      <td>6</td>\n",
       "      <td>0.0</td>\n",
       "    </tr>\n",
       "    <tr>\n",
       "      <th>14</th>\n",
       "      <td>2018-12-19</td>\n",
       "      <td>Delta Air Lines Inc.</td>\n",
       "      <td>SLC</td>\n",
       "      <td>CVG</td>\n",
       "      <td>False</td>\n",
       "      <td>False</td>\n",
       "      <td>1115</td>\n",
       "      <td>1251.0</td>\n",
       "      <td>96.0</td>\n",
       "      <td>96.0</td>\n",
       "      <td>...</td>\n",
       "      <td>1308.0</td>\n",
       "      <td>1756.0</td>\n",
       "      <td>4.0</td>\n",
       "      <td>1638</td>\n",
       "      <td>82.0</td>\n",
       "      <td>1.0</td>\n",
       "      <td>5.0</td>\n",
       "      <td>1600-1659</td>\n",
       "      <td>6</td>\n",
       "      <td>0.0</td>\n",
       "    </tr>\n",
       "    <tr>\n",
       "      <th>15</th>\n",
       "      <td>2018-10-02</td>\n",
       "      <td>United Air Lines Inc.</td>\n",
       "      <td>EWR</td>\n",
       "      <td>IAH</td>\n",
       "      <td>False</td>\n",
       "      <td>False</td>\n",
       "      <td>840</td>\n",
       "      <td>839.0</td>\n",
       "      <td>0.0</td>\n",
       "      <td>-1.0</td>\n",
       "      <td>...</td>\n",
       "      <td>912.0</td>\n",
       "      <td>1104.0</td>\n",
       "      <td>10.0</td>\n",
       "      <td>1111</td>\n",
       "      <td>3.0</td>\n",
       "      <td>0.0</td>\n",
       "      <td>0.0</td>\n",
       "      <td>1100-1159</td>\n",
       "      <td>6</td>\n",
       "      <td>0.0</td>\n",
       "    </tr>\n",
       "    <tr>\n",
       "      <th>16</th>\n",
       "      <td>2018-04-16</td>\n",
       "      <td>Spirit Air Lines</td>\n",
       "      <td>LGA</td>\n",
       "      <td>FLL</td>\n",
       "      <td>False</td>\n",
       "      <td>False</td>\n",
       "      <td>1530</td>\n",
       "      <td>1723.0</td>\n",
       "      <td>113.0</td>\n",
       "      <td>113.0</td>\n",
       "      <td>...</td>\n",
       "      <td>1745.0</td>\n",
       "      <td>2017.0</td>\n",
       "      <td>19.0</td>\n",
       "      <td>1837</td>\n",
       "      <td>119.0</td>\n",
       "      <td>1.0</td>\n",
       "      <td>7.0</td>\n",
       "      <td>1800-1859</td>\n",
       "      <td>5</td>\n",
       "      <td>0.0</td>\n",
       "    </tr>\n",
       "    <tr>\n",
       "      <th>17</th>\n",
       "      <td>2018-08-16</td>\n",
       "      <td>United Air Lines Inc.</td>\n",
       "      <td>BOS</td>\n",
       "      <td>EWR</td>\n",
       "      <td>False</td>\n",
       "      <td>False</td>\n",
       "      <td>945</td>\n",
       "      <td>941.0</td>\n",
       "      <td>0.0</td>\n",
       "      <td>-4.0</td>\n",
       "      <td>...</td>\n",
       "      <td>953.0</td>\n",
       "      <td>1038.0</td>\n",
       "      <td>12.0</td>\n",
       "      <td>1105</td>\n",
       "      <td>-15.0</td>\n",
       "      <td>0.0</td>\n",
       "      <td>-1.0</td>\n",
       "      <td>1100-1159</td>\n",
       "      <td>1</td>\n",
       "      <td>0.0</td>\n",
       "    </tr>\n",
       "    <tr>\n",
       "      <th>18</th>\n",
       "      <td>2018-07-15</td>\n",
       "      <td>Republic Airlines</td>\n",
       "      <td>IAH</td>\n",
       "      <td>CRP</td>\n",
       "      <td>False</td>\n",
       "      <td>False</td>\n",
       "      <td>1805</td>\n",
       "      <td>1802.0</td>\n",
       "      <td>0.0</td>\n",
       "      <td>-3.0</td>\n",
       "      <td>...</td>\n",
       "      <td>1814.0</td>\n",
       "      <td>1855.0</td>\n",
       "      <td>4.0</td>\n",
       "      <td>1907</td>\n",
       "      <td>-8.0</td>\n",
       "      <td>0.0</td>\n",
       "      <td>-1.0</td>\n",
       "      <td>1900-1959</td>\n",
       "      <td>1</td>\n",
       "      <td>0.0</td>\n",
       "    </tr>\n",
       "    <tr>\n",
       "      <th>19</th>\n",
       "      <td>2018-02-27</td>\n",
       "      <td>ExpressJet Airlines Inc.</td>\n",
       "      <td>IAH</td>\n",
       "      <td>AEX</td>\n",
       "      <td>False</td>\n",
       "      <td>False</td>\n",
       "      <td>2005</td>\n",
       "      <td>1955.0</td>\n",
       "      <td>0.0</td>\n",
       "      <td>-10.0</td>\n",
       "      <td>...</td>\n",
       "      <td>2015.0</td>\n",
       "      <td>2051.0</td>\n",
       "      <td>4.0</td>\n",
       "      <td>2105</td>\n",
       "      <td>-10.0</td>\n",
       "      <td>0.0</td>\n",
       "      <td>-1.0</td>\n",
       "      <td>2100-2159</td>\n",
       "      <td>1</td>\n",
       "      <td>0.0</td>\n",
       "    </tr>\n",
       "  </tbody>\n",
       "</table>\n",
       "<p>20 rows × 61 columns</p>\n",
       "</div>"
      ],
      "text/plain": [
       "    FlightDate                                    Airline Origin Dest  \\\n",
       "0   2018-12-02                                Comair Inc.    DCA  BTV   \n",
       "1   2018-06-30                           Spirit Air Lines    ATL  LAS   \n",
       "2   2018-02-11                     Frontier Airlines Inc.    MCI  RSW   \n",
       "3   2018-06-22                      United Air Lines Inc.    DEN  CID   \n",
       "4   2018-10-19                      SkyWest Airlines Inc.    BGM  DTW   \n",
       "5   2018-08-07                      United Air Lines Inc.    SFO  ATL   \n",
       "6   2018-12-01                         Mesa Airlines Inc.    MAF  DFW   \n",
       "7   2018-01-02                      SkyWest Airlines Inc.    GEG  SFO   \n",
       "8   2018-11-25                         Mesa Airlines Inc.    MFE  DFW   \n",
       "9   2018-11-04                       Delta Air Lines Inc.    ATL  CLE   \n",
       "10  2018-12-23  Commutair Aka Champlain Enterprises, Inc.    BUF  EWR   \n",
       "11  2018-10-18                     American Airlines Inc.    ORD  CLT   \n",
       "12  2018-09-10                     Southwest Airlines Co.    ATL  FLL   \n",
       "13  2018-06-14                     Southwest Airlines Co.    LAS  STL   \n",
       "14  2018-12-19                       Delta Air Lines Inc.    SLC  CVG   \n",
       "15  2018-10-02                      United Air Lines Inc.    EWR  IAH   \n",
       "16  2018-04-16                           Spirit Air Lines    LGA  FLL   \n",
       "17  2018-08-16                      United Air Lines Inc.    BOS  EWR   \n",
       "18  2018-07-15                          Republic Airlines    IAH  CRP   \n",
       "19  2018-02-27                   ExpressJet Airlines Inc.    IAH  AEX   \n",
       "\n",
       "    Cancelled  Diverted  CRSDepTime  DepTime  DepDelayMinutes  DepDelay  ...  \\\n",
       "0       False     False        1459   1533.0             34.0      34.0  ...   \n",
       "1       False     False        1810   1833.0             23.0      23.0  ...   \n",
       "2       False     False        1234   1241.0              7.0       7.0  ...   \n",
       "3       False     False        2017   2156.0             99.0      99.0  ...   \n",
       "4       False     False        1728   1725.0              0.0      -3.0  ...   \n",
       "5       False     False        1040   1048.0              8.0       8.0  ...   \n",
       "6       False     False        1234   1404.0             90.0      90.0  ...   \n",
       "7       False     False         555    550.0              0.0      -5.0  ...   \n",
       "8       False     False        1104   1102.0              0.0      -2.0  ...   \n",
       "9       False     False         821    818.0              0.0      -3.0  ...   \n",
       "10      False     False         715    711.0              0.0      -4.0  ...   \n",
       "11      False     False        1820   1826.0              6.0       6.0  ...   \n",
       "12      False     False         650    646.0              0.0      -4.0  ...   \n",
       "13      False     False        2040   2038.0              0.0      -2.0  ...   \n",
       "14      False     False        1115   1251.0             96.0      96.0  ...   \n",
       "15      False     False         840    839.0              0.0      -1.0  ...   \n",
       "16      False     False        1530   1723.0            113.0     113.0  ...   \n",
       "17      False     False         945    941.0              0.0      -4.0  ...   \n",
       "18      False     False        1805   1802.0              0.0      -3.0  ...   \n",
       "19      False     False        2005   1955.0              0.0     -10.0  ...   \n",
       "\n",
       "    WheelsOff  WheelsOn  TaxiIn  CRSArrTime  ArrDelay  ArrDel15  \\\n",
       "0      1554.0    1655.0     2.0        1631      26.0       1.0   \n",
       "1      1850.0    1951.0     4.0        1920      35.0       1.0   \n",
       "2      1249.0    1620.0    22.0        1619      23.0       1.0   \n",
       "3      2211.0      33.0     4.0        2303      94.0       1.0   \n",
       "4      1733.0    1846.0     7.0        1904     -11.0       0.0   \n",
       "5      1119.0    1836.0     6.0        1835       7.0       0.0   \n",
       "6      1420.0    1503.0     8.0        1348      83.0       1.0   \n",
       "7       614.0     802.0     6.0         815      -7.0       0.0   \n",
       "8      1131.0    1234.0     8.0        1240       2.0       0.0   \n",
       "9       825.0     941.0     3.0         959     -15.0       0.0   \n",
       "10      747.0     832.0     6.0         853     -15.0       0.0   \n",
       "11     1852.0    2113.0    10.0        2117       6.0       0.0   \n",
       "12      658.0     819.0     3.0         835     -13.0       0.0   \n",
       "13     2047.0     127.0     3.0         150     -20.0       0.0   \n",
       "14     1308.0    1756.0     4.0        1638      82.0       1.0   \n",
       "15      912.0    1104.0    10.0        1111       3.0       0.0   \n",
       "16     1745.0    2017.0    19.0        1837     119.0       1.0   \n",
       "17      953.0    1038.0    12.0        1105     -15.0       0.0   \n",
       "18     1814.0    1855.0     4.0        1907      -8.0       0.0   \n",
       "19     2015.0    2051.0     4.0        2105     -10.0       0.0   \n",
       "\n",
       "    ArrivalDelayGroups  ArrTimeBlk  DistanceGroup  DivAirportLandings  \n",
       "0                  1.0   1600-1659              2                 0.0  \n",
       "1                  2.0   1900-1959              7                 0.0  \n",
       "2                  1.0   1600-1659              5                 0.0  \n",
       "3                  6.0   2300-2359              3                 0.0  \n",
       "4                 -1.0   1900-1959              2                 0.0  \n",
       "5                  0.0   1800-1859              9                 0.0  \n",
       "6                  5.0   1300-1359              2                 0.0  \n",
       "7                 -1.0   0800-0859              3                 0.0  \n",
       "8                  0.0   1200-1259              2                 0.0  \n",
       "9                 -1.0   0900-0959              3                 0.0  \n",
       "10                -1.0   0800-0859              2                 0.0  \n",
       "11                 0.0   2100-2159              3                 0.0  \n",
       "12                -1.0   0800-0859              3                 0.0  \n",
       "13                -2.0   0001-0559              6                 0.0  \n",
       "14                 5.0   1600-1659              6                 0.0  \n",
       "15                 0.0   1100-1159              6                 0.0  \n",
       "16                 7.0   1800-1859              5                 0.0  \n",
       "17                -1.0   1100-1159              1                 0.0  \n",
       "18                -1.0   1900-1959              1                 0.0  \n",
       "19                -1.0   2100-2159              1                 0.0  \n",
       "\n",
       "[20 rows x 61 columns]"
      ]
     },
     "execution_count": 6,
     "metadata": {},
     "output_type": "execute_result"
    }
   ],
   "source": [
    "df.head(20)"
   ]
  },
  {
   "cell_type": "code",
   "execution_count": 7,
   "id": "9c24873d-78d7-4fee-8c64-be247ad7dbaa",
   "metadata": {},
   "outputs": [
    {
     "data": {
      "text/plain": [
       "(500000, 61)"
      ]
     },
     "execution_count": 7,
     "metadata": {},
     "output_type": "execute_result"
    }
   ],
   "source": [
    "df.shape"
   ]
  },
  {
   "cell_type": "code",
   "execution_count": 8,
   "id": "53d8064c-93f0-4f42-9138-7f374704295a",
   "metadata": {},
   "outputs": [
    {
     "data": {
      "text/plain": [
       "FlightDate                0\n",
       "Airline                   0\n",
       "Origin                    0\n",
       "Dest                      0\n",
       "Cancelled                 0\n",
       "                      ...  \n",
       "ArrDel15              15443\n",
       "ArrivalDelayGroups    15443\n",
       "ArrTimeBlk                0\n",
       "DistanceGroup             0\n",
       "DivAirportLandings        3\n",
       "Length: 61, dtype: int64"
      ]
     },
     "execution_count": 8,
     "metadata": {},
     "output_type": "execute_result"
    }
   ],
   "source": [
    "# Check for Missing Values\n",
    "\n",
    "df.isnull().sum()"
   ]
  },
  {
   "cell_type": "code",
   "execution_count": 9,
   "id": "7962ea17-21ab-4bc9-8232-38f6139be620",
   "metadata": {},
   "outputs": [],
   "source": [
    "# As previously discovered in 6.2, these values will not be cleaned as they represent cancelled flights in the ArrDel15 and ArrivalDelayGroups columns"
   ]
  },
  {
   "cell_type": "code",
   "execution_count": 10,
   "id": "949858f6-49db-41f4-b658-0e0a5aac6387",
   "metadata": {},
   "outputs": [],
   "source": [
    "# Check for Duplicates\n",
    "\n",
    "dups = df.duplicated()"
   ]
  },
  {
   "cell_type": "code",
   "execution_count": 11,
   "id": "53f8761e-7ed2-41d1-a76f-165f89b31de4",
   "metadata": {},
   "outputs": [
    {
     "data": {
      "text/plain": [
       "(500000,)"
      ]
     },
     "execution_count": 11,
     "metadata": {},
     "output_type": "execute_result"
    }
   ],
   "source": [
    "dups.shape"
   ]
  },
  {
   "cell_type": "code",
   "execution_count": 12,
   "id": "2e8ddc3f-2f9d-405f-984a-d7253efb4c3f",
   "metadata": {},
   "outputs": [],
   "source": [
    "# No Duplicates!"
   ]
  },
  {
   "cell_type": "code",
   "execution_count": 13,
   "id": "e4a4792c-3199-458c-9c8f-b808b90d11b0",
   "metadata": {},
   "outputs": [
    {
     "name": "stderr",
     "output_type": "stream",
     "text": [
      "C:\\Users\\Josh Wattay\\AppData\\Local\\Temp\\ipykernel_13352\\1687746636.py:3: UserWarning: \n",
      "\n",
      "`distplot` is a deprecated function and will be removed in seaborn v0.14.0.\n",
      "\n",
      "Please adapt your code to use either `displot` (a figure-level function with\n",
      "similar flexibility) or `histplot` (an axes-level function for histograms).\n",
      "\n",
      "For a guide to updating your code to use the new functions, please see\n",
      "https://gist.github.com/mwaskom/de44147ed2974457ad6372750bbe5751\n",
      "\n",
      "  sns.distplot(df['DepDelayMinutes'], bins=25)\n",
      "C:\\Users\\Josh Wattay\\anaconda3\\Lib\\site-packages\\seaborn\\_oldcore.py:1119: FutureWarning: use_inf_as_na option is deprecated and will be removed in a future version. Convert inf values to NaN before operating instead.\n",
      "  with pd.option_context('mode.use_inf_as_na', True):\n"
     ]
    },
    {
     "data": {
      "text/plain": [
       "<Axes: xlabel='DepDelayMinutes', ylabel='Density'>"
      ]
     },
     "execution_count": 13,
     "metadata": {},
     "output_type": "execute_result"
    },
    {
     "data": {
      "image/png": "[encoded data removed]",
      "text/plain": [
       "<Figure size 640x480 with 1 Axes>"
      ]
     },
     "metadata": {},
     "output_type": "display_data"
    }
   ],
   "source": [
    "# Check for Extreme Values\n",
    "\n",
    "sns.distplot(df['DepDelayMinutes'], bins=25)"
   ]
  },
  {
   "cell_type": "code",
   "execution_count": 14,
   "id": "52cc7694-630f-464c-944c-056dc8fd573d",
   "metadata": {},
   "outputs": [],
   "source": [
    "# There are some extreme values that will need to be addressed for the Linear Regression"
   ]
  },
  {
   "cell_type": "code",
   "execution_count": 15,
   "id": "b74cfe52-f984-424a-948b-3096b677462b",
   "metadata": {},
   "outputs": [
    {
     "data": {
      "text/plain": [
       "12.62784337612202"
      ]
     },
     "execution_count": 15,
     "metadata": {},
     "output_type": "execute_result"
    }
   ],
   "source": [
    "# Check the Mean\n",
    "\n",
    "df['DepDelayMinutes'].mean()"
   ]
  },
  {
   "cell_type": "code",
   "execution_count": 16,
   "id": "d4dd4307-8fb1-498c-9989-4cae09a988cf",
   "metadata": {},
   "outputs": [
    {
     "data": {
      "text/plain": [
       "0.0"
      ]
     },
     "execution_count": 16,
     "metadata": {},
     "output_type": "execute_result"
    }
   ],
   "source": [
    "# Check the Median\n",
    "\n",
    "df['DepDelayMinutes'].median()"
   ]
  },
  {
   "cell_type": "code",
   "execution_count": 17,
   "id": "46e5e6e9-7670-4867-b829-343952ab71fb",
   "metadata": {},
   "outputs": [
    {
     "data": {
      "text/plain": [
       "1839.0"
      ]
     },
     "execution_count": 17,
     "metadata": {},
     "output_type": "execute_result"
    }
   ],
   "source": [
    "# Check the Max\n",
    "\n",
    "df['DepDelayMinutes'].max()"
   ]
  },
  {
   "cell_type": "code",
   "execution_count": 18,
   "id": "f0b9ae1a-0b0b-4854-b626-0a7956998fd5",
   "metadata": {},
   "outputs": [
    {
     "name": "stderr",
     "output_type": "stream",
     "text": [
      "C:\\Users\\Josh Wattay\\AppData\\Local\\Temp\\ipykernel_13352\\4219957479.py:18: UserWarning: \n",
      "\n",
      "`distplot` is a deprecated function and will be removed in seaborn v0.14.0.\n",
      "\n",
      "Please adapt your code to use either `displot` (a figure-level function with\n",
      "similar flexibility) or `histplot` (an axes-level function for histograms).\n",
      "\n",
      "For a guide to updating your code to use the new functions, please see\n",
      "https://gist.github.com/mwaskom/de44147ed2974457ad6372750bbe5751\n",
      "\n",
      "  sns.distplot(df_no_outliers['DepDelayMinutes'], bins=25)\n",
      "C:\\Users\\Josh Wattay\\anaconda3\\Lib\\site-packages\\seaborn\\_oldcore.py:1119: FutureWarning: use_inf_as_na option is deprecated and will be removed in a future version. Convert inf values to NaN before operating instead.\n",
      "  with pd.option_context('mode.use_inf_as_na', True):\n"
     ]
    },
    {
     "data": {
      "image/png": "[encoded data removed]",
      "text/plain": [
       "<Figure size 640x480 with 1 Axes>"
      ]
     },
     "metadata": {},
     "output_type": "display_data"
    }
   ],
   "source": [
    "# Handle Outliers using the IQR Method\n",
    "\n",
    "# Step 1: Calculate Q1 (25th percentile) and Q3 (75th percentile)\n",
    "Q1 = df['DepDelayMinutes'].quantile(0.25)\n",
    "Q3 = df['DepDelayMinutes'].quantile(0.75)\n",
    "\n",
    "# Step 2: Calculate the IQR\n",
    "IQR = Q3 - Q1\n",
    "\n",
    "# Step 3: Define the acceptable range (excluding outliers)\n",
    "lower_bound = Q1 - 1.5 * IQR\n",
    "upper_bound = Q3 + 1.5 * IQR\n",
    "\n",
    "# Step 4: Filter out the outliers\n",
    "df_no_outliers = df[(df['DepDelayMinutes'] >= lower_bound) & (df['DepDelayMinutes'] <= upper_bound)]\n",
    "\n",
    "# Step 5: Plot the distribution without outliers to verify\n",
    "sns.distplot(df_no_outliers['DepDelayMinutes'], bins=25)\n",
    "plt.show()"
   ]
  },
  {
   "cell_type": "code",
   "execution_count": 19,
   "id": "8ab8cab1-0daa-49e4-88c7-fd01d349625e",
   "metadata": {},
   "outputs": [],
   "source": [
    "# As you can see, this distribution is much better now that the outliers have been addressed."
   ]
  },
  {
   "cell_type": "markdown",
   "id": "ebbafac4-4bd7-4ab8-813e-3ca582425cf8",
   "metadata": {},
   "source": [
    "### 4. Explore Data Visually"
   ]
  },
  {
   "cell_type": "code",
   "execution_count": 20,
   "id": "8c5a32f2-6bb6-46bf-b78f-479f65008b8a",
   "metadata": {},
   "outputs": [
    {
     "data": {
      "image/png": "[encoded data removed]",
      "text/plain": [
       "<Figure size 640x480 with 1 Axes>"
      ]
     },
     "metadata": {},
     "output_type": "display_data"
    }
   ],
   "source": [
    "# Prepare Data for Analysis\n",
    "\n",
    "# Create a scatterplot using matplotlib \n",
    "\n",
    "df_no_outliers.plot(x = 'Distance', y='DepDelayMinutes',style='o')\n",
    "plt.title('Distance of Flight vs Departure Delay in Minutes')  \n",
    "plt.xlabel('Distance')  \n",
    "plt.ylabel('Departure Delay in Minutes')  \n",
    "plt.show()"
   ]
  },
  {
   "cell_type": "markdown",
   "id": "68af164c-bab4-4f3d-a905-792733fe1fc8",
   "metadata": {},
   "source": [
    "### 5. State Hypothesis\n",
    "\n",
    "#### The shorter the distance of the flight, the more likely that flight will be delayed."
   ]
  },
  {
   "cell_type": "markdown",
   "id": "edd50156-9ed1-45c7-b678-b72d36e2a988",
   "metadata": {},
   "source": [
    "### 6. Reshape Variables into NumPy Arrays"
   ]
  },
  {
   "cell_type": "code",
   "execution_count": 21,
   "id": "4ca99468-b406-41a5-81eb-d65d5227cb4c",
   "metadata": {},
   "outputs": [],
   "source": [
    "# Reshape the variables into NumPy arrays and put them into separate objects.\n",
    "\n",
    "X = df_no_outliers['Distance'].values.reshape(-1,1)\n",
    "y = df_no_outliers['DepDelayMinutes'].values.reshape(-1,1)"
   ]
  },
  {
   "cell_type": "code",
   "execution_count": 22,
   "id": "b06a69ff-165d-45f8-958d-7168cfaf85ac",
   "metadata": {},
   "outputs": [
    {
     "data": {
      "text/plain": [
       "array([[1155.],\n",
       "       [ 378.],\n",
       "       [2139.],\n",
       "       ...,\n",
       "       [ 547.],\n",
       "       [1179.],\n",
       "       [ 794.]])"
      ]
     },
     "execution_count": 22,
     "metadata": {},
     "output_type": "execute_result"
    }
   ],
   "source": [
    "X"
   ]
  },
  {
   "cell_type": "code",
   "execution_count": 23,
   "id": "0be4c209-2686-4374-8d97-b536192d27c4",
   "metadata": {},
   "outputs": [
    {
     "data": {
      "text/plain": [
       "array([[7.],\n",
       "       [0.],\n",
       "       [8.],\n",
       "       ...,\n",
       "       [0.],\n",
       "       [0.],\n",
       "       [0.]])"
      ]
     },
     "execution_count": 23,
     "metadata": {},
     "output_type": "execute_result"
    }
   ],
   "source": [
    "y"
   ]
  },
  {
   "cell_type": "markdown",
   "id": "340f4554-8df0-4d79-a042-7be35c5e331d",
   "metadata": {},
   "source": [
    "### 7. Split the Data into Two Sets: Train and Test"
   ]
  },
  {
   "cell_type": "code",
   "execution_count": 24,
   "id": "d30345d0-c8bc-4bf2-8b21-fde147b68583",
   "metadata": {},
   "outputs": [],
   "source": [
    "# Split data into a training set and a test set.\n",
    "\n",
    "X_train, X_test, y_train, y_test = train_test_split(X, y, test_size=0.3, random_state=0)"
   ]
  },
  {
   "cell_type": "markdown",
   "id": "f649c3d0-9967-4757-8c20-d62f966ed76a",
   "metadata": {},
   "source": [
    "### 8. Run a Linear Regression on the Data"
   ]
  },
  {
   "cell_type": "code",
   "execution_count": 25,
   "id": "fe089dfa-e338-43df-ab57-ff77a02fe23d",
   "metadata": {},
   "outputs": [],
   "source": [
    "# Create a regression object.\n",
    "\n",
    "regression = LinearRegression()"
   ]
  },
  {
   "cell_type": "code",
   "execution_count": 26,
   "id": "744880d8-53a9-4be0-9919-065aba6f29bb",
   "metadata": {},
   "outputs": [
    {
     "data": {
      "text/html": [
       "<style>#sk-container-id-1 {\n",
       "  /* Definition of color scheme common for light and dark mode */\n",
       "  --sklearn-color-text: black;\n",
       "  --sklearn-color-line: gray;\n",
       "  /* Definition of color scheme for unfitted estimators */\n",
       "  --sklearn-color-unfitted-level-0: #fff5e6;\n",
       "  --sklearn-color-unfitted-level-1: #f6e4d2;\n",
       "  --sklearn-color-unfitted-level-2: #ffe0b3;\n",
       "  --sklearn-color-unfitted-level-3: chocolate;\n",
       "  /* Definition of color scheme for fitted estimators */\n",
       "  --sklearn-color-fitted-level-0: #f0f8ff;\n",
       "  --sklearn-color-fitted-level-1: #d4ebff;\n",
       "  --sklearn-color-fitted-level-2: #b3dbfd;\n",
       "  --sklearn-color-fitted-level-3: cornflowerblue;\n",
       "\n",
       "  /* Specific color for light theme */\n",
       "  --sklearn-color-text-on-default-background: var(--sg-text-color, var(--theme-code-foreground, var(--jp-content-font-color1, black)));\n",
       "  --sklearn-color-background: var(--sg-background-color, var(--theme-background, var(--jp-layout-color0, white)));\n",
       "  --sklearn-color-border-box: var(--sg-text-color, var(--theme-code-foreground, var(--jp-content-font-color1, black)));\n",
       "  --sklearn-color-icon: #696969;\n",
       "\n",
       "  @media (prefers-color-scheme: dark) {\n",
       "    /* Redefinition of color scheme for dark theme */\n",
       "    --sklearn-color-text-on-default-background: var(--sg-text-color, var(--theme-code-foreground, var(--jp-content-font-color1, white)));\n",
       "    --sklearn-color-background: var(--sg-background-color, var(--theme-background, var(--jp-layout-color0, #111)));\n",
       "    --sklearn-color-border-box: var(--sg-text-color, var(--theme-code-foreground, var(--jp-content-font-color1, white)));\n",
       "    --sklearn-color-icon: #878787;\n",
       "  }\n",
       "}\n",
       "\n",
       "#sk-container-id-1 {\n",
       "  color: var(--sklearn-color-text);\n",
       "}\n",
       "\n",
       "#sk-container-id-1 pre {\n",
       "  padding: 0;\n",
       "}\n",
       "\n",
       "#sk-container-id-1 input.sk-hidden--visually {\n",
       "  border: 0;\n",
       "  clip: rect(1px 1px 1px 1px);\n",
       "  clip: rect(1px, 1px, 1px, 1px);\n",
       "  height: 1px;\n",
       "  margin: -1px;\n",
       "  overflow: hidden;\n",
       "  padding: 0;\n",
       "  position: absolute;\n",
       "  width: 1px;\n",
       "}\n",
       "\n",
       "#sk-container-id-1 div.sk-dashed-wrapped {\n",
       "  border: 1px dashed var(--sklearn-color-line);\n",
       "  margin: 0 0.4em 0.5em 0.4em;\n",
       "  box-sizing: border-box;\n",
       "  padding-bottom: 0.4em;\n",
       "  background-color: var(--sklearn-color-background);\n",
       "}\n",
       "\n",
       "#sk-container-id-1 div.sk-container {\n",
       "  /* jupyter's `normalize.less` sets `[hidden] { display: none; }`\n",
       "     but bootstrap.min.css set `[hidden] { display: none !important; }`\n",
       "     so we also need the `!important` here to be able to override the\n",
       "     default hidden behavior on the sphinx rendered scikit-learn.org.\n",
       "     See: https://github.com/scikit-learn/scikit-learn/issues/21755 */\n",
       "  display: inline-block !important;\n",
       "  position: relative;\n",
       "}\n",
       "\n",
       "#sk-container-id-1 div.sk-text-repr-fallback {\n",
       "  display: none;\n",
       "}\n",
       "\n",
       "div.sk-parallel-item,\n",
       "div.sk-serial,\n",
       "div.sk-item {\n",
       "  /* draw centered vertical line to link estimators */\n",
       "  background-image: linear-gradient(var(--sklearn-color-text-on-default-background), var(--sklearn-color-text-on-default-background));\n",
       "  background-size: 2px 100%;\n",
       "  background-repeat: no-repeat;\n",
       "  background-position: center center;\n",
       "}\n",
       "\n",
       "/* Parallel-specific style estimator block */\n",
       "\n",
       "#sk-container-id-1 div.sk-parallel-item::after {\n",
       "  content: \"\";\n",
       "  width: 100%;\n",
       "  border-bottom: 2px solid var(--sklearn-color-text-on-default-background);\n",
       "  flex-grow: 1;\n",
       "}\n",
       "\n",
       "#sk-container-id-1 div.sk-parallel {\n",
       "  display: flex;\n",
       "  align-items: stretch;\n",
       "  justify-content: center;\n",
       "  background-color: var(--sklearn-color-background);\n",
       "  position: relative;\n",
       "}\n",
       "\n",
       "#sk-container-id-1 div.sk-parallel-item {\n",
       "  display: flex;\n",
       "  flex-direction: column;\n",
       "}\n",
       "\n",
       "#sk-container-id-1 div.sk-parallel-item:first-child::after {\n",
       "  align-self: flex-end;\n",
       "  width: 50%;\n",
       "}\n",
       "\n",
       "#sk-container-id-1 div.sk-parallel-item:last-child::after {\n",
       "  align-self: flex-start;\n",
       "  width: 50%;\n",
       "}\n",
       "\n",
       "#sk-container-id-1 div.sk-parallel-item:only-child::after {\n",
       "  width: 0;\n",
       "}\n",
       "\n",
       "/* Serial-specific style estimator block */\n",
       "\n",
       "#sk-container-id-1 div.sk-serial {\n",
       "  display: flex;\n",
       "  flex-direction: column;\n",
       "  align-items: center;\n",
       "  background-color: var(--sklearn-color-background);\n",
       "  padding-right: 1em;\n",
       "  padding-left: 1em;\n",
       "}\n",
       "\n",
       "\n",
       "/* Toggleable style: style used for estimator/Pipeline/ColumnTransformer box that is\n",
       "clickable and can be expanded/collapsed.\n",
       "- Pipeline and ColumnTransformer use this feature and define the default style\n",
       "- Estimators will overwrite some part of the style using the `sk-estimator` class\n",
       "*/\n",
       "\n",
       "/* Pipeline and ColumnTransformer style (default) */\n",
       "\n",
       "#sk-container-id-1 div.sk-toggleable {\n",
       "  /* Default theme specific background. It is overwritten whether we have a\n",
       "  specific estimator or a Pipeline/ColumnTransformer */\n",
       "  background-color: var(--sklearn-color-background);\n",
       "}\n",
       "\n",
       "/* Toggleable label */\n",
       "#sk-container-id-1 label.sk-toggleable__label {\n",
       "  cursor: pointer;\n",
       "  display: block;\n",
       "  width: 100%;\n",
       "  margin-bottom: 0;\n",
       "  padding: 0.5em;\n",
       "  box-sizing: border-box;\n",
       "  text-align: center;\n",
       "}\n",
       "\n",
       "#sk-container-id-1 label.sk-toggleable__label-arrow:before {\n",
       "  /* Arrow on the left of the label */\n",
       "  content: \"▸\";\n",
       "  float: left;\n",
       "  margin-right: 0.25em;\n",
       "  color: var(--sklearn-color-icon);\n",
       "}\n",
       "\n",
       "#sk-container-id-1 label.sk-toggleable__label-arrow:hover:before {\n",
       "  color: var(--sklearn-color-text);\n",
       "}\n",
       "\n",
       "/* Toggleable content - dropdown */\n",
       "\n",
       "#sk-container-id-1 div.sk-toggleable__content {\n",
       "  max-height: 0;\n",
       "  max-width: 0;\n",
       "  overflow: hidden;\n",
       "  text-align: left;\n",
       "  /* unfitted */\n",
       "  background-color: var(--sklearn-color-unfitted-level-0);\n",
       "}\n",
       "\n",
       "#sk-container-id-1 div.sk-toggleable__content.fitted {\n",
       "  /* fitted */\n",
       "  background-color: var(--sklearn-color-fitted-level-0);\n",
       "}\n",
       "\n",
       "#sk-container-id-1 div.sk-toggleable__content pre {\n",
       "  margin: 0.2em;\n",
       "  border-radius: 0.25em;\n",
       "  color: var(--sklearn-color-text);\n",
       "  /* unfitted */\n",
       "  background-color: var(--sklearn-color-unfitted-level-0);\n",
       "}\n",
       "\n",
       "#sk-container-id-1 div.sk-toggleable__content.fitted pre {\n",
       "  /* unfitted */\n",
       "  background-color: var(--sklearn-color-fitted-level-0);\n",
       "}\n",
       "\n",
       "#sk-container-id-1 input.sk-toggleable__control:checked~div.sk-toggleable__content {\n",
       "  /* Expand drop-down */\n",
       "  max-height: 200px;\n",
       "  max-width: 100%;\n",
       "  overflow: auto;\n",
       "}\n",
       "\n",
       "#sk-container-id-1 input.sk-toggleable__control:checked~label.sk-toggleable__label-arrow:before {\n",
       "  content: \"▾\";\n",
       "}\n",
       "\n",
       "/* Pipeline/ColumnTransformer-specific style */\n",
       "\n",
       "#sk-container-id-1 div.sk-label input.sk-toggleable__control:checked~label.sk-toggleable__label {\n",
       "  color: var(--sklearn-color-text);\n",
       "  background-color: var(--sklearn-color-unfitted-level-2);\n",
       "}\n",
       "\n",
       "#sk-container-id-1 div.sk-label.fitted input.sk-toggleable__control:checked~label.sk-toggleable__label {\n",
       "  background-color: var(--sklearn-color-fitted-level-2);\n",
       "}\n",
       "\n",
       "/* Estimator-specific style */\n",
       "\n",
       "/* Colorize estimator box */\n",
       "#sk-container-id-1 div.sk-estimator input.sk-toggleable__control:checked~label.sk-toggleable__label {\n",
       "  /* unfitted */\n",
       "  background-color: var(--sklearn-color-unfitted-level-2);\n",
       "}\n",
       "\n",
       "#sk-container-id-1 div.sk-estimator.fitted input.sk-toggleable__control:checked~label.sk-toggleable__label {\n",
       "  /* fitted */\n",
       "  background-color: var(--sklearn-color-fitted-level-2);\n",
       "}\n",
       "\n",
       "#sk-container-id-1 div.sk-label label.sk-toggleable__label,\n",
       "#sk-container-id-1 div.sk-label label {\n",
       "  /* The background is the default theme color */\n",
       "  color: var(--sklearn-color-text-on-default-background);\n",
       "}\n",
       "\n",
       "/* On hover, darken the color of the background */\n",
       "#sk-container-id-1 div.sk-label:hover label.sk-toggleable__label {\n",
       "  color: var(--sklearn-color-text);\n",
       "  background-color: var(--sklearn-color-unfitted-level-2);\n",
       "}\n",
       "\n",
       "/* Label box, darken color on hover, fitted */\n",
       "#sk-container-id-1 div.sk-label.fitted:hover label.sk-toggleable__label.fitted {\n",
       "  color: var(--sklearn-color-text);\n",
       "  background-color: var(--sklearn-color-fitted-level-2);\n",
       "}\n",
       "\n",
       "/* Estimator label */\n",
       "\n",
       "#sk-container-id-1 div.sk-label label {\n",
       "  font-family: monospace;\n",
       "  font-weight: bold;\n",
       "  display: inline-block;\n",
       "  line-height: 1.2em;\n",
       "}\n",
       "\n",
       "#sk-container-id-1 div.sk-label-container {\n",
       "  text-align: center;\n",
       "}\n",
       "\n",
       "/* Estimator-specific */\n",
       "#sk-container-id-1 div.sk-estimator {\n",
       "  font-family: monospace;\n",
       "  border: 1px dotted var(--sklearn-color-border-box);\n",
       "  border-radius: 0.25em;\n",
       "  box-sizing: border-box;\n",
       "  margin-bottom: 0.5em;\n",
       "  /* unfitted */\n",
       "  background-color: var(--sklearn-color-unfitted-level-0);\n",
       "}\n",
       "\n",
       "#sk-container-id-1 div.sk-estimator.fitted {\n",
       "  /* fitted */\n",
       "  background-color: var(--sklearn-color-fitted-level-0);\n",
       "}\n",
       "\n",
       "/* on hover */\n",
       "#sk-container-id-1 div.sk-estimator:hover {\n",
       "  /* unfitted */\n",
       "  background-color: var(--sklearn-color-unfitted-level-2);\n",
       "}\n",
       "\n",
       "#sk-container-id-1 div.sk-estimator.fitted:hover {\n",
       "  /* fitted */\n",
       "  background-color: var(--sklearn-color-fitted-level-2);\n",
       "}\n",
       "\n",
       "/* Specification for estimator info (e.g. \"i\" and \"?\") */\n",
       "\n",
       "/* Common style for \"i\" and \"?\" */\n",
       "\n",
       ".sk-estimator-doc-link,\n",
       "a:link.sk-estimator-doc-link,\n",
       "a:visited.sk-estimator-doc-link {\n",
       "  float: right;\n",
       "  font-size: smaller;\n",
       "  line-height: 1em;\n",
       "  font-family: monospace;\n",
       "  background-color: var(--sklearn-color-background);\n",
       "  border-radius: 1em;\n",
       "  height: 1em;\n",
       "  width: 1em;\n",
       "  text-decoration: none !important;\n",
       "  margin-left: 1ex;\n",
       "  /* unfitted */\n",
       "  border: var(--sklearn-color-unfitted-level-1) 1pt solid;\n",
       "  color: var(--sklearn-color-unfitted-level-1);\n",
       "}\n",
       "\n",
       ".sk-estimator-doc-link.fitted,\n",
       "a:link.sk-estimator-doc-link.fitted,\n",
       "a:visited.sk-estimator-doc-link.fitted {\n",
       "  /* fitted */\n",
       "  border: var(--sklearn-color-fitted-level-1) 1pt solid;\n",
       "  color: var(--sklearn-color-fitted-level-1);\n",
       "}\n",
       "\n",
       "/* On hover */\n",
       "div.sk-estimator:hover .sk-estimator-doc-link:hover,\n",
       ".sk-estimator-doc-link:hover,\n",
       "div.sk-label-container:hover .sk-estimator-doc-link:hover,\n",
       ".sk-estimator-doc-link:hover {\n",
       "  /* unfitted */\n",
       "  background-color: var(--sklearn-color-unfitted-level-3);\n",
       "  color: var(--sklearn-color-background);\n",
       "  text-decoration: none;\n",
       "}\n",
       "\n",
       "div.sk-estimator.fitted:hover .sk-estimator-doc-link.fitted:hover,\n",
       ".sk-estimator-doc-link.fitted:hover,\n",
       "div.sk-label-container:hover .sk-estimator-doc-link.fitted:hover,\n",
       ".sk-estimator-doc-link.fitted:hover {\n",
       "  /* fitted */\n",
       "  background-color: var(--sklearn-color-fitted-level-3);\n",
       "  color: var(--sklearn-color-background);\n",
       "  text-decoration: none;\n",
       "}\n",
       "\n",
       "/* Span, style for the box shown on hovering the info icon */\n",
       ".sk-estimator-doc-link span {\n",
       "  display: none;\n",
       "  z-index: 9999;\n",
       "  position: relative;\n",
       "  font-weight: normal;\n",
       "  right: .2ex;\n",
       "  padding: .5ex;\n",
       "  margin: .5ex;\n",
       "  width: min-content;\n",
       "  min-width: 20ex;\n",
       "  max-width: 50ex;\n",
       "  color: var(--sklearn-color-text);\n",
       "  box-shadow: 2pt 2pt 4pt #999;\n",
       "  /* unfitted */\n",
       "  background: var(--sklearn-color-unfitted-level-0);\n",
       "  border: .5pt solid var(--sklearn-color-unfitted-level-3);\n",
       "}\n",
       "\n",
       ".sk-estimator-doc-link.fitted span {\n",
       "  /* fitted */\n",
       "  background: var(--sklearn-color-fitted-level-0);\n",
       "  border: var(--sklearn-color-fitted-level-3);\n",
       "}\n",
       "\n",
       ".sk-estimator-doc-link:hover span {\n",
       "  display: block;\n",
       "}\n",
       "\n",
       "/* \"?\"-specific style due to the `<a>` HTML tag */\n",
       "\n",
       "#sk-container-id-1 a.estimator_doc_link {\n",
       "  float: right;\n",
       "  font-size: 1rem;\n",
       "  line-height: 1em;\n",
       "  font-family: monospace;\n",
       "  background-color: var(--sklearn-color-background);\n",
       "  border-radius: 1rem;\n",
       "  height: 1rem;\n",
       "  width: 1rem;\n",
       "  text-decoration: none;\n",
       "  /* unfitted */\n",
       "  color: var(--sklearn-color-unfitted-level-1);\n",
       "  border: var(--sklearn-color-unfitted-level-1) 1pt solid;\n",
       "}\n",
       "\n",
       "#sk-container-id-1 a.estimator_doc_link.fitted {\n",
       "  /* fitted */\n",
       "  border: var(--sklearn-color-fitted-level-1) 1pt solid;\n",
       "  color: var(--sklearn-color-fitted-level-1);\n",
       "}\n",
       "\n",
       "/* On hover */\n",
       "#sk-container-id-1 a.estimator_doc_link:hover {\n",
       "  /* unfitted */\n",
       "  background-color: var(--sklearn-color-unfitted-level-3);\n",
       "  color: var(--sklearn-color-background);\n",
       "  text-decoration: none;\n",
       "}\n",
       "\n",
       "#sk-container-id-1 a.estimator_doc_link.fitted:hover {\n",
       "  /* fitted */\n",
       "  background-color: var(--sklearn-color-fitted-level-3);\n",
       "}\n",
       "</style><div id=\"sk-container-id-1\" class=\"sk-top-container\"><div class=\"sk-text-repr-fallback\"><pre>LinearRegression()</pre><b>In a Jupyter environment, please rerun this cell to show the HTML representation or trust the notebook. <br />On GitHub, the HTML representation is unable to render, please try loading this page with nbviewer.org.</b></div><div class=\"sk-container\" hidden><div class=\"sk-item\"><div class=\"sk-estimator fitted sk-toggleable\"><input class=\"sk-toggleable__control sk-hidden--visually\" id=\"sk-estimator-id-1\" type=\"checkbox\" checked><label for=\"sk-estimator-id-1\" class=\"sk-toggleable__label fitted sk-toggleable__label-arrow fitted\">&nbsp;&nbsp;LinearRegression<a class=\"sk-estimator-doc-link fitted\" rel=\"noreferrer\" target=\"_blank\" href=\"https://scikit-learn.org/1.4/modules/generated/sklearn.linear_model.LinearRegression.html\">?<span>Documentation for LinearRegression</span></a><span class=\"sk-estimator-doc-link fitted\">i<span>Fitted</span></span></label><div class=\"sk-toggleable__content fitted\"><pre>LinearRegression()</pre></div> </div></div></div></div>"
      ],
      "text/plain": [
       "LinearRegression()"
      ]
     },
     "execution_count": 26,
     "metadata": {},
     "output_type": "execute_result"
    }
   ],
   "source": [
    "# Fit the regression object onto the training set.\n",
    "\n",
    "regression.fit(X_train, y_train)"
   ]
  },
  {
   "cell_type": "markdown",
   "id": "57d07329-94aa-47dc-b1cd-a599b4e3e00b",
   "metadata": {},
   "source": [
    "### 9. Plot Regression Line on a Test Set"
   ]
  },
  {
   "cell_type": "code",
   "execution_count": 27,
   "id": "b3246b13-a414-4a45-8496-119f7b805f2c",
   "metadata": {},
   "outputs": [],
   "source": [
    "# Predict the values of y using X.\n",
    "\n",
    "y_predicted = regression.predict(X_test)"
   ]
  },
  {
   "cell_type": "code",
   "execution_count": 28,
   "id": "b0e1fe45-0ca3-4e0c-8907-9375fb4f8c62",
   "metadata": {},
   "outputs": [
    {
     "data": {
      "image/png": "[encoded data removed]",
      "text/plain": [
       "<Figure size 640x480 with 1 Axes>"
      ]
     },
     "metadata": {},
     "output_type": "display_data"
    }
   ],
   "source": [
    "# Create a plot that shows the regression line from the model on the test set.\n",
    "\n",
    "plot_test = plt\n",
    "plot_test.scatter(X_test, y_test, color='gray', s = 15)\n",
    "plot_test.plot(X_test, y_predicted, color='red', linewidth =3)\n",
    "plot_test.title('Distance of Flight vs Departure Delay in Minutes (Test set)')\n",
    "plot_test.xlabel('Distance of Flight')\n",
    "plot_test.ylabel('Departure Delay in Minutes')\n",
    "plot_test.show()"
   ]
  },
  {
   "cell_type": "markdown",
   "id": "baa54640-76d2-4f7c-af27-61a167ff9224",
   "metadata": {},
   "source": [
    "### 10. Interpret Fit of Regression Line on Test Set"
   ]
  },
  {
   "cell_type": "markdown",
   "id": "8f147fe4-9ca0-4553-a6b0-a2d7da094d82",
   "metadata": {},
   "source": [
    "#### This is fascinating because I anticipated the regression line to demonstrate a negative correlation, with Departure Delay in Minutes decreasing when the Distance of Flight increases. The result appears to in fact demonstrate the exact opposite, with an ever so slight positive correlation, demonstrating that as Distance increases, so too does the Departure Delay in minutes."
   ]
  },
  {
   "cell_type": "markdown",
   "id": "41590c4c-f572-47e3-84f0-2d0500e36fbf",
   "metadata": {},
   "source": [
    "### 11. Check Model Performance Statistics - R2 and MSE"
   ]
  },
  {
   "cell_type": "code",
   "execution_count": 29,
   "id": "d0a792c5-9eff-4b0a-9390-dfe9ce009815",
   "metadata": {},
   "outputs": [],
   "source": [
    "# Create objects that contain the model summary statistics.\n",
    "\n",
    "rmse = mean_squared_error(y_test, y_predicted) # This is the mean squared error\n",
    "r2 = r2_score(y_test, y_predicted) # This is the R2 score. "
   ]
  },
  {
   "cell_type": "code",
   "execution_count": 30,
   "id": "47916bbd-d024-415a-9c32-5b2b062a50e7",
   "metadata": {},
   "outputs": [
    {
     "name": "stdout",
     "output_type": "stream",
     "text": [
      "Slope: [[0.00023911]]\n",
      "Mean squared error:  5.927246721088491\n",
      "R2 score:  0.003869527305522813\n"
     ]
    }
   ],
   "source": [
    "# Print the model summary statistics in order to evaluate the performance of the model.\n",
    "\n",
    "print('Slope:' ,regression.coef_)\n",
    "print('Mean squared error: ', rmse)\n",
    "print('R2 score: ', r2)"
   ]
  },
  {
   "cell_type": "markdown",
   "id": "48af3a98-3379-4cbd-8111-d319fe4be06c",
   "metadata": {},
   "source": [
    "### 12. Thoughts and Reflections on Performance of Model and possible Data Bias"
   ]
  },
  {
   "cell_type": "markdown",
   "id": "046609f8-eba2-4fcb-93cd-3206a39e34b1",
   "metadata": {},
   "source": [
    "#### I believe the model performed horribly given the R2 score (nearly pure 0) and the MSE of just 5.92. I think the correlation between the variables, once the outliers were removed using the IQR method, negatively impacted the model, because the relationship was at that point in time hardly linear, given the visual of the scatterplot that resulted from the df_no_outliers dataframe. With such a lack of linear relationship between the x and y variables, the model seemingly had no ability to accuratly determine or predict dependent variable results. \n",
    "\n",
    "#### There is certainly a potential for data bias in this model because flights experiencing delays greater than 12 mintues are not even being considered. Additionally, it is important to keep in mind that this data includes a value of 0 for flights that are not delayed, which (THANKFULLY) is the vast majority of domestic flights in the United States. Therefore, there is a significant negative skew of the DepDelayMinutes column with most values being 0. In fact, I will run this model again using the dataframe that includes outliers and I will start by conducting a value counts of the DepDelayMinutes column to demonstrate the sheer volume of flights with no delays."
   ]
  },
  {
   "cell_type": "code",
   "execution_count": 31,
   "id": "5a710ff7-7f28-49f1-8ed8-5e956c60fd22",
   "metadata": {},
   "outputs": [
    {
     "data": {
      "text/plain": [
       "DepDelayMinutes\n",
       "0.0       329442\n",
       "1.0         9957\n",
       "2.0         8121\n",
       "3.0         7016\n",
       "4.0         6304\n",
       "           ...  \n",
       "744.0          1\n",
       "444.0          1\n",
       "506.0          1\n",
       "459.0          1\n",
       "1157.0         1\n",
       "Name: count, Length: 912, dtype: int64"
      ]
     },
     "execution_count": 31,
     "metadata": {},
     "output_type": "execute_result"
    }
   ],
   "source": [
    "# Value Counts of DepDelayMinutes column\n",
    "\n",
    "df['DepDelayMinutes'].value_counts()"
   ]
  },
  {
   "cell_type": "code",
   "execution_count": 32,
   "id": "35114012-be23-49e9-9626-0c376f652cbc",
   "metadata": {},
   "outputs": [
    {
     "data": {
      "text/plain": [
       "0.658884"
      ]
     },
     "execution_count": 32,
     "metadata": {},
     "output_type": "execute_result"
    }
   ],
   "source": [
    "# Out of 500000 records/flights; 329442 had a delay of 0 minutes\n",
    "\n",
    "329442/500000"
   ]
  },
  {
   "cell_type": "code",
   "execution_count": 33,
   "id": "23e8d0f1-f89c-4e3c-ad95-6c7de0f2d2a4",
   "metadata": {},
   "outputs": [],
   "source": [
    "#65% of flights or 2/3rds are not delayed! Creating a significant skew (bias) in the data"
   ]
  },
  {
   "cell_type": "code",
   "execution_count": 34,
   "id": "c5e500d0-fce9-46fa-bb9c-76391ea5835b",
   "metadata": {},
   "outputs": [],
   "source": [
    "# For this reanalysis, I will now remove values of 0 from the dataframe used for the model, because my hypothesis is testing flights that are delayed.\n",
    "# Therefore I don't care about flights that are not delayed and they are biasing my results. \n",
    "# I only care about analyzing and testing my hypothesis on flights that were delayed and how distance relates to delayed flights."
   ]
  },
  {
   "cell_type": "code",
   "execution_count": 35,
   "id": "63519890-01dc-4f66-96cc-83fc70da8c29",
   "metadata": {},
   "outputs": [
    {
     "name": "stderr",
     "output_type": "stream",
     "text": [
      "C:\\Users\\Josh Wattay\\AppData\\Local\\Temp\\ipykernel_13352\\3949290041.py:5: UserWarning: \n",
      "\n",
      "`distplot` is a deprecated function and will be removed in seaborn v0.14.0.\n",
      "\n",
      "Please adapt your code to use either `displot` (a figure-level function with\n",
      "similar flexibility) or `histplot` (an axes-level function for histograms).\n",
      "\n",
      "For a guide to updating your code to use the new functions, please see\n",
      "https://gist.github.com/mwaskom/de44147ed2974457ad6372750bbe5751\n",
      "\n",
      "  sns.distplot(df_no_zero_delay['DepDelayMinutes'], bins=25)\n",
      "C:\\Users\\Josh Wattay\\anaconda3\\Lib\\site-packages\\seaborn\\_oldcore.py:1119: FutureWarning: use_inf_as_na option is deprecated and will be removed in a future version. Convert inf values to NaN before operating instead.\n",
      "  with pd.option_context('mode.use_inf_as_na', True):\n"
     ]
    },
    {
     "data": {
      "image/png": "[encoded data removed]",
      "text/plain": [
       "<Figure size 640x480 with 1 Axes>"
      ]
     },
     "metadata": {},
     "output_type": "display_data"
    },
    {
     "name": "stdout",
     "output_type": "stream",
     "text": [
      "   FlightDate                 Airline Origin Dest  Cancelled  Diverted  \\\n",
      "0  2018-12-02             Comair Inc.    DCA  BTV      False     False   \n",
      "1  2018-06-30        Spirit Air Lines    ATL  LAS      False     False   \n",
      "2  2018-02-11  Frontier Airlines Inc.    MCI  RSW      False     False   \n",
      "3  2018-06-22   United Air Lines Inc.    DEN  CID      False     False   \n",
      "5  2018-08-07   United Air Lines Inc.    SFO  ATL      False     False   \n",
      "\n",
      "   CRSDepTime  DepTime  DepDelayMinutes  DepDelay  ...  WheelsOff  WheelsOn  \\\n",
      "0        1459   1533.0             34.0      34.0  ...     1554.0    1655.0   \n",
      "1        1810   1833.0             23.0      23.0  ...     1850.0    1951.0   \n",
      "2        1234   1241.0              7.0       7.0  ...     1249.0    1620.0   \n",
      "3        2017   2156.0             99.0      99.0  ...     2211.0      33.0   \n",
      "5        1040   1048.0              8.0       8.0  ...     1119.0    1836.0   \n",
      "\n",
      "   TaxiIn  CRSArrTime  ArrDelay  ArrDel15  ArrivalDelayGroups  ArrTimeBlk  \\\n",
      "0     2.0        1631      26.0       1.0                 1.0   1600-1659   \n",
      "1     4.0        1920      35.0       1.0                 2.0   1900-1959   \n",
      "2    22.0        1619      23.0       1.0                 1.0   1600-1659   \n",
      "3     4.0        2303      94.0       1.0                 6.0   2300-2359   \n",
      "5     6.0        1835       7.0       0.0                 0.0   1800-1859   \n",
      "\n",
      "   DistanceGroup  DivAirportLandings  \n",
      "0              2                 0.0  \n",
      "1              7                 0.0  \n",
      "2              5                 0.0  \n",
      "3              3                 0.0  \n",
      "5              9                 0.0  \n",
      "\n",
      "[5 rows x 61 columns]\n"
     ]
    }
   ],
   "source": [
    "# Step 1: Filter out records where DepDelayMinutes is 0\n",
    "df_no_zero_delay = df[df['DepDelayMinutes'] != 0]\n",
    "\n",
    "# Step 2: Plot the distribution to verify\n",
    "sns.distplot(df_no_zero_delay['DepDelayMinutes'], bins=25)\n",
    "plt.show()\n",
    "\n",
    "# Display the new DataFrame\n",
    "print(df_no_zero_delay.head())"
   ]
  },
  {
   "cell_type": "code",
   "execution_count": 36,
   "id": "34c33224-667b-4ad4-955b-0706691606fd",
   "metadata": {},
   "outputs": [
    {
     "data": {
      "image/png": "[encoded data removed]",
      "text/plain": [
       "<Figure size 640x480 with 1 Axes>"
      ]
     },
     "metadata": {},
     "output_type": "display_data"
    }
   ],
   "source": [
    "# Prepare Data for Analysis\n",
    "\n",
    "# Create a scatterplot using matplotlib \n",
    "\n",
    "df_no_zero_delay.plot(x = 'Distance', y='DepDelayMinutes',style='o')\n",
    "plt.title('Distance of Flight vs Departure Delay in Minutes')  \n",
    "plt.xlabel('Distance')  \n",
    "plt.ylabel('Departure Delay in Minutes')  \n",
    "plt.show()"
   ]
  },
  {
   "cell_type": "code",
   "execution_count": 37,
   "id": "1cdb8c00-a583-4fa9-bda6-c18d44a9c2fd",
   "metadata": {},
   "outputs": [],
   "source": [
    "# Already significantly more Linear - Not perfect, but much better."
   ]
  },
  {
   "cell_type": "markdown",
   "id": "9ea9f30b-5974-4bc3-a877-05eb4acb6ad6",
   "metadata": {},
   "source": [
    "#### Hypothesis: The shorter the distance of the flight, the more likely that flight will be delayed."
   ]
  },
  {
   "cell_type": "code",
   "execution_count": 38,
   "id": "8437e36f-16f2-42ca-bb3e-0d8975985939",
   "metadata": {},
   "outputs": [],
   "source": [
    "# Reshape the variables into NumPy arrays and put them into separate objects.\n",
    "\n",
    "X = df_no_zero_delay['Distance'].values.reshape(-1,1)\n",
    "y = df_no_zero_delay['DepDelayMinutes'].values.reshape(-1,1)"
   ]
  },
  {
   "cell_type": "code",
   "execution_count": 39,
   "id": "b232ecdd-e0e4-410b-a9b0-57fa5f6a66b6",
   "metadata": {},
   "outputs": [
    {
     "data": {
      "text/plain": [
       "array([[ 437.],\n",
       "       [1747.],\n",
       "       [1155.],\n",
       "       ...,\n",
       "       [ 844.],\n",
       "       [ 589.],\n",
       "       [1553.]])"
      ]
     },
     "execution_count": 39,
     "metadata": {},
     "output_type": "execute_result"
    }
   ],
   "source": [
    "X"
   ]
  },
  {
   "cell_type": "code",
   "execution_count": 40,
   "id": "45f8c42a-f49d-4ebf-a596-097b3340a460",
   "metadata": {},
   "outputs": [
    {
     "data": {
      "text/plain": [
       "array([[34.],\n",
       "       [23.],\n",
       "       [ 7.],\n",
       "       ...,\n",
       "       [30.],\n",
       "       [ 1.],\n",
       "       [16.]])"
      ]
     },
     "execution_count": 40,
     "metadata": {},
     "output_type": "execute_result"
    }
   ],
   "source": [
    "y"
   ]
  },
  {
   "cell_type": "code",
   "execution_count": 44,
   "id": "fb4e7514-f0f0-4f6c-b805-9ea61e392b18",
   "metadata": {},
   "outputs": [],
   "source": [
    "# Split data into a training set and a test set.\n",
    "\n",
    "X_train, X_test, y_train, y_test = train_test_split(X, y, test_size=0.3, random_state=0)"
   ]
  },
  {
   "cell_type": "code",
   "execution_count": 46,
   "id": "bb08e852-5788-4a12-bc83-7389a85c0d89",
   "metadata": {},
   "outputs": [],
   "source": [
    "# I need to address the NaN values in y_train before I proceed"
   ]
  },
  {
   "cell_type": "code",
   "execution_count": 47,
   "id": "349b8401-150a-4e6f-a511-83643296106c",
   "metadata": {},
   "outputs": [
    {
     "name": "stdout",
     "output_type": "stream",
     "text": [
      "Number of NaN values in y_train: 9782\n",
      "Model coefficients: [-0.00390575]\n"
     ]
    }
   ],
   "source": [
    "# Define features and target\n",
    "X = df_no_zero_delay[['Distance']]\n",
    "y = df_no_zero_delay['DepDelayMinutes']\n",
    "\n",
    "# Split the data into training and testing sets\n",
    "X_train, X_test, y_train, y_test = train_test_split(X, y, test_size=0.3, random_state=0)\n",
    "\n",
    "# Check for NaN values in y_train\n",
    "print(\"Number of NaN values in y_train:\", np.sum(np.isnan(y_train)))\n",
    "\n",
    "# Remove rows with NaN values in y_train\n",
    "not_nan_indices = ~np.isnan(y_train)\n",
    "X_train_clean = X_train[not_nan_indices]\n",
    "y_train_clean = y_train[not_nan_indices]\n",
    "\n",
    "# Initialize the regression model\n",
    "regression = LinearRegression()\n",
    "\n",
    "# Fit the regression model on the cleaned dataset\n",
    "regression.fit(X_train_clean, y_train_clean)\n",
    "\n",
    "# Print model coefficients\n",
    "print(\"Model coefficients:\", regression.coef_)"
   ]
  },
  {
   "cell_type": "code",
   "execution_count": 48,
   "id": "7aa8027d-c3e5-4a6e-b0cd-f6a8326bd203",
   "metadata": {},
   "outputs": [],
   "source": [
    "# Predict the values of y using X.\n",
    "\n",
    "y_predicted = regression.predict(X_test)"
   ]
  },
  {
   "cell_type": "code",
   "execution_count": 49,
   "id": "27c43fdf-7828-4fb3-aa7d-7f9ee5e9d414",
   "metadata": {},
   "outputs": [
    {
     "data": {
      "image/png": "[encoded data removed]",
      "text/plain": [
       "<Figure size 640x480 with 1 Axes>"
      ]
     },
     "metadata": {},
     "output_type": "display_data"
    }
   ],
   "source": [
    "# Create a plot that shows the regression line from the model on the test set.\n",
    "\n",
    "plot_test = plt\n",
    "plot_test.scatter(X_test, y_test, color='gray', s = 15)\n",
    "plot_test.plot(X_test, y_predicted, color='red', linewidth =3)\n",
    "plot_test.title('Distance of Flight vs Departure Delay in Minutes (Test set)')\n",
    "plot_test.xlabel('Distance of Flight')\n",
    "plot_test.ylabel('Departure Delay in Minutes')\n",
    "plot_test.show()"
   ]
  },
  {
   "cell_type": "markdown",
   "id": "12bebe02-e7b1-4e8e-9950-d0591898af1f",
   "metadata": {},
   "source": [
    "#### This is what I expected from the model, an ever so slight negative correlation, as distance increases, departure delay in minutes decreases. I do believe that the volume of short distance (less than 1000 mile flights) may be biasing the data here, but for the time being, this model is performing more in line with my expectations than the previous model that removed outliers. \n",
    "\n",
    "#### I will now check its performance based on the statistics of R2 and MSE."
   ]
  },
  {
   "cell_type": "code",
   "execution_count": 51,
   "id": "f8f7ea72-fed1-46c9-a531-96fab5353640",
   "metadata": {},
   "outputs": [
    {
     "name": "stdout",
     "output_type": "stream",
     "text": [
      "Slope: [-0.00390575]\n",
      "Mean squared error:  5.927246721088491\n",
      "R2 score:  0.003869527305522813\n"
     ]
    }
   ],
   "source": [
    "# Print the model summary statistics in order to evaluate the performance of the model.\n",
    "\n",
    "print('Slope:' ,regression.coef_)\n",
    "print('Mean squared error: ', rmse)\n",
    "print('R2 score: ', r2)"
   ]
  },
  {
   "cell_type": "code",
   "execution_count": 53,
   "id": "2a4bfb43-be24-453a-b4e3-a44561902f28",
   "metadata": {},
   "outputs": [
    {
     "name": "stdout",
     "output_type": "stream",
     "text": [
      "Number of NaN values in y_test: 4264\n",
      "Number of NaN values in y_predicted: 0\n",
      "RMSE: 5669.186606956428\n",
      "R2 Score: 0.0008375673127100081\n"
     ]
    }
   ],
   "source": [
    "# Check for NaN values in y_test and y_predicted\n",
    "print(\"Number of NaN values in y_test:\", np.sum(np.isnan(y_test)))\n",
    "print(\"Number of NaN values in y_predicted:\", np.sum(np.isnan(y_predicted)))\n",
    "\n",
    "# Remove rows with NaN values in y_test and y_predicted\n",
    "not_nan_indices_test = ~np.isnan(y_test) & ~np.isnan(y_predicted)\n",
    "y_test_clean = y_test[not_nan_indices_test]\n",
    "y_predicted_clean = y_predicted[not_nan_indices_test]\n",
    "\n",
    "# Calculate RMSE and R2 score on the cleaned data\n",
    "rmse = mean_squared_error(y_test_clean, y_predicted_clean)\n",
    "r2 = r2_score(y_test_clean, y_predicted_clean)\n",
    "\n",
    "print(\"RMSE:\", rmse)\n",
    "print(\"R2 Score:\", r2)\n"
   ]
  },
  {
   "cell_type": "markdown",
   "id": "3291ee89-294f-435b-aaec-40edee13aa9c",
   "metadata": {},
   "source": [
    "### The model is still performing poorly, with a near 0 R2 score. This is likely still due to the lack of linearity in the relationship between Distance and Departure Delay in Minutes."
   ]
  },
  {
   "cell_type": "code",
   "execution_count": null,
   "id": "511cf517-6e95-418b-af10-a808118f9ec2",
   "metadata": {},
   "outputs": [],
   "source": []
  }
 ],
 "metadata": {
  "kernelspec": {
   "display_name": "Python 3 (ipykernel)",
   "language": "python",
   "name": "python3"
  },
  "language_info": {
   "codemirror_mode": {
    "name": "ipython",
    "version": 3
   },
   "file_extension": ".py",
   "mimetype": "text/x-python",
   "name": "python",
   "nbconvert_exporter": "python",
   "pygments_lexer": "ipython3",
   "version": "3.11.5"
  }
 },
 "nbformat": 4,
 "nbformat_minor": 5
}
