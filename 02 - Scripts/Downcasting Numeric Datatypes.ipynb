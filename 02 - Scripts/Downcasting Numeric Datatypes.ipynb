{
 "cells": [
  {
   "cell_type": "markdown",
   "id": "1b883c56-ee3a-483a-b678-70a7f4c9962b",
   "metadata": {},
   "source": [
    "# In this notebook...\n",
    "\n",
    "## I will be downcasting datatypes for the combined filtered all_flights dataset.\n",
    "## This dataset is quite large and consumes a lot of memory. \n",
    "## Downcasting datatypes (i.e. from int64 to int32 or int 8) will reduce memory requirements and increase efficiency.\n",
    "## I will also be conducting another search for any mixed datatype columns to address the Dtype Warning that occurs when calling the dataset in pandas."
   ]
  },
  {
   "cell_type": "code",
   "execution_count": 1,
   "id": "30a710be-aa05-4114-9f68-ebd8606ae932",
   "metadata": {},
   "outputs": [],
   "source": [
    "# Import Libraries\n",
    "\n",
    "import pandas as pd\n",
    "import numpy as np\n",
    "import os"
   ]
  },
  {
   "cell_type": "code",
   "execution_count": 2,
   "id": "12b474e9-011d-4e85-8186-d63010a86086",
   "metadata": {},
   "outputs": [],
   "source": [
    "# Set path\n",
    "\n",
    "path = r'D:\\Data Analytics\\Flight Delay Analysis\\01 - Data\\Wrangled Data'"
   ]
  },
  {
   "cell_type": "code",
   "execution_count": 3,
   "id": "aef952fc-1203-44fa-b858-a5fbca3918f4",
   "metadata": {},
   "outputs": [
    {
     "name": "stderr",
     "output_type": "stream",
     "text": [
      "C:\\Users\\Josh Wattay\\AppData\\Local\\Temp\\ipykernel_19816\\2360583728.py:3: DtypeWarning: Columns (32) have mixed types. Specify dtype option on import or set low_memory=False.\n",
      "  df = pd.read_csv(os.path.join(path, 'all_flights.csv'), index_col = 0)\n"
     ]
    }
   ],
   "source": [
    "# Import Datasets\n",
    "\n",
    "df = pd.read_csv(os.path.join(path, 'all_flights.csv'), index_col = 0)"
   ]
  },
  {
   "cell_type": "code",
   "execution_count": 4,
   "id": "c97058b0-4a3e-4884-9005-0326ae413957",
   "metadata": {},
   "outputs": [
    {
     "data": {
      "text/plain": [
       "(12608046, 47)"
      ]
     },
     "execution_count": 4,
     "metadata": {},
     "output_type": "execute_result"
    }
   ],
   "source": [
    "df.shape"
   ]
  },
  {
   "cell_type": "code",
   "execution_count": 5,
   "id": "372ad268-e245-4e0e-91ae-7d08abe6515f",
   "metadata": {},
   "outputs": [
    {
     "data": {
      "text/html": [
       "<div>\n",
       "<style scoped>\n",
       "    .dataframe tbody tr th:only-of-type {\n",
       "        vertical-align: middle;\n",
       "    }\n",
       "\n",
       "    .dataframe tbody tr th {\n",
       "        vertical-align: top;\n",
       "    }\n",
       "\n",
       "    .dataframe thead th {\n",
       "        text-align: right;\n",
       "    }\n",
       "</style>\n",
       "<table border=\"1\" class=\"dataframe\">\n",
       "  <thead>\n",
       "    <tr style=\"text-align: right;\">\n",
       "      <th></th>\n",
       "      <th>Year</th>\n",
       "      <th>Quarter</th>\n",
       "      <th>Month</th>\n",
       "      <th>Day_of_Month</th>\n",
       "      <th>Day_of_Week</th>\n",
       "      <th>Flight_Date</th>\n",
       "      <th>Marketing_Airline_Network_Code</th>\n",
       "      <th>Operating_Airline</th>\n",
       "      <th>Tail_Number</th>\n",
       "      <th>Flight_Number_Operating_Airline</th>\n",
       "      <th>...</th>\n",
       "      <th>Distance_Group</th>\n",
       "      <th>Carrier_Delay</th>\n",
       "      <th>Weather_Delay</th>\n",
       "      <th>NAS_Delay</th>\n",
       "      <th>Security_Delay</th>\n",
       "      <th>Late_Aircraft_Delay</th>\n",
       "      <th>Duplicate</th>\n",
       "      <th>Missing_Due_To_Cancellation</th>\n",
       "      <th>Airline</th>\n",
       "      <th>Marketing_Airline_Network</th>\n",
       "    </tr>\n",
       "  </thead>\n",
       "  <tbody>\n",
       "    <tr>\n",
       "      <th>5</th>\n",
       "      <td>2019</td>\n",
       "      <td>1</td>\n",
       "      <td>1</td>\n",
       "      <td>4</td>\n",
       "      <td>5</td>\n",
       "      <td>2019-01-04</td>\n",
       "      <td>UA</td>\n",
       "      <td>OO</td>\n",
       "      <td>N114SY</td>\n",
       "      <td>5661</td>\n",
       "      <td>...</td>\n",
       "      <td>3</td>\n",
       "      <td>NaN</td>\n",
       "      <td>NaN</td>\n",
       "      <td>NaN</td>\n",
       "      <td>NaN</td>\n",
       "      <td>NaN</td>\n",
       "      <td>N</td>\n",
       "      <td>False</td>\n",
       "      <td>SkyWest Airlines Inc.</td>\n",
       "      <td>United Airlines Inc.</td>\n",
       "    </tr>\n",
       "    <tr>\n",
       "      <th>6</th>\n",
       "      <td>2019</td>\n",
       "      <td>1</td>\n",
       "      <td>1</td>\n",
       "      <td>4</td>\n",
       "      <td>5</td>\n",
       "      <td>2019-01-04</td>\n",
       "      <td>UA</td>\n",
       "      <td>OO</td>\n",
       "      <td>N945SW</td>\n",
       "      <td>5664</td>\n",
       "      <td>...</td>\n",
       "      <td>3</td>\n",
       "      <td>NaN</td>\n",
       "      <td>NaN</td>\n",
       "      <td>NaN</td>\n",
       "      <td>NaN</td>\n",
       "      <td>NaN</td>\n",
       "      <td>N</td>\n",
       "      <td>False</td>\n",
       "      <td>SkyWest Airlines Inc.</td>\n",
       "      <td>United Airlines Inc.</td>\n",
       "    </tr>\n",
       "    <tr>\n",
       "      <th>9</th>\n",
       "      <td>2019</td>\n",
       "      <td>1</td>\n",
       "      <td>1</td>\n",
       "      <td>4</td>\n",
       "      <td>5</td>\n",
       "      <td>2019-01-04</td>\n",
       "      <td>UA</td>\n",
       "      <td>OO</td>\n",
       "      <td>N145SY</td>\n",
       "      <td>5668</td>\n",
       "      <td>...</td>\n",
       "      <td>3</td>\n",
       "      <td>NaN</td>\n",
       "      <td>NaN</td>\n",
       "      <td>NaN</td>\n",
       "      <td>NaN</td>\n",
       "      <td>NaN</td>\n",
       "      <td>N</td>\n",
       "      <td>False</td>\n",
       "      <td>SkyWest Airlines Inc.</td>\n",
       "      <td>United Airlines Inc.</td>\n",
       "    </tr>\n",
       "    <tr>\n",
       "      <th>11</th>\n",
       "      <td>2019</td>\n",
       "      <td>1</td>\n",
       "      <td>1</td>\n",
       "      <td>4</td>\n",
       "      <td>5</td>\n",
       "      <td>2019-01-04</td>\n",
       "      <td>UA</td>\n",
       "      <td>OO</td>\n",
       "      <td>N693BR</td>\n",
       "      <td>5670</td>\n",
       "      <td>...</td>\n",
       "      <td>3</td>\n",
       "      <td>13.0</td>\n",
       "      <td>0.0</td>\n",
       "      <td>3.0</td>\n",
       "      <td>0.0</td>\n",
       "      <td>10.0</td>\n",
       "      <td>N</td>\n",
       "      <td>False</td>\n",
       "      <td>SkyWest Airlines Inc.</td>\n",
       "      <td>United Airlines Inc.</td>\n",
       "    </tr>\n",
       "    <tr>\n",
       "      <th>12</th>\n",
       "      <td>2019</td>\n",
       "      <td>1</td>\n",
       "      <td>1</td>\n",
       "      <td>4</td>\n",
       "      <td>5</td>\n",
       "      <td>2019-01-04</td>\n",
       "      <td>UA</td>\n",
       "      <td>OO</td>\n",
       "      <td>N213SY</td>\n",
       "      <td>5671</td>\n",
       "      <td>...</td>\n",
       "      <td>1</td>\n",
       "      <td>NaN</td>\n",
       "      <td>NaN</td>\n",
       "      <td>NaN</td>\n",
       "      <td>NaN</td>\n",
       "      <td>NaN</td>\n",
       "      <td>N</td>\n",
       "      <td>False</td>\n",
       "      <td>SkyWest Airlines Inc.</td>\n",
       "      <td>United Airlines Inc.</td>\n",
       "    </tr>\n",
       "  </tbody>\n",
       "</table>\n",
       "<p>5 rows × 47 columns</p>\n",
       "</div>"
      ],
      "text/plain": [
       "    Year  Quarter  Month  Day_of_Month  Day_of_Week Flight_Date  \\\n",
       "5   2019        1      1             4            5  2019-01-04   \n",
       "6   2019        1      1             4            5  2019-01-04   \n",
       "9   2019        1      1             4            5  2019-01-04   \n",
       "11  2019        1      1             4            5  2019-01-04   \n",
       "12  2019        1      1             4            5  2019-01-04   \n",
       "\n",
       "   Marketing_Airline_Network_Code Operating_Airline Tail_Number  \\\n",
       "5                              UA                OO      N114SY   \n",
       "6                              UA                OO      N945SW   \n",
       "9                              UA                OO      N145SY   \n",
       "11                             UA                OO      N693BR   \n",
       "12                             UA                OO      N213SY   \n",
       "\n",
       "    Flight_Number_Operating_Airline  ... Distance_Group Carrier_Delay  \\\n",
       "5                              5661  ...              3           NaN   \n",
       "6                              5664  ...              3           NaN   \n",
       "9                              5668  ...              3           NaN   \n",
       "11                             5670  ...              3          13.0   \n",
       "12                             5671  ...              1           NaN   \n",
       "\n",
       "   Weather_Delay NAS_Delay Security_Delay Late_Aircraft_Delay Duplicate  \\\n",
       "5            NaN       NaN            NaN                 NaN         N   \n",
       "6            NaN       NaN            NaN                 NaN         N   \n",
       "9            NaN       NaN            NaN                 NaN         N   \n",
       "11           0.0       3.0            0.0                10.0         N   \n",
       "12           NaN       NaN            NaN                 NaN         N   \n",
       "\n",
       "   Missing_Due_To_Cancellation                Airline  \\\n",
       "5                        False  SkyWest Airlines Inc.   \n",
       "6                        False  SkyWest Airlines Inc.   \n",
       "9                        False  SkyWest Airlines Inc.   \n",
       "11                       False  SkyWest Airlines Inc.   \n",
       "12                       False  SkyWest Airlines Inc.   \n",
       "\n",
       "    Marketing_Airline_Network  \n",
       "5        United Airlines Inc.  \n",
       "6        United Airlines Inc.  \n",
       "9        United Airlines Inc.  \n",
       "11       United Airlines Inc.  \n",
       "12       United Airlines Inc.  \n",
       "\n",
       "[5 rows x 47 columns]"
      ]
     },
     "execution_count": 5,
     "metadata": {},
     "output_type": "execute_result"
    }
   ],
   "source": [
    "df.head()"
   ]
  },
  {
   "cell_type": "code",
   "execution_count": 6,
   "id": "925b5491-8ad2-42bf-850c-7a0b8352fe5c",
   "metadata": {},
   "outputs": [
    {
     "data": {
      "text/html": [
       "<div>\n",
       "<style scoped>\n",
       "    .dataframe tbody tr th:only-of-type {\n",
       "        vertical-align: middle;\n",
       "    }\n",
       "\n",
       "    .dataframe tbody tr th {\n",
       "        vertical-align: top;\n",
       "    }\n",
       "\n",
       "    .dataframe thead th {\n",
       "        text-align: right;\n",
       "    }\n",
       "</style>\n",
       "<table border=\"1\" class=\"dataframe\">\n",
       "  <thead>\n",
       "    <tr style=\"text-align: right;\">\n",
       "      <th></th>\n",
       "      <th>Year</th>\n",
       "      <th>Quarter</th>\n",
       "      <th>Month</th>\n",
       "      <th>Day_of_Month</th>\n",
       "      <th>Day_of_Week</th>\n",
       "      <th>Flight_Date</th>\n",
       "      <th>Marketing_Airline_Network_Code</th>\n",
       "      <th>Operating_Airline</th>\n",
       "      <th>Tail_Number</th>\n",
       "      <th>Flight_Number_Operating_Airline</th>\n",
       "      <th>...</th>\n",
       "      <th>Distance_Group</th>\n",
       "      <th>Carrier_Delay</th>\n",
       "      <th>Weather_Delay</th>\n",
       "      <th>NAS_Delay</th>\n",
       "      <th>Security_Delay</th>\n",
       "      <th>Late_Aircraft_Delay</th>\n",
       "      <th>Duplicate</th>\n",
       "      <th>Missing_Due_To_Cancellation</th>\n",
       "      <th>Airline</th>\n",
       "      <th>Marketing_Airline_Network</th>\n",
       "    </tr>\n",
       "  </thead>\n",
       "  <tbody>\n",
       "    <tr>\n",
       "      <th>7013492</th>\n",
       "      <td>2022</td>\n",
       "      <td>4</td>\n",
       "      <td>12</td>\n",
       "      <td>1</td>\n",
       "      <td>4</td>\n",
       "      <td>2022-12-01</td>\n",
       "      <td>UA</td>\n",
       "      <td>YX</td>\n",
       "      <td>N739YX</td>\n",
       "      <td>3414</td>\n",
       "      <td>...</td>\n",
       "      <td>1</td>\n",
       "      <td>NaN</td>\n",
       "      <td>NaN</td>\n",
       "      <td>NaN</td>\n",
       "      <td>NaN</td>\n",
       "      <td>NaN</td>\n",
       "      <td>N</td>\n",
       "      <td>False</td>\n",
       "      <td>Republic Airlines</td>\n",
       "      <td>United Airlines Inc.</td>\n",
       "    </tr>\n",
       "    <tr>\n",
       "      <th>7013493</th>\n",
       "      <td>2022</td>\n",
       "      <td>4</td>\n",
       "      <td>12</td>\n",
       "      <td>1</td>\n",
       "      <td>4</td>\n",
       "      <td>2022-12-01</td>\n",
       "      <td>UA</td>\n",
       "      <td>YX</td>\n",
       "      <td>N643RW</td>\n",
       "      <td>3413</td>\n",
       "      <td>...</td>\n",
       "      <td>2</td>\n",
       "      <td>0.0</td>\n",
       "      <td>0.0</td>\n",
       "      <td>0.0</td>\n",
       "      <td>0.0</td>\n",
       "      <td>48.0</td>\n",
       "      <td>N</td>\n",
       "      <td>False</td>\n",
       "      <td>Republic Airlines</td>\n",
       "      <td>United Airlines Inc.</td>\n",
       "    </tr>\n",
       "    <tr>\n",
       "      <th>7013494</th>\n",
       "      <td>2022</td>\n",
       "      <td>4</td>\n",
       "      <td>12</td>\n",
       "      <td>1</td>\n",
       "      <td>4</td>\n",
       "      <td>2022-12-01</td>\n",
       "      <td>UA</td>\n",
       "      <td>YX</td>\n",
       "      <td>N729YX</td>\n",
       "      <td>3410</td>\n",
       "      <td>...</td>\n",
       "      <td>3</td>\n",
       "      <td>NaN</td>\n",
       "      <td>NaN</td>\n",
       "      <td>NaN</td>\n",
       "      <td>NaN</td>\n",
       "      <td>NaN</td>\n",
       "      <td>N</td>\n",
       "      <td>False</td>\n",
       "      <td>Republic Airlines</td>\n",
       "      <td>United Airlines Inc.</td>\n",
       "    </tr>\n",
       "    <tr>\n",
       "      <th>7013495</th>\n",
       "      <td>2022</td>\n",
       "      <td>4</td>\n",
       "      <td>12</td>\n",
       "      <td>1</td>\n",
       "      <td>4</td>\n",
       "      <td>2022-12-01</td>\n",
       "      <td>UA</td>\n",
       "      <td>YX</td>\n",
       "      <td>N646RW</td>\n",
       "      <td>3409</td>\n",
       "      <td>...</td>\n",
       "      <td>1</td>\n",
       "      <td>NaN</td>\n",
       "      <td>NaN</td>\n",
       "      <td>NaN</td>\n",
       "      <td>NaN</td>\n",
       "      <td>NaN</td>\n",
       "      <td>N</td>\n",
       "      <td>False</td>\n",
       "      <td>Republic Airlines</td>\n",
       "      <td>United Airlines Inc.</td>\n",
       "    </tr>\n",
       "    <tr>\n",
       "      <th>7013500</th>\n",
       "      <td>2022</td>\n",
       "      <td>4</td>\n",
       "      <td>12</td>\n",
       "      <td>1</td>\n",
       "      <td>4</td>\n",
       "      <td>2022-12-01</td>\n",
       "      <td>UA</td>\n",
       "      <td>YX</td>\n",
       "      <td>N750YX</td>\n",
       "      <td>3401</td>\n",
       "      <td>...</td>\n",
       "      <td>2</td>\n",
       "      <td>NaN</td>\n",
       "      <td>NaN</td>\n",
       "      <td>NaN</td>\n",
       "      <td>NaN</td>\n",
       "      <td>NaN</td>\n",
       "      <td>N</td>\n",
       "      <td>False</td>\n",
       "      <td>Republic Airlines</td>\n",
       "      <td>United Airlines Inc.</td>\n",
       "    </tr>\n",
       "  </tbody>\n",
       "</table>\n",
       "<p>5 rows × 47 columns</p>\n",
       "</div>"
      ],
      "text/plain": [
       "         Year  Quarter  Month  Day_of_Month  Day_of_Week Flight_Date  \\\n",
       "7013492  2022        4     12             1            4  2022-12-01   \n",
       "7013493  2022        4     12             1            4  2022-12-01   \n",
       "7013494  2022        4     12             1            4  2022-12-01   \n",
       "7013495  2022        4     12             1            4  2022-12-01   \n",
       "7013500  2022        4     12             1            4  2022-12-01   \n",
       "\n",
       "        Marketing_Airline_Network_Code Operating_Airline Tail_Number  \\\n",
       "7013492                             UA                YX      N739YX   \n",
       "7013493                             UA                YX      N643RW   \n",
       "7013494                             UA                YX      N729YX   \n",
       "7013495                             UA                YX      N646RW   \n",
       "7013500                             UA                YX      N750YX   \n",
       "\n",
       "         Flight_Number_Operating_Airline  ... Distance_Group Carrier_Delay  \\\n",
       "7013492                             3414  ...              1           NaN   \n",
       "7013493                             3413  ...              2           0.0   \n",
       "7013494                             3410  ...              3           NaN   \n",
       "7013495                             3409  ...              1           NaN   \n",
       "7013500                             3401  ...              2           NaN   \n",
       "\n",
       "        Weather_Delay NAS_Delay Security_Delay Late_Aircraft_Delay Duplicate  \\\n",
       "7013492           NaN       NaN            NaN                 NaN         N   \n",
       "7013493           0.0       0.0            0.0                48.0         N   \n",
       "7013494           NaN       NaN            NaN                 NaN         N   \n",
       "7013495           NaN       NaN            NaN                 NaN         N   \n",
       "7013500           NaN       NaN            NaN                 NaN         N   \n",
       "\n",
       "        Missing_Due_To_Cancellation            Airline  \\\n",
       "7013492                       False  Republic Airlines   \n",
       "7013493                       False  Republic Airlines   \n",
       "7013494                       False  Republic Airlines   \n",
       "7013495                       False  Republic Airlines   \n",
       "7013500                       False  Republic Airlines   \n",
       "\n",
       "         Marketing_Airline_Network  \n",
       "7013492       United Airlines Inc.  \n",
       "7013493       United Airlines Inc.  \n",
       "7013494       United Airlines Inc.  \n",
       "7013495       United Airlines Inc.  \n",
       "7013500       United Airlines Inc.  \n",
       "\n",
       "[5 rows x 47 columns]"
      ]
     },
     "execution_count": 6,
     "metadata": {},
     "output_type": "execute_result"
    }
   ],
   "source": [
    "df.tail()"
   ]
  },
  {
   "cell_type": "code",
   "execution_count": 7,
   "id": "b65dafde-aeaa-4583-bdc1-298071a338ab",
   "metadata": {},
   "outputs": [],
   "source": [
    "datatypes = df.dtypes"
   ]
  },
  {
   "cell_type": "code",
   "execution_count": 8,
   "id": "ff467a2e-0e12-4a52-a010-fcccc056130a",
   "metadata": {},
   "outputs": [
    {
     "name": "stdout",
     "output_type": "stream",
     "text": [
      "Year                                 int64\n",
      "Quarter                              int64\n",
      "Month                                int64\n",
      "Day_of_Month                         int64\n",
      "Day_of_Week                          int64\n",
      "Flight_Date                         object\n",
      "Marketing_Airline_Network_Code      object\n",
      "Operating_Airline                   object\n",
      "Tail_Number                         object\n",
      "Flight_Number_Operating_Airline      int64\n",
      "Origin                              object\n",
      "Origin_City_Name                    object\n",
      "Origin_State                        object\n",
      "Origin_State_Name                   object\n",
      "Dest                                object\n",
      "Dest_City_Name                      object\n",
      "Dest_State                          object\n",
      "Dest_State_Name                     object\n",
      "Dep_Time                           float64\n",
      "Dep_Delay                          float64\n",
      "Dep_Delay_Minutes                  float64\n",
      "Dep_Del_15                         float64\n",
      "Departure_Delay_Groups             float64\n",
      "Dep_Time_Blk                        object\n",
      "Arr_Time                           float64\n",
      "Arr_Delay                          float64\n",
      "Arr_Delay_Minutes                  float64\n",
      "Arr_Del_15                         float64\n",
      "Arrival_Delay_Groups               float64\n",
      "Arr_Time_Blk                        object\n",
      "Cancelled                          float64\n",
      "Cancellation_Code                   object\n",
      "Diverted                           float64\n",
      "Actual_Elapsed_Time                float64\n",
      "Air_Time                           float64\n",
      "Flights                            float64\n",
      "Distance                           float64\n",
      "Distance_Group                       int64\n",
      "Carrier_Delay                      float64\n",
      "Weather_Delay                      float64\n",
      "NAS_Delay                          float64\n",
      "Security_Delay                     float64\n",
      "Late_Aircraft_Delay                float64\n",
      "Duplicate                           object\n",
      "Missing_Due_To_Cancellation           bool\n",
      "Airline                             object\n",
      "Marketing_Airline_Network           object\n",
      "dtype: object\n"
     ]
    }
   ],
   "source": [
    "print(datatypes)"
   ]
  },
  {
   "cell_type": "markdown",
   "id": "ebe7f88e-d61f-4d04-8634-868ed0ff8dd8",
   "metadata": {},
   "source": [
    "## Downcasting Datatypes"
   ]
  },
  {
   "cell_type": "code",
   "execution_count": 9,
   "id": "8bfc3879-d2be-4b9f-97fb-7a75bdc60316",
   "metadata": {},
   "outputs": [],
   "source": [
    "# use the pd.to_numeric() function to downcast numeric data:\n",
    "\n",
    "df['Year'] = pd.to_numeric(df['Year'], downcast='integer')"
   ]
  },
  {
   "cell_type": "code",
   "execution_count": 10,
   "id": "2543c6dc-3f41-4a3d-8169-f853d0f638a0",
   "metadata": {},
   "outputs": [
    {
     "data": {
      "text/plain": [
       "dtype('int16')"
      ]
     },
     "execution_count": 10,
     "metadata": {},
     "output_type": "execute_result"
    }
   ],
   "source": [
    "# Check Year dtype to ensure the change\n",
    "\n",
    "df['Year'].dtype"
   ]
  },
  {
   "cell_type": "code",
   "execution_count": 11,
   "id": "0868bcf7-d74c-49f9-aaf2-a6db1829a26b",
   "metadata": {},
   "outputs": [],
   "source": [
    "# Downcast remaining integers and floats\n",
    "\n",
    "df['Quarter'] = pd.to_numeric(df['Quarter'], downcast='integer')"
   ]
  },
  {
   "cell_type": "code",
   "execution_count": 12,
   "id": "3ee6a30f-6c98-4c4e-8b2b-7c9a16a221e4",
   "metadata": {},
   "outputs": [],
   "source": [
    "df['Month'] = pd.to_numeric(df['Month'], downcast='integer')"
   ]
  },
  {
   "cell_type": "code",
   "execution_count": 13,
   "id": "477cbbe1-72e8-4b30-bf9c-f0f9f62343d9",
   "metadata": {},
   "outputs": [],
   "source": [
    "df['Day_of_Month'] = pd.to_numeric(df['Day_of_Month'], downcast='integer')"
   ]
  },
  {
   "cell_type": "code",
   "execution_count": 14,
   "id": "070670bd-fd29-4837-a4c7-47c64d5db8ce",
   "metadata": {},
   "outputs": [],
   "source": [
    "df['Day_of_Week'] = pd.to_numeric(df['Day_of_Week'], downcast='integer')"
   ]
  },
  {
   "cell_type": "code",
   "execution_count": 15,
   "id": "c06e9a3e-03f3-4f19-b01b-52b3abb09676",
   "metadata": {},
   "outputs": [],
   "source": [
    "df['Flight_Number_Operating_Airline'] = pd.to_numeric(df['Flight_Number_Operating_Airline'], downcast='integer')"
   ]
  },
  {
   "cell_type": "code",
   "execution_count": 16,
   "id": "ce52cc47-bf24-4280-b8fb-eeabea0bb077",
   "metadata": {},
   "outputs": [],
   "source": [
    "df['Dep_Time'] = pd.to_numeric(df['Dep_Time'], downcast='float')"
   ]
  },
  {
   "cell_type": "code",
   "execution_count": 17,
   "id": "c15b7604-e169-4d30-b077-45fa76394ecd",
   "metadata": {},
   "outputs": [],
   "source": [
    "df['Dep_Delay'] = pd.to_numeric(df['Dep_Delay'], downcast='float')"
   ]
  },
  {
   "cell_type": "code",
   "execution_count": 18,
   "id": "f34d4dbe-b3fa-4fe9-85ec-f78efd11a4d5",
   "metadata": {},
   "outputs": [],
   "source": [
    "df['Dep_Delay_Minutes'] = pd.to_numeric(df['Dep_Delay_Minutes'], downcast='float')"
   ]
  },
  {
   "cell_type": "code",
   "execution_count": 19,
   "id": "aae0d9e0-7c12-499e-84ba-bb407a2ac5f9",
   "metadata": {},
   "outputs": [],
   "source": [
    "df['Dep_Del_15'] = pd.to_numeric(df['Dep_Del_15'], downcast='float')"
   ]
  },
  {
   "cell_type": "code",
   "execution_count": 20,
   "id": "672ee77d-28c8-438f-98ed-f0c340f51f20",
   "metadata": {},
   "outputs": [],
   "source": [
    "df['Departure_Delay_Groups'] = pd.to_numeric(df['Departure_Delay_Groups'], downcast='float')"
   ]
  },
  {
   "cell_type": "code",
   "execution_count": 21,
   "id": "0c3ec799-fefd-4578-af96-1ee044ff13b3",
   "metadata": {},
   "outputs": [
    {
     "data": {
      "text/plain": [
       "Dep_Time_Blk\n",
       "0800-0859    1022248\n",
       "1000-1059     908269\n",
       "0900-0959     838549\n",
       "1500-1559     815428\n",
       "1100-1159     768284\n",
       "1800-1859     760737\n",
       "1900-1959     748944\n",
       "1200-1259     737611\n",
       "0700-0759     730142\n",
       "1300-1359     729329\n",
       "1700-1759     729248\n",
       "1400-1459     709326\n",
       "2000-2059     693076\n",
       "1600-1659     674666\n",
       "0600-0659     568006\n",
       "2100-2159     513913\n",
       "2200-2259     343971\n",
       "0001-0559     187426\n",
       "2300-2359     128873\n",
       "Name: count, dtype: int64"
      ]
     },
     "execution_count": 21,
     "metadata": {},
     "output_type": "execute_result"
    }
   ],
   "source": [
    "# Inspect Dep_Time_Blk to see why it is an object\n",
    "\n",
    "df['Dep_Time_Blk'].value_counts()"
   ]
  },
  {
   "cell_type": "markdown",
   "id": "b793a932-6541-4803-8532-d9bd2689c9d3",
   "metadata": {},
   "source": [
    "### The time blocks are an object datatype because they contain strings (with '-' between each time range)."
   ]
  },
  {
   "cell_type": "code",
   "execution_count": 22,
   "id": "ae3ea526-4154-4484-94e0-1e9d2065f49c",
   "metadata": {},
   "outputs": [],
   "source": [
    "# Continue downcasting remaining variables\n",
    "\n",
    "df['Arr_Time'] = pd.to_numeric(df['Arr_Time'], downcast='float')"
   ]
  },
  {
   "cell_type": "code",
   "execution_count": 23,
   "id": "15bca502-5a2a-4315-aac1-221fe03da9f1",
   "metadata": {},
   "outputs": [],
   "source": [
    "df['Arr_Delay_Minutes'] = pd.to_numeric(df['Arr_Delay_Minutes'], downcast='float')"
   ]
  },
  {
   "cell_type": "code",
   "execution_count": 24,
   "id": "1ff003ce-2739-4b69-acf1-3b8c9bf61a56",
   "metadata": {},
   "outputs": [],
   "source": [
    "df['Arr_Del_15'] = pd.to_numeric(df['Arr_Del_15'], downcast='float')"
   ]
  },
  {
   "cell_type": "code",
   "execution_count": 25,
   "id": "8f0f222c-b9cb-452f-93b7-62f011de1b17",
   "metadata": {},
   "outputs": [],
   "source": [
    "df['Arrival_Delay_Groups'] = pd.to_numeric(df['Arrival_Delay_Groups'], downcast='float')"
   ]
  },
  {
   "cell_type": "code",
   "execution_count": 26,
   "id": "4711b6ee-31ab-4489-9531-d5ceeebb9f7c",
   "metadata": {},
   "outputs": [
    {
     "data": {
      "text/plain": [
       "Cancelled\n",
       "0.0    12262329\n",
       "1.0      345717\n",
       "Name: count, dtype: int64"
      ]
     },
     "execution_count": 26,
     "metadata": {},
     "output_type": "execute_result"
    }
   ],
   "source": [
    "# Inspect Cancelled to see why its a float\n",
    "\n",
    "df['Cancelled'].value_counts()"
   ]
  },
  {
   "cell_type": "code",
   "execution_count": 27,
   "id": "a6ae99ed-5896-4c1a-b172-abc6728be7a8",
   "metadata": {},
   "outputs": [],
   "source": [
    "# Downcast Cancelled and continue with remaining columns\n",
    "\n",
    "df['Cancelled'] = pd.to_numeric(df['Cancelled'], downcast='float')"
   ]
  },
  {
   "cell_type": "code",
   "execution_count": 28,
   "id": "1d392dcd-ec60-4780-a7b3-0080deba8f4e",
   "metadata": {},
   "outputs": [],
   "source": [
    "# Convert Cancellation Code to a Category\n",
    "\n",
    "df['Cancellation_Code'] = df['Cancellation_Code'].astype('category')"
   ]
  },
  {
   "cell_type": "code",
   "execution_count": 29,
   "id": "b3e91c81-7c06-4755-92fb-b56f646bd6e4",
   "metadata": {},
   "outputs": [
    {
     "data": {
      "text/plain": [
       "Cancellation_Code\n",
       "B    120333\n",
       "D    112048\n",
       "A     82459\n",
       "C     30877\n",
       "Name: count, dtype: int64"
      ]
     },
     "execution_count": 29,
     "metadata": {},
     "output_type": "execute_result"
    }
   ],
   "source": [
    "df['Cancellation_Code'].value_counts()"
   ]
  },
  {
   "cell_type": "code",
   "execution_count": 30,
   "id": "e36ef994-04d9-4796-9c7b-6a2a45fb7953",
   "metadata": {},
   "outputs": [],
   "source": [
    "df['Diverted'] = pd.to_numeric(df['Diverted'], downcast='float')"
   ]
  },
  {
   "cell_type": "code",
   "execution_count": 31,
   "id": "2469609e-df7f-429f-ae28-b6ca515392ad",
   "metadata": {},
   "outputs": [],
   "source": [
    "df['Actual_Elapsed_Time'] = pd.to_numeric(df['Actual_Elapsed_Time'], downcast='float')"
   ]
  },
  {
   "cell_type": "code",
   "execution_count": 32,
   "id": "88aa00f7-aa4b-4449-828d-a377a41293d9",
   "metadata": {},
   "outputs": [],
   "source": [
    "df['Air_Time'] = pd.to_numeric(df['Air_Time'], downcast='float')"
   ]
  },
  {
   "cell_type": "code",
   "execution_count": 33,
   "id": "48c5ea8e-1992-4ff9-9397-611ed313a86f",
   "metadata": {},
   "outputs": [],
   "source": [
    "df['Flights'] = pd.to_numeric(df['Flights'], downcast='float')"
   ]
  },
  {
   "cell_type": "code",
   "execution_count": 34,
   "id": "d9db4dc0-dc1c-47c0-a1e1-924436c5f00b",
   "metadata": {},
   "outputs": [],
   "source": [
    "df['Distance'] = pd.to_numeric(df['Distance'], downcast='float')"
   ]
  },
  {
   "cell_type": "code",
   "execution_count": 35,
   "id": "5d3e05f6-c19b-4103-8094-057eee32a907",
   "metadata": {},
   "outputs": [],
   "source": [
    "df['Distance_Group'] = pd.to_numeric(df['Distance_Group'], downcast='integer')"
   ]
  },
  {
   "cell_type": "code",
   "execution_count": 36,
   "id": "4651a99e-f43a-432d-b02f-e0082b94e81f",
   "metadata": {},
   "outputs": [],
   "source": [
    "df['Carrier_Delay'] = pd.to_numeric(df['Carrier_Delay'], downcast='float')"
   ]
  },
  {
   "cell_type": "code",
   "execution_count": 37,
   "id": "600306be-be16-42f2-b81a-fc1de42c0ff4",
   "metadata": {},
   "outputs": [],
   "source": [
    "df['Weather_Delay'] = pd.to_numeric(df['Weather_Delay'], downcast='float')"
   ]
  },
  {
   "cell_type": "code",
   "execution_count": 38,
   "id": "119ab625-ab18-4351-9dd4-926d31e98c17",
   "metadata": {},
   "outputs": [],
   "source": [
    "df['NAS_Delay'] = pd.to_numeric(df['NAS_Delay'], downcast='float')"
   ]
  },
  {
   "cell_type": "code",
   "execution_count": 39,
   "id": "1f1b040a-5da7-4f3f-91cc-52e58a9d3764",
   "metadata": {},
   "outputs": [],
   "source": [
    "df['Security_Delay'] = pd.to_numeric(df['Security_Delay'], downcast='float')"
   ]
  },
  {
   "cell_type": "code",
   "execution_count": 40,
   "id": "f004b11a-d6d2-458f-a446-ecb1e41e5fa9",
   "metadata": {},
   "outputs": [],
   "source": [
    "df['Late_Aircraft_Delay'] = pd.to_numeric(df['Late_Aircraft_Delay'], downcast='float')"
   ]
  },
  {
   "cell_type": "code",
   "execution_count": 41,
   "id": "b67aa18c-e55d-426d-9d00-597ef1f8d444",
   "metadata": {},
   "outputs": [],
   "source": [
    "# Check to ensure changes made\n",
    "\n",
    "datatypes = df.dtypes"
   ]
  },
  {
   "cell_type": "code",
   "execution_count": 42,
   "id": "10a140a2-f7cd-4300-adeb-299c45e7ea2e",
   "metadata": {},
   "outputs": [
    {
     "name": "stdout",
     "output_type": "stream",
     "text": [
      "Year                                  int16\n",
      "Quarter                                int8\n",
      "Month                                  int8\n",
      "Day_of_Month                           int8\n",
      "Day_of_Week                            int8\n",
      "Flight_Date                          object\n",
      "Marketing_Airline_Network_Code       object\n",
      "Operating_Airline                    object\n",
      "Tail_Number                          object\n",
      "Flight_Number_Operating_Airline       int16\n",
      "Origin                               object\n",
      "Origin_City_Name                     object\n",
      "Origin_State                         object\n",
      "Origin_State_Name                    object\n",
      "Dest                                 object\n",
      "Dest_City_Name                       object\n",
      "Dest_State                           object\n",
      "Dest_State_Name                      object\n",
      "Dep_Time                            float32\n",
      "Dep_Delay                           float32\n",
      "Dep_Delay_Minutes                   float32\n",
      "Dep_Del_15                          float32\n",
      "Departure_Delay_Groups              float32\n",
      "Dep_Time_Blk                         object\n",
      "Arr_Time                            float32\n",
      "Arr_Delay                           float64\n",
      "Arr_Delay_Minutes                   float32\n",
      "Arr_Del_15                          float32\n",
      "Arrival_Delay_Groups                float32\n",
      "Arr_Time_Blk                         object\n",
      "Cancelled                           float32\n",
      "Cancellation_Code                  category\n",
      "Diverted                            float32\n",
      "Actual_Elapsed_Time                 float32\n",
      "Air_Time                            float32\n",
      "Flights                             float32\n",
      "Distance                            float32\n",
      "Distance_Group                         int8\n",
      "Carrier_Delay                       float32\n",
      "Weather_Delay                       float32\n",
      "NAS_Delay                           float32\n",
      "Security_Delay                      float32\n",
      "Late_Aircraft_Delay                 float32\n",
      "Duplicate                            object\n",
      "Missing_Due_To_Cancellation            bool\n",
      "Airline                              object\n",
      "Marketing_Airline_Network            object\n",
      "dtype: object\n"
     ]
    }
   ],
   "source": [
    "print(datatypes)"
   ]
  },
  {
   "cell_type": "markdown",
   "id": "6c98bef0-85e3-49b1-afd2-2e9c0003720d",
   "metadata": {},
   "source": [
    "## Search for any remaining Mixed Datatypes and correct."
   ]
  },
  {
   "cell_type": "code",
   "execution_count": 44,
   "id": "e306fe1e-2e02-49a0-bcd8-186399b332e9",
   "metadata": {},
   "outputs": [],
   "source": [
    "import warnings\n",
    "\n",
    "warnings.simplefilter(action='ignore', category=FutureWarning)"
   ]
  },
  {
   "cell_type": "code",
   "execution_count": 45,
   "id": "9aebcf97-6210-44fa-a5fd-4b249ff78af9",
   "metadata": {},
   "outputs": [
    {
     "name": "stdout",
     "output_type": "stream",
     "text": [
      "Cancellation_Code\n"
     ]
    }
   ],
   "source": [
    "for col in df.columns.tolist():\n",
    "      weird = (df[[col]].applymap(type) != df[[col]].iloc[0].apply(type)).any(axis = 1)\n",
    "      if len (df[weird]) > 0:\n",
    "        print (col)"
   ]
  },
  {
   "cell_type": "code",
   "execution_count": 46,
   "id": "e47e0c8f-c0ff-4a25-ae90-da0910c63882",
   "metadata": {},
   "outputs": [],
   "source": [
    "# Correct the Cancellation_Code Mixed Datatype\n",
    "# There are no missing values\n",
    "\n",
    "df['Cancellation_Code'] = df['Cancellation_Code'].astype(str)"
   ]
  },
  {
   "cell_type": "code",
   "execution_count": 47,
   "id": "55d55450-cc3e-45d0-b38f-48f46ee90d70",
   "metadata": {},
   "outputs": [],
   "source": [
    "# Export as .csv for further analysis\n",
    "\n",
    "df.to_csv(os.path.join(path, 'all_flights.csv'))"
   ]
  }
 ],
 "metadata": {
  "kernelspec": {
   "display_name": "Python 3 (ipykernel)",
   "language": "python",
   "name": "python3"
  },
  "language_info": {
   "codemirror_mode": {
    "name": "ipython",
    "version": 3
   },
   "file_extension": ".py",
   "mimetype": "text/x-python",
   "name": "python",
   "nbconvert_exporter": "python",
   "pygments_lexer": "ipython3",
   "version": "3.11.5"
  }
 },
 "nbformat": 4,
 "nbformat_minor": 5
}
