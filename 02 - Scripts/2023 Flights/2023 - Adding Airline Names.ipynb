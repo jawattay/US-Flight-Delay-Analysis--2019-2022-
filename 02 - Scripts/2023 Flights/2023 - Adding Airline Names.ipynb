{
 "cells": [
  {
   "cell_type": "code",
   "execution_count": 1,
   "id": "dcc9129c-e94d-4a9b-ad09-2d7a755a1f85",
   "metadata": {},
   "outputs": [],
   "source": [
    "#Import Libraries\n",
    "\n",
    "import pandas as pd\n",
    "import os"
   ]
  },
  {
   "cell_type": "code",
   "execution_count": 2,
   "id": "0c4d8ec8-6a06-41d2-9271-9d1921709efb",
   "metadata": {},
   "outputs": [],
   "source": [
    "# Set Path\n",
    "\n",
    "path = r'C:\\Users\\Josh Wattay\\OneDrive\\Documents\\Desktop\\Flight Delay Analysis - Raw Data'"
   ]
  },
  {
   "cell_type": "code",
   "execution_count": 3,
   "id": "18b5fa8e-57f6-4a6b-aec8-26ba6b02fb3e",
   "metadata": {},
   "outputs": [],
   "source": [
    "# Import Data Sets\n",
    "\n",
    "airlines = pd.read_csv(os.path.join(path, 'Airlines.csv'), index_col = 0)"
   ]
  },
  {
   "cell_type": "code",
   "execution_count": 4,
   "id": "adcacc59-c93e-40c3-b4f1-b9126870ba71",
   "metadata": {},
   "outputs": [
    {
     "data": {
      "text/plain": [
       "(1571, 1)"
      ]
     },
     "execution_count": 4,
     "metadata": {},
     "output_type": "execute_result"
    }
   ],
   "source": [
    "airlines.shape"
   ]
  },
  {
   "cell_type": "code",
   "execution_count": 5,
   "id": "430a97ce-b55d-438c-84e1-4a8e404d3470",
   "metadata": {},
   "outputs": [
    {
     "data": {
      "text/html": [
       "<div>\n",
       "<style scoped>\n",
       "    .dataframe tbody tr th:only-of-type {\n",
       "        vertical-align: middle;\n",
       "    }\n",
       "\n",
       "    .dataframe tbody tr th {\n",
       "        vertical-align: top;\n",
       "    }\n",
       "\n",
       "    .dataframe thead th {\n",
       "        text-align: right;\n",
       "    }\n",
       "</style>\n",
       "<table border=\"1\" class=\"dataframe\">\n",
       "  <thead>\n",
       "    <tr style=\"text-align: right;\">\n",
       "      <th></th>\n",
       "      <th>Description</th>\n",
       "    </tr>\n",
       "    <tr>\n",
       "      <th>Code</th>\n",
       "      <th></th>\n",
       "    </tr>\n",
       "  </thead>\n",
       "  <tbody>\n",
       "    <tr>\n",
       "      <th>02Q</th>\n",
       "      <td>Titan Airways</td>\n",
       "    </tr>\n",
       "    <tr>\n",
       "      <th>04Q</th>\n",
       "      <td>Tradewind Aviation</td>\n",
       "    </tr>\n",
       "    <tr>\n",
       "      <th>05Q</th>\n",
       "      <td>Comlux Aviation, AG</td>\n",
       "    </tr>\n",
       "    <tr>\n",
       "      <th>06Q</th>\n",
       "      <td>Master Top Linhas Aereas Ltd.</td>\n",
       "    </tr>\n",
       "    <tr>\n",
       "      <th>07Q</th>\n",
       "      <td>Flair Airlines Ltd.</td>\n",
       "    </tr>\n",
       "  </tbody>\n",
       "</table>\n",
       "</div>"
      ],
      "text/plain": [
       "                        Description\n",
       "Code                               \n",
       "02Q                   Titan Airways\n",
       "04Q              Tradewind Aviation\n",
       "05Q             Comlux Aviation, AG\n",
       "06Q   Master Top Linhas Aereas Ltd.\n",
       "07Q             Flair Airlines Ltd."
      ]
     },
     "execution_count": 5,
     "metadata": {},
     "output_type": "execute_result"
    }
   ],
   "source": [
    "airlines.head()"
   ]
  },
  {
   "cell_type": "code",
   "execution_count": 6,
   "id": "05178da9-3940-4a69-95fb-0d4b269bcff1",
   "metadata": {},
   "outputs": [],
   "source": [
    "df = pd.read_csv(os.path.join(path, 'clean_flights2023.csv'), low_memory=False, index_col = 0)"
   ]
  },
  {
   "cell_type": "code",
   "execution_count": 7,
   "id": "842bbdd5-0606-4956-b9f9-726877dddc7a",
   "metadata": {},
   "outputs": [
    {
     "data": {
      "text/plain": [
       "(7278739, 65)"
      ]
     },
     "execution_count": 7,
     "metadata": {},
     "output_type": "execute_result"
    }
   ],
   "source": [
    "df.shape"
   ]
  },
  {
   "cell_type": "code",
   "execution_count": 8,
   "id": "b190317e-ce42-4160-be23-e9472d58ab3c",
   "metadata": {},
   "outputs": [
    {
     "data": {
      "text/html": [
       "<div>\n",
       "<style scoped>\n",
       "    .dataframe tbody tr th:only-of-type {\n",
       "        vertical-align: middle;\n",
       "    }\n",
       "\n",
       "    .dataframe tbody tr th {\n",
       "        vertical-align: top;\n",
       "    }\n",
       "\n",
       "    .dataframe thead th {\n",
       "        text-align: right;\n",
       "    }\n",
       "</style>\n",
       "<table border=\"1\" class=\"dataframe\">\n",
       "  <thead>\n",
       "    <tr style=\"text-align: right;\">\n",
       "      <th></th>\n",
       "      <th>Year</th>\n",
       "      <th>Quarter</th>\n",
       "      <th>Month</th>\n",
       "      <th>Day_of_Month</th>\n",
       "      <th>Day_of_Week</th>\n",
       "      <th>Flight_Date</th>\n",
       "      <th>Marketing_Airline_Network</th>\n",
       "      <th>DOT_ID_Marketing_Airline</th>\n",
       "      <th>IATA_Code_Marketing_Airline</th>\n",
       "      <th>Flight_Number_Marketing_Airline</th>\n",
       "      <th>...</th>\n",
       "      <th>Flights</th>\n",
       "      <th>Distance</th>\n",
       "      <th>Distance_Group</th>\n",
       "      <th>Carrier_Delay</th>\n",
       "      <th>Weather_Delay</th>\n",
       "      <th>NAS_Delay</th>\n",
       "      <th>Security_Delay</th>\n",
       "      <th>Late_Aircraft_Delay</th>\n",
       "      <th>Duplicate</th>\n",
       "      <th>Missing_Due_To_Cancellation</th>\n",
       "    </tr>\n",
       "  </thead>\n",
       "  <tbody>\n",
       "    <tr>\n",
       "      <th>0</th>\n",
       "      <td>2023</td>\n",
       "      <td>1</td>\n",
       "      <td>1</td>\n",
       "      <td>22</td>\n",
       "      <td>7</td>\n",
       "      <td>2023-01-22</td>\n",
       "      <td>B6</td>\n",
       "      <td>20409</td>\n",
       "      <td>B6</td>\n",
       "      <td>1447</td>\n",
       "      <td>...</td>\n",
       "      <td>1.0</td>\n",
       "      <td>1032.0</td>\n",
       "      <td>5</td>\n",
       "      <td>NaN</td>\n",
       "      <td>NaN</td>\n",
       "      <td>NaN</td>\n",
       "      <td>NaN</td>\n",
       "      <td>NaN</td>\n",
       "      <td>N</td>\n",
       "      <td>False</td>\n",
       "    </tr>\n",
       "    <tr>\n",
       "      <th>1</th>\n",
       "      <td>2023</td>\n",
       "      <td>1</td>\n",
       "      <td>1</td>\n",
       "      <td>22</td>\n",
       "      <td>7</td>\n",
       "      <td>2023-01-22</td>\n",
       "      <td>B6</td>\n",
       "      <td>20409</td>\n",
       "      <td>B6</td>\n",
       "      <td>1451</td>\n",
       "      <td>...</td>\n",
       "      <td>1.0</td>\n",
       "      <td>1121.0</td>\n",
       "      <td>5</td>\n",
       "      <td>39.0</td>\n",
       "      <td>0.0</td>\n",
       "      <td>1.0</td>\n",
       "      <td>0.0</td>\n",
       "      <td>14.0</td>\n",
       "      <td>N</td>\n",
       "      <td>False</td>\n",
       "    </tr>\n",
       "    <tr>\n",
       "      <th>2</th>\n",
       "      <td>2023</td>\n",
       "      <td>1</td>\n",
       "      <td>1</td>\n",
       "      <td>22</td>\n",
       "      <td>7</td>\n",
       "      <td>2023-01-22</td>\n",
       "      <td>B6</td>\n",
       "      <td>20409</td>\n",
       "      <td>B6</td>\n",
       "      <td>1453</td>\n",
       "      <td>...</td>\n",
       "      <td>1.0</td>\n",
       "      <td>1046.0</td>\n",
       "      <td>5</td>\n",
       "      <td>7.0</td>\n",
       "      <td>0.0</td>\n",
       "      <td>16.0</td>\n",
       "      <td>0.0</td>\n",
       "      <td>0.0</td>\n",
       "      <td>N</td>\n",
       "      <td>False</td>\n",
       "    </tr>\n",
       "    <tr>\n",
       "      <th>3</th>\n",
       "      <td>2023</td>\n",
       "      <td>1</td>\n",
       "      <td>1</td>\n",
       "      <td>22</td>\n",
       "      <td>7</td>\n",
       "      <td>2023-01-22</td>\n",
       "      <td>B6</td>\n",
       "      <td>20409</td>\n",
       "      <td>B6</td>\n",
       "      <td>1454</td>\n",
       "      <td>...</td>\n",
       "      <td>1.0</td>\n",
       "      <td>1046.0</td>\n",
       "      <td>5</td>\n",
       "      <td>NaN</td>\n",
       "      <td>NaN</td>\n",
       "      <td>NaN</td>\n",
       "      <td>NaN</td>\n",
       "      <td>NaN</td>\n",
       "      <td>N</td>\n",
       "      <td>False</td>\n",
       "    </tr>\n",
       "    <tr>\n",
       "      <th>4</th>\n",
       "      <td>2023</td>\n",
       "      <td>1</td>\n",
       "      <td>1</td>\n",
       "      <td>22</td>\n",
       "      <td>7</td>\n",
       "      <td>2023-01-22</td>\n",
       "      <td>B6</td>\n",
       "      <td>20409</td>\n",
       "      <td>B6</td>\n",
       "      <td>1455</td>\n",
       "      <td>...</td>\n",
       "      <td>1.0</td>\n",
       "      <td>399.0</td>\n",
       "      <td>2</td>\n",
       "      <td>NaN</td>\n",
       "      <td>NaN</td>\n",
       "      <td>NaN</td>\n",
       "      <td>NaN</td>\n",
       "      <td>NaN</td>\n",
       "      <td>N</td>\n",
       "      <td>False</td>\n",
       "    </tr>\n",
       "  </tbody>\n",
       "</table>\n",
       "<p>5 rows × 65 columns</p>\n",
       "</div>"
      ],
      "text/plain": [
       "   Year  Quarter  Month  Day_of_Month  Day_of_Week Flight_Date  \\\n",
       "0  2023        1      1            22            7  2023-01-22   \n",
       "1  2023        1      1            22            7  2023-01-22   \n",
       "2  2023        1      1            22            7  2023-01-22   \n",
       "3  2023        1      1            22            7  2023-01-22   \n",
       "4  2023        1      1            22            7  2023-01-22   \n",
       "\n",
       "  Marketing_Airline_Network  DOT_ID_Marketing_Airline  \\\n",
       "0                        B6                     20409   \n",
       "1                        B6                     20409   \n",
       "2                        B6                     20409   \n",
       "3                        B6                     20409   \n",
       "4                        B6                     20409   \n",
       "\n",
       "  IATA_Code_Marketing_Airline  Flight_Number_Marketing_Airline  ... Flights  \\\n",
       "0                          B6                             1447  ...     1.0   \n",
       "1                          B6                             1451  ...     1.0   \n",
       "2                          B6                             1453  ...     1.0   \n",
       "3                          B6                             1454  ...     1.0   \n",
       "4                          B6                             1455  ...     1.0   \n",
       "\n",
       "   Distance Distance_Group Carrier_Delay  Weather_Delay  NAS_Delay  \\\n",
       "0    1032.0              5           NaN            NaN        NaN   \n",
       "1    1121.0              5          39.0            0.0        1.0   \n",
       "2    1046.0              5           7.0            0.0       16.0   \n",
       "3    1046.0              5           NaN            NaN        NaN   \n",
       "4     399.0              2           NaN            NaN        NaN   \n",
       "\n",
       "   Security_Delay  Late_Aircraft_Delay Duplicate Missing_Due_To_Cancellation  \n",
       "0             NaN                  NaN         N                       False  \n",
       "1             0.0                 14.0         N                       False  \n",
       "2             0.0                  0.0         N                       False  \n",
       "3             NaN                  NaN         N                       False  \n",
       "4             NaN                  NaN         N                       False  \n",
       "\n",
       "[5 rows x 65 columns]"
      ]
     },
     "execution_count": 8,
     "metadata": {},
     "output_type": "execute_result"
    }
   ],
   "source": [
    "df.head()"
   ]
  },
  {
   "cell_type": "code",
   "execution_count": 9,
   "id": "39635c19-8afe-46d5-bc56-8acb1e0d6401",
   "metadata": {},
   "outputs": [
    {
     "name": "stdout",
     "output_type": "stream",
     "text": [
      "Airlines DataFrame Columns: Index(['Description'], dtype='object')\n",
      "DF DataFrame Columns: Index(['Year', 'Quarter', 'Month', 'Day_of_Month', 'Day_of_Week',\n",
      "       'Flight_Date', 'Marketing_Airline_Network', 'DOT_ID_Marketing_Airline',\n",
      "       'IATA_Code_Marketing_Airline', 'Flight_Number_Marketing_Airline',\n",
      "       'Operating_Airline ', 'DOT_ID_Operating_Airline',\n",
      "       'IATA_Code_Operating_Airline', 'Tail_Number',\n",
      "       'Flight_Number_Operating_Airline', 'Origin_Airport_ID',\n",
      "       'Origin_Airport_Seq_ID', 'Origin_City_Market_ID', 'Origin',\n",
      "       'Origin_City_Name', 'Origin_State', 'Origin_State_Fips',\n",
      "       'Origin_State_Name', 'Dest_Airport_ID', 'Dest_Airport_Seq_ID',\n",
      "       'Dest_City_Market_ID', 'Dest', 'Dest_City_Name', 'Dest_State',\n",
      "       'Dest_State_Fips', 'Dest_State_Name', 'CRS_Dep_Time', 'Dep_Time',\n",
      "       'Dep_Delay', 'Dep_Delay_Minutes', 'Dep_Del_15',\n",
      "       'Departure_Delay_Groups', 'Dep_Time_Blk', 'Taxi_Out', 'Wheels_Off',\n",
      "       'Wheels_On', 'Taxi_In', 'CRS_Arr_Time', 'Arr_Time', 'Arr_Delay',\n",
      "       'Arr_Delay_Minutes', 'Arr_Del_15', 'Arrival_Delay_Groups',\n",
      "       'Arr_Time_Blk', 'Cancelled', 'Cancellation_Code', 'Diverted',\n",
      "       'CRS_Elapsed_Time', 'Actual_Elapsed_Time', 'Air_Time', 'Flights',\n",
      "       'Distance', 'Distance_Group', 'Carrier_Delay', 'Weather_Delay',\n",
      "       'NAS_Delay', 'Security_Delay', 'Late_Aircraft_Delay', 'Duplicate',\n",
      "       'Missing_Due_To_Cancellation'],\n",
      "      dtype='object')\n"
     ]
    }
   ],
   "source": [
    "# Display the column names to verify\n",
    "print(\"Airlines DataFrame Columns:\", airlines.columns)\n",
    "print(\"DF DataFrame Columns:\", df.columns)"
   ]
  },
  {
   "cell_type": "code",
   "execution_count": 10,
   "id": "87094644-7122-4f55-b4ba-ce324bbfd78d",
   "metadata": {},
   "outputs": [
    {
     "name": "stdout",
     "output_type": "stream",
     "text": [
      "Airlines DataFrame Columns: ['Description']\n",
      "DF DataFrame Columns: ['Year', 'Quarter', 'Month', 'Day_of_Month', 'Day_of_Week', 'Flight_Date', 'Marketing_Airline_Network', 'DOT_ID_Marketing_Airline', 'IATA_Code_Marketing_Airline', 'Flight_Number_Marketing_Airline', 'Operating_Airline ', 'DOT_ID_Operating_Airline', 'IATA_Code_Operating_Airline', 'Tail_Number', 'Flight_Number_Operating_Airline', 'Origin_Airport_ID', 'Origin_Airport_Seq_ID', 'Origin_City_Market_ID', 'Origin', 'Origin_City_Name', 'Origin_State', 'Origin_State_Fips', 'Origin_State_Name', 'Dest_Airport_ID', 'Dest_Airport_Seq_ID', 'Dest_City_Market_ID', 'Dest', 'Dest_City_Name', 'Dest_State', 'Dest_State_Fips', 'Dest_State_Name', 'CRS_Dep_Time', 'Dep_Time', 'Dep_Delay', 'Dep_Delay_Minutes', 'Dep_Del_15', 'Departure_Delay_Groups', 'Dep_Time_Blk', 'Taxi_Out', 'Wheels_Off', 'Wheels_On', 'Taxi_In', 'CRS_Arr_Time', 'Arr_Time', 'Arr_Delay', 'Arr_Delay_Minutes', 'Arr_Del_15', 'Arrival_Delay_Groups', 'Arr_Time_Blk', 'Cancelled', 'Cancellation_Code', 'Diverted', 'CRS_Elapsed_Time', 'Actual_Elapsed_Time', 'Air_Time', 'Flights', 'Distance', 'Distance_Group', 'Carrier_Delay', 'Weather_Delay', 'NAS_Delay', 'Security_Delay', 'Late_Aircraft_Delay', 'Duplicate', 'Missing_Due_To_Cancellation']\n"
     ]
    }
   ],
   "source": [
    "# Display the column names to identify any hidden characters\n",
    "print(\"Airlines DataFrame Columns:\", airlines.columns.tolist())\n",
    "print(\"DF DataFrame Columns:\", df.columns.tolist())"
   ]
  },
  {
   "cell_type": "code",
   "execution_count": 11,
   "id": "f649cd75-6ece-4d50-9a85-7fc6d80da08a",
   "metadata": {},
   "outputs": [],
   "source": [
    "# Strip any leading/trailing spaces from column names\n",
    "df.columns = df.columns.str.strip()\n",
    "airlines.columns = airlines.columns.str.strip()"
   ]
  },
  {
   "cell_type": "code",
   "execution_count": 12,
   "id": "d14ca154-4207-4d93-a4de-f2a00482f7a1",
   "metadata": {},
   "outputs": [
    {
     "name": "stdout",
     "output_type": "stream",
     "text": [
      "Corrected DF DataFrame Columns: ['Year', 'Quarter', 'Month', 'Day_of_Month', 'Day_of_Week', 'Flight_Date', 'Marketing_Airline_Network', 'DOT_ID_Marketing_Airline', 'IATA_Code_Marketing_Airline', 'Flight_Number_Marketing_Airline', 'Operating_Airline', 'DOT_ID_Operating_Airline', 'IATA_Code_Operating_Airline', 'Tail_Number', 'Flight_Number_Operating_Airline', 'Origin_Airport_ID', 'Origin_Airport_Seq_ID', 'Origin_City_Market_ID', 'Origin', 'Origin_City_Name', 'Origin_State', 'Origin_State_Fips', 'Origin_State_Name', 'Dest_Airport_ID', 'Dest_Airport_Seq_ID', 'Dest_City_Market_ID', 'Dest', 'Dest_City_Name', 'Dest_State', 'Dest_State_Fips', 'Dest_State_Name', 'CRS_Dep_Time', 'Dep_Time', 'Dep_Delay', 'Dep_Delay_Minutes', 'Dep_Del_15', 'Departure_Delay_Groups', 'Dep_Time_Blk', 'Taxi_Out', 'Wheels_Off', 'Wheels_On', 'Taxi_In', 'CRS_Arr_Time', 'Arr_Time', 'Arr_Delay', 'Arr_Delay_Minutes', 'Arr_Del_15', 'Arrival_Delay_Groups', 'Arr_Time_Blk', 'Cancelled', 'Cancellation_Code', 'Diverted', 'CRS_Elapsed_Time', 'Actual_Elapsed_Time', 'Air_Time', 'Flights', 'Distance', 'Distance_Group', 'Carrier_Delay', 'Weather_Delay', 'NAS_Delay', 'Security_Delay', 'Late_Aircraft_Delay', 'Duplicate', 'Missing_Due_To_Cancellation']\n",
      "Corrected Airlines DataFrame Columns: ['Description']\n"
     ]
    }
   ],
   "source": [
    "# Verify the corrected column names\n",
    "print(\"Corrected DF DataFrame Columns:\", df.columns.tolist())\n",
    "print(\"Corrected Airlines DataFrame Columns:\", airlines.columns.tolist())"
   ]
  },
  {
   "cell_type": "code",
   "execution_count": 13,
   "id": "5eb2954f-8c3a-4bb7-8dd1-b0d61f90d0e7",
   "metadata": {},
   "outputs": [],
   "source": [
    "# Perform the merge operation\n",
    "df_merged = df.merge(airlines, left_on='Operating_Airline', right_on='Code', how='left')"
   ]
  },
  {
   "cell_type": "code",
   "execution_count": 14,
   "id": "fa525751-0766-49c5-aa30-161a2d4a32e7",
   "metadata": {},
   "outputs": [
    {
     "data": {
      "text/plain": [
       "(7278739, 66)"
      ]
     },
     "execution_count": 14,
     "metadata": {},
     "output_type": "execute_result"
    }
   ],
   "source": [
    "df_merged.shape"
   ]
  },
  {
   "cell_type": "code",
   "execution_count": 15,
   "id": "a077ff9b-ae6a-4749-a88d-ec04ad6cee1e",
   "metadata": {},
   "outputs": [
    {
     "data": {
      "text/plain": [
       "Index(['Year', 'Quarter', 'Month', 'Day_of_Month', 'Day_of_Week',\n",
       "       'Flight_Date', 'Marketing_Airline_Network', 'DOT_ID_Marketing_Airline',\n",
       "       'IATA_Code_Marketing_Airline', 'Flight_Number_Marketing_Airline',\n",
       "       'Operating_Airline', 'DOT_ID_Operating_Airline',\n",
       "       'IATA_Code_Operating_Airline', 'Tail_Number',\n",
       "       'Flight_Number_Operating_Airline', 'Origin_Airport_ID',\n",
       "       'Origin_Airport_Seq_ID', 'Origin_City_Market_ID', 'Origin',\n",
       "       'Origin_City_Name', 'Origin_State', 'Origin_State_Fips',\n",
       "       'Origin_State_Name', 'Dest_Airport_ID', 'Dest_Airport_Seq_ID',\n",
       "       'Dest_City_Market_ID', 'Dest', 'Dest_City_Name', 'Dest_State',\n",
       "       'Dest_State_Fips', 'Dest_State_Name', 'CRS_Dep_Time', 'Dep_Time',\n",
       "       'Dep_Delay', 'Dep_Delay_Minutes', 'Dep_Del_15',\n",
       "       'Departure_Delay_Groups', 'Dep_Time_Blk', 'Taxi_Out', 'Wheels_Off',\n",
       "       'Wheels_On', 'Taxi_In', 'CRS_Arr_Time', 'Arr_Time', 'Arr_Delay',\n",
       "       'Arr_Delay_Minutes', 'Arr_Del_15', 'Arrival_Delay_Groups',\n",
       "       'Arr_Time_Blk', 'Cancelled', 'Cancellation_Code', 'Diverted',\n",
       "       'CRS_Elapsed_Time', 'Actual_Elapsed_Time', 'Air_Time', 'Flights',\n",
       "       'Distance', 'Distance_Group', 'Carrier_Delay', 'Weather_Delay',\n",
       "       'NAS_Delay', 'Security_Delay', 'Late_Aircraft_Delay', 'Duplicate',\n",
       "       'Missing_Due_To_Cancellation', 'Description'],\n",
       "      dtype='object')"
      ]
     },
     "execution_count": 15,
     "metadata": {},
     "output_type": "execute_result"
    }
   ],
   "source": [
    "df_merged.columns"
   ]
  },
  {
   "cell_type": "code",
   "execution_count": 16,
   "id": "51ec3b9c-c7d8-493e-a522-3d56412d933b",
   "metadata": {},
   "outputs": [
    {
     "data": {
      "text/plain": [
       "0    B6\n",
       "1    B6\n",
       "2    B6\n",
       "3    B6\n",
       "4    B6\n",
       "Name: Operating_Airline, dtype: object"
      ]
     },
     "execution_count": 16,
     "metadata": {},
     "output_type": "execute_result"
    }
   ],
   "source": [
    "df_merged['Operating_Airline'].head()"
   ]
  },
  {
   "cell_type": "code",
   "execution_count": 17,
   "id": "82d719c6-ae30-45ca-9827-003981e665e0",
   "metadata": {},
   "outputs": [
    {
     "data": {
      "text/plain": [
       "0    JetBlue Airways\n",
       "1    JetBlue Airways\n",
       "2    JetBlue Airways\n",
       "3    JetBlue Airways\n",
       "4    JetBlue Airways\n",
       "Name: Description, dtype: object"
      ]
     },
     "execution_count": 17,
     "metadata": {},
     "output_type": "execute_result"
    }
   ],
   "source": [
    "df_merged['Description'].head()"
   ]
  },
  {
   "cell_type": "code",
   "execution_count": 18,
   "id": "841d8e08-68d6-4797-82dc-4d555812ba2f",
   "metadata": {},
   "outputs": [],
   "source": [
    "#Rename Description Column to Airline for ease of reference and a more accurate title\n",
    "df_merged.rename(columns={'Description': 'Airline'}, inplace=True)"
   ]
  },
  {
   "cell_type": "code",
   "execution_count": 19,
   "id": "6a15635b-1123-4fbb-9040-70abe6839c33",
   "metadata": {},
   "outputs": [
    {
     "data": {
      "text/plain": [
       "Airline\n",
       "Southwest Airlines Co.                       1438465\n",
       "Delta Air Lines Inc.                          984986\n",
       "American Airlines Inc.                        940531\n",
       "United Air Lines Inc.                         732212\n",
       "SkyWest Airlines Inc.                         675285\n",
       "Republic Airlines                             295651\n",
       "JetBlue Airways                               274852\n",
       "Spirit Air Lines                              263871\n",
       "Alaska Airlines Inc.                          245344\n",
       "Envoy Air                                     227505\n",
       "Endeavor Air Inc.                             201517\n",
       "Comair Inc.                                   194205\n",
       "Frontier Airlines Inc.                        177542\n",
       "Allegiant Air                                 115539\n",
       "Capital Cargo International                    99047\n",
       "Mesa Airlines Inc.                             88679\n",
       "Hawaiian Airlines Inc.                         80967\n",
       "Commutair Aka Champlain Enterprises, Inc.      70809\n",
       "Horizon Air                                    68599\n",
       "Air Wisconsin Airlines Corp                    58078\n",
       "GoJet Airlines, LLC d/b/a United Express       45055\n",
       "Name: count, dtype: int64"
      ]
     },
     "execution_count": 19,
     "metadata": {},
     "output_type": "execute_result"
    }
   ],
   "source": [
    "df_merged['Airline'].value_counts()"
   ]
  },
  {
   "cell_type": "code",
   "execution_count": 20,
   "id": "545fbd7c-d19f-4c3c-9d32-c82a556dd856",
   "metadata": {},
   "outputs": [],
   "source": [
    "#Prepare objects for plotting bar chart\n",
    "\n",
    "airline_counts = df_merged['Airline'].value_counts()"
   ]
  },
  {
   "cell_type": "code",
   "execution_count": 21,
   "id": "2ebfa02d-f166-4168-b3b0-35a257f3b1fb",
   "metadata": {},
   "outputs": [],
   "source": [
    "#Sort the counts\n",
    "\n",
    "airline_counts = airline_counts.sort_index()"
   ]
  },
  {
   "cell_type": "code",
   "execution_count": 22,
   "id": "7a44c6a0-57d2-42dd-87fb-b532dc855a16",
   "metadata": {},
   "outputs": [],
   "source": [
    "#Abbreviate Airline names to improve visual\n",
    "\n",
    "abbreviated_airlines = airline_counts.index.to_series().apply(lambda x: x[:10])"
   ]
  },
  {
   "cell_type": "code",
   "execution_count": 23,
   "id": "55a5d156-a2ab-47e6-ab31-cb2f38ee84c3",
   "metadata": {},
   "outputs": [],
   "source": [
    "#Sort Values for descending visual\n",
    "\n",
    "airline_counts = df_merged['Airline'].value_counts().sort_values(ascending=False)"
   ]
  },
  {
   "cell_type": "code",
   "execution_count": 24,
   "id": "8500ec6c-dbb9-4b3c-b4f3-7a8538e116d5",
   "metadata": {},
   "outputs": [],
   "source": [
    "# Create a dictionary to map full airline names to their abbreviations\n",
    "abbreviations = {name: name[:10] for name in airline_counts.index}\n",
    "\n",
    "# Apply the abbreviations to the index\n",
    "abbreviated_airlines = airline_counts.index.to_series().map(abbreviations)"
   ]
  },
  {
   "cell_type": "code",
   "execution_count": 25,
   "id": "6eec02f7-6916-4b92-921d-93c7b6081ce5",
   "metadata": {},
   "outputs": [
    {
     "data": {
      "image/png": "[encoded data removed]",
      "text/plain": [
       "<Figure size 1200x600 with 1 Axes>"
      ]
     },
     "metadata": {},
     "output_type": "display_data"
    }
   ],
   "source": [
    "#Plot Bar Chart\n",
    "\n",
    "import matplotlib.pyplot as plt\n",
    "\n",
    "airline_counts_2023_bar = plt.figure(figsize=(12, 6))\n",
    "plt.bar(abbreviated_airlines, airline_counts.values)\n",
    "plt.title('2023 Airline Counts')\n",
    "plt.xlabel('Airline')\n",
    "plt.ylabel('Flights')\n",
    "plt.xticks(rotation=45)\n",
    "plt.grid(axis='y')\n",
    "\n",
    "# Set y-axis to plain numbers\n",
    "plt.ticklabel_format(style='plain', axis='y')\n",
    "\n",
    "plt.tight_layout()\n",
    "plt.show()"
   ]
  },
  {
   "cell_type": "code",
   "execution_count": 26,
   "id": "7e227da0-1a26-4328-b6c6-9ceda4927a63",
   "metadata": {},
   "outputs": [],
   "source": [
    "# Save the Bar Chart as an image\n",
    "\n",
    "airline_counts_2023_bar.figure.savefig(os.path.join(path, '03 - Visuals', 'airline_counts_2023_bar.png'))"
   ]
  },
  {
   "cell_type": "code",
   "execution_count": 27,
   "id": "54559981-3138-4d8c-a23a-067cf2592a80",
   "metadata": {},
   "outputs": [],
   "source": [
    "# Save 2023 flights dataframe, now with Airlines column\n",
    "\n",
    "df_merged.to_csv(os.path.join(path, 'flights2023.csv'))"
   ]
  }
 ],
 "metadata": {
  "kernelspec": {
   "display_name": "Python 3 (ipykernel)",
   "language": "python",
   "name": "python3"
  },
  "language_info": {
   "codemirror_mode": {
    "name": "ipython",
    "version": 3
   },
   "file_extension": ".py",
   "mimetype": "text/x-python",
   "name": "python",
   "nbconvert_exporter": "python",
   "pygments_lexer": "ipython3",
   "version": "3.11.5"
  }
 },
 "nbformat": 4,
 "nbformat_minor": 5
}
