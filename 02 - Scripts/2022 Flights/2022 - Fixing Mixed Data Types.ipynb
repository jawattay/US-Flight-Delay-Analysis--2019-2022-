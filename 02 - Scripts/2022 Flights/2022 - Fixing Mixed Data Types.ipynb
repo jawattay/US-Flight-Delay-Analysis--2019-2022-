{
 "cells": [
  {
   "cell_type": "code",
   "execution_count": 1,
   "id": "b7b523e9-a92e-4816-a017-18a5d9ac6c39",
   "metadata": {},
   "outputs": [],
   "source": [
    "import pandas as pd\n",
    "import os"
   ]
  },
  {
   "cell_type": "code",
   "execution_count": 2,
   "id": "214305d9-f054-4a1a-af5f-dca2b59a0bc6",
   "metadata": {},
   "outputs": [],
   "source": [
    "path = r'C:\\Users\\Josh Wattay\\OneDrive\\Documents\\Desktop\\Flight Delay Analysis - Raw Data'"
   ]
  },
  {
   "cell_type": "code",
   "execution_count": 3,
   "id": "49655429-3a52-40ee-b96d-f76daed26e6b",
   "metadata": {},
   "outputs": [
    {
     "name": "stderr",
     "output_type": "stream",
     "text": [
      "C:\\Users\\Josh Wattay\\AppData\\Local\\Temp\\ipykernel_16460\\2985220743.py:1: DtypeWarning: Columns (51) have mixed types. Specify dtype option on import or set low_memory=False.\n",
      "  df = pd.read_csv(os.path.join(path, '2022', 'Clean', 'clean_flights2022.csv'), index_col = 0)\n"
     ]
    }
   ],
   "source": [
    "df = pd.read_csv(os.path.join(path, '2022', 'Clean', 'clean_flights2022.csv'), index_col = 0)"
   ]
  },
  {
   "cell_type": "code",
   "execution_count": 4,
   "id": "588addb7-0b4b-4a69-af95-71a9d4135b45",
   "metadata": {},
   "outputs": [
    {
     "name": "stdout",
     "output_type": "stream",
     "text": [
      "Tail_Number\n",
      "Cancellation_Code\n"
     ]
    }
   ],
   "source": [
    "#check for mixed-type data\n",
    "for col in df.columns.tolist():\n",
    "    weird = (df[[col]].map(type) != df\n",
    "             [[col]].iloc[0].apply(type)).any(axis = 1)\n",
    "    if len (df[weird]) > 0:\n",
    "        print (col)"
   ]
  },
  {
   "cell_type": "code",
   "execution_count": 5,
   "id": "dc124de5-62d7-4699-a0eb-e69d8665042d",
   "metadata": {},
   "outputs": [
    {
     "name": "stdout",
     "output_type": "stream",
     "text": [
      "['N315DN' 'N545US' 'N345NB' ... 'N755YX' 'N754YX' 'N753YX']\n",
      "['A' nan 'B' 'C' 'D']\n"
     ]
    },
    {
     "name": "stderr",
     "output_type": "stream",
     "text": [
      "C:\\Users\\Josh Wattay\\AppData\\Local\\Temp\\ipykernel_16460\\1361526172.py:6: FutureWarning: A value is trying to be set on a copy of a DataFrame or Series through chained assignment using an inplace method.\n",
      "The behavior will change in pandas 3.0. This inplace method will never work because the intermediate object on which we are setting values always behaves as a copy.\n",
      "\n",
      "For example, when doing 'df[col].method(value, inplace=True)', try using 'df.method({col: value}, inplace=True)' or df[col] = df[col].method(value) instead, to perform the operation inplace on the original object.\n",
      "\n",
      "\n",
      "  df['Tail_Number'].fillna('Unknown', inplace=True)\n",
      "C:\\Users\\Josh Wattay\\AppData\\Local\\Temp\\ipykernel_16460\\1361526172.py:7: FutureWarning: A value is trying to be set on a copy of a DataFrame or Series through chained assignment using an inplace method.\n",
      "The behavior will change in pandas 3.0. This inplace method will never work because the intermediate object on which we are setting values always behaves as a copy.\n",
      "\n",
      "For example, when doing 'df[col].method(value, inplace=True)', try using 'df.method({col: value}, inplace=True)' or df[col] = df[col].method(value) instead, to perform the operation inplace on the original object.\n",
      "\n",
      "\n",
      "  df['Cancellation_Code'].fillna('None', inplace=True)\n"
     ]
    }
   ],
   "source": [
    "# Check unique values to understand the issue\n",
    "print(df['Tail_Number'].unique())\n",
    "print(df['Cancellation_Code'].unique())\n",
    "\n",
    "# Handle missing values by filling them with a placeholder\n",
    "df['Tail_Number'].fillna('Unknown', inplace=True)\n",
    "df['Cancellation_Code'].fillna('None', inplace=True)\n",
    "\n",
    "# Convert columns to string\n",
    "df['Tail_Number'] = df['Tail_Number'].astype(str)\n",
    "df['Cancellation_Code'] = df['Cancellation_Code'].astype(str)"
   ]
  },
  {
   "cell_type": "code",
   "execution_count": 6,
   "id": "2ed933c2-b3ab-4e30-932f-ef22a787af89",
   "metadata": {},
   "outputs": [
    {
     "data": {
      "text/plain": [
       "Index(['Year', 'Quarter', 'Month', 'Day_of_Month', 'Day_of_Week',\n",
       "       'Flight_Date', 'Marketing_Airline_Network', 'DOT_ID_Marketing_Airline',\n",
       "       'IATA_Code_Marketing_Airline', 'Flight_Number_Marketing_Airline',\n",
       "       'Operating_Airline ', 'DOT_ID_Operating_Airline',\n",
       "       'IATA_Code_Operating_Airline', 'Tail_Number',\n",
       "       'Flight_Number_Operating_Airline', 'Origin_Airport_ID',\n",
       "       'Origin_Airport_Seq_ID', 'Origin_City_Market_ID', 'Origin',\n",
       "       'Origin_City_Name', 'Origin_State', 'Origin_State_Fips',\n",
       "       'Origin_State_Name', 'Dest_Airport_ID', 'Dest_Airport_Seq_ID',\n",
       "       'Dest_City_Market_ID', 'Dest', 'Dest_City_Name', 'Dest_State',\n",
       "       'Dest_State_Fips', 'Dest_State_Name', 'CRS_Dep_Time', 'Dep_Time',\n",
       "       'Dep_Delay', 'Dep_Delay_Minutes', 'Dep_Del_15',\n",
       "       'Departure_Delay_Groups', 'Dep_Time_Blk', 'Taxi_Out', 'Wheels_Off',\n",
       "       'Wheels_On', 'Taxi_In', 'CRS_Arr_Time', 'Arr_Time', 'Arr_Delay',\n",
       "       'Arr_Delay_Minutes', 'Arr_Del_15', 'Arrival_Delay_Groups',\n",
       "       'Arr_Time_Blk', 'Cancelled', 'Cancellation_Code', 'Diverted',\n",
       "       'CRS_Elapsed_Time', 'Actual_Elapsed_Time', 'Air_Time', 'Flights',\n",
       "       'Distance', 'Distance_Group', 'Carrier_Delay', 'Weather_Delay',\n",
       "       'NAS_Delay', 'Security_Delay', 'Late_Aircraft_Delay', 'Duplicate',\n",
       "       'Missing_Due_To_Cancellation'],\n",
       "      dtype='object')"
      ]
     },
     "execution_count": 6,
     "metadata": {},
     "output_type": "execute_result"
    }
   ],
   "source": [
    "#Check Spelling on Columns\n",
    "\n",
    "df.columns"
   ]
  },
  {
   "cell_type": "code",
   "execution_count": 7,
   "id": "ae30203b-f14d-4ed3-8466-419a8fbd1cb6",
   "metadata": {},
   "outputs": [],
   "source": [
    "df.rename(columns = {'Operating Airline ': 'Operating Airline'}, inplace=True)"
   ]
  },
  {
   "cell_type": "code",
   "execution_count": 8,
   "id": "a6173ece-de86-4676-823e-fb6cce52f229",
   "metadata": {},
   "outputs": [],
   "source": [
    "# Save Clean 2022 Data\n",
    "\n",
    "df.to_csv(os.path.join(path, 'clean_flights2022.csv'))"
   ]
  },
  {
   "cell_type": "code",
   "execution_count": null,
   "id": "81e66629-06b7-4e5e-ae41-0c85d3435cea",
   "metadata": {},
   "outputs": [],
   "source": []
  }
 ],
 "metadata": {
  "kernelspec": {
   "display_name": "Python 3 (ipykernel)",
   "language": "python",
   "name": "python3"
  },
  "language_info": {
   "codemirror_mode": {
    "name": "ipython",
    "version": 3
   },
   "file_extension": ".py",
   "mimetype": "text/x-python",
   "name": "python",
   "nbconvert_exporter": "python",
   "pygments_lexer": "ipython3",
   "version": "3.11.5"
  }
 },
 "nbformat": 4,
 "nbformat_minor": 5
}
