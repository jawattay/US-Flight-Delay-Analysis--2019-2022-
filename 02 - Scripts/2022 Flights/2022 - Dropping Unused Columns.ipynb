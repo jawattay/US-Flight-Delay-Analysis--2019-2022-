{
 "cells": [
  {
   "cell_type": "code",
   "execution_count": 1,
   "id": "b7b523e9-a92e-4816-a017-18a5d9ac6c39",
   "metadata": {},
   "outputs": [],
   "source": [
    "import pandas as pd\n",
    "import os"
   ]
  },
  {
   "cell_type": "code",
   "execution_count": 2,
   "id": "214305d9-f054-4a1a-af5f-dca2b59a0bc6",
   "metadata": {},
   "outputs": [],
   "source": [
    "path = r'D:\\Data Analytics\\Flight Delay Analysis\\01 - Data\\Wrangled Data'"
   ]
  },
  {
   "cell_type": "code",
   "execution_count": 3,
   "id": "49655429-3a52-40ee-b96d-f76daed26e6b",
   "metadata": {},
   "outputs": [
    {
     "name": "stderr",
     "output_type": "stream",
     "text": [
      "C:\\Users\\Josh Wattay\\AppData\\Local\\Temp\\ipykernel_2732\\655436424.py:1: DtypeWarning: Columns (51) have mixed types. Specify dtype option on import or set low_memory=False.\n",
      "  df = pd.read_csv(os.path.join(path, 'flights2022.csv'), index_col = 0)\n"
     ]
    }
   ],
   "source": [
    "df = pd.read_csv(os.path.join(path, 'flights2022.csv'), index_col = 0)"
   ]
  },
  {
   "cell_type": "code",
   "execution_count": 4,
   "id": "3034306e-a8d2-43e3-b6ee-37730c4547de",
   "metadata": {},
   "outputs": [
    {
     "data": {
      "text/plain": [
       "(7013508, 67)"
      ]
     },
     "execution_count": 4,
     "metadata": {},
     "output_type": "execute_result"
    }
   ],
   "source": [
    "df.shape"
   ]
  },
  {
   "cell_type": "code",
   "execution_count": 5,
   "id": "c1f1a0cc-061d-4683-b7b5-a1e01d6979e8",
   "metadata": {},
   "outputs": [
    {
     "data": {
      "text/plain": [
       "Index(['Year', 'Quarter', 'Month', 'Day_of_Month', 'Day_of_Week',\n",
       "       'Flight_Date', 'Marketing_Airline_Network_Code',\n",
       "       'DOT_ID_Marketing_Airline', 'IATA_Code_Marketing_Airline',\n",
       "       'Flight_Number_Marketing_Airline', 'Operating_Airline',\n",
       "       'DOT_ID_Operating_Airline', 'IATA_Code_Operating_Airline',\n",
       "       'Tail_Number', 'Flight_Number_Operating_Airline', 'Origin_Airport_ID',\n",
       "       'Origin_Airport_Seq_ID', 'Origin_City_Market_ID', 'Origin',\n",
       "       'Origin_City_Name', 'Origin_State', 'Origin_State_Fips',\n",
       "       'Origin_State_Name', 'Dest_Airport_ID', 'Dest_Airport_Seq_ID',\n",
       "       'Dest_City_Market_ID', 'Dest', 'Dest_City_Name', 'Dest_State',\n",
       "       'Dest_State_Fips', 'Dest_State_Name', 'CRS_Dep_Time', 'Dep_Time',\n",
       "       'Dep_Delay', 'Dep_Delay_Minutes', 'Dep_Del_15',\n",
       "       'Departure_Delay_Groups', 'Dep_Time_Blk', 'Taxi_Out', 'Wheels_Off',\n",
       "       'Wheels_On', 'Taxi_In', 'CRS_Arr_Time', 'Arr_Time', 'Arr_Delay',\n",
       "       'Arr_Delay_Minutes', 'Arr_Del_15', 'Arrival_Delay_Groups',\n",
       "       'Arr_Time_Blk', 'Cancelled', 'Cancellation_Code', 'Diverted',\n",
       "       'CRS_Elapsed_Time', 'Actual_Elapsed_Time', 'Air_Time', 'Flights',\n",
       "       'Distance', 'Distance_Group', 'Carrier_Delay', 'Weather_Delay',\n",
       "       'NAS_Delay', 'Security_Delay', 'Late_Aircraft_Delay', 'Duplicate',\n",
       "       'Missing_Due_To_Cancellation', 'Airline', 'Marketing_Airline_Network'],\n",
       "      dtype='object')"
      ]
     },
     "execution_count": 5,
     "metadata": {},
     "output_type": "execute_result"
    }
   ],
   "source": [
    "df.columns"
   ]
  },
  {
   "cell_type": "code",
   "execution_count": 6,
   "id": "ae30203b-f14d-4ed3-8466-419a8fbd1cb6",
   "metadata": {},
   "outputs": [],
   "source": [
    "# Define Unused Columns to Drop\n",
    "\n",
    "columns_to_drop = ['DOT_ID_Marketing_Airline', 'Flight_Number_Marketing_Airline', 'DOT_ID_Operating_Airline',\n",
    "                  'Origin_State_Fips', 'Dest_State_Fips', 'Taxi_Out', 'Taxi_In']"
   ]
  },
  {
   "cell_type": "code",
   "execution_count": 7,
   "id": "3fb7d8f0-5838-46e9-af93-876e565dcc3a",
   "metadata": {},
   "outputs": [],
   "source": [
    "# Drop columns\n",
    "\n",
    "df = df.drop(columns=columns_to_drop)"
   ]
  },
  {
   "cell_type": "code",
   "execution_count": 8,
   "id": "28e6f859-f47d-4d2f-9617-c4775ad93557",
   "metadata": {},
   "outputs": [
    {
     "data": {
      "text/plain": [
       "(7013508, 60)"
      ]
     },
     "execution_count": 8,
     "metadata": {},
     "output_type": "execute_result"
    }
   ],
   "source": [
    "df.shape"
   ]
  },
  {
   "cell_type": "code",
   "execution_count": 9,
   "id": "a6173ece-de86-4676-823e-fb6cce52f229",
   "metadata": {},
   "outputs": [],
   "source": [
    "# Save Wrangled 2022 Data\n",
    "\n",
    "df.to_csv(os.path.join(path, 'flights2022.csv'))"
   ]
  }
 ],
 "metadata": {
  "kernelspec": {
   "display_name": "Python 3 (ipykernel)",
   "language": "python",
   "name": "python3"
  },
  "language_info": {
   "codemirror_mode": {
    "name": "ipython",
    "version": 3
   },
   "file_extension": ".py",
   "mimetype": "text/x-python",
   "name": "python",
   "nbconvert_exporter": "python",
   "pygments_lexer": "ipython3",
   "version": "3.11.5"
  }
 },
 "nbformat": 4,
 "nbformat_minor": 5
}
